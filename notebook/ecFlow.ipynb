{
 "cells": [
  {
   "cell_type": "markdown",
   "metadata": {},
   "source": [
    "![ecflow](anim/ecflow_el.gif)"
   ]
  },
  {
   "cell_type": "markdown",
   "metadata": {
    "slideshow": {
     "slide_type": "subslide"
    }
   },
   "source": [
    "- This is a snapshot of ecflow_ui, the ecFlow GUI\n",
    "- The top *node* is the **server node**, called eowyn here\n",
    "- right below are the **suites** nodes which contain **families** and **tasks**\n",
    "- the family node is a container for families and task\n",
    "- the **task** node is the leaf node from which a **job** is created by ecflow and **submitted**, locally or remotely\n",
    "- an **alias** node can be created from the GUI, to dynamically modify the script and variables from a task, for an independent submission, in case of debugging, fixing, It is attached to the task and can be removed directly. Multiple aliases can run simultaneously when the task is well designed (different work directory).\n",
    "- you can see we can attach **attributes** to nodes: \n",
    "    -**label, meter, event** which may be updated from the job to follow its progress, reporting a string, an integer, or a boolean (set)\n",
    "    -**date, time, trigger** (black), **complete** (blue)\n",
    "    -when the task has to run, a job is submitted, which reports its **status** so that task colour changes.\n",
    "    -**late** attribute is alos visible here."
   ]
  },
  {
   "cell_type": "markdown",
   "metadata": {
    "slideshow": {
     "slide_type": "slide"
    }
   },
   "source": [
    "![workflow](anim/ecflow.gif)"
   ]
  },
  {
   "cell_type": "markdown",
   "metadata": {
    "slideshow": {
     "slide_type": "subslide"
    }
   },
   "source": [
    "# ecFlow components\n",
    "\n",
    "  - the **ecflow_server**, \n",
    "  - the clients (**ecflow_client**, the command line text client, **ecflow_ui** the GUI, and the **python API** for python clients). \n",
    "  - A **template language** is understood by ecFLow to transform the **task template scripts** into **job files**.\n",
    "\n",
    "- the template language is generic, so that _you_ decide which language the job will be, bash, ksh, python, perl,...\n",
    "- You start describing the tasks to run, their relations and dependencies, as a **suite** in a **definition file**\n",
    "- You load the suite into the server\n",
    "- You provide the script templates that the ecFlow server shall read at the moment the jobs shall be generated\n",
    "- when the dependencies are fulfilled (Date, Time, Trigger, Complete, Inlimit) the job is created and submitted. At that moment the task is **submitted**. If anything is problematic, the task turns **aborted**\n",
    "   -for example, the job could not be created, or it could not be submitted, maybe the remote system not responding or it is refusing the submission (queue, account, size of the job) \n",
    "- the jobs starts and writes its progress into the output file. it reports to ecflow server using the **ecflow_client** \n",
    "  -**ecflow_client --init** reports the job **active**\n",
    "  -**ecflow_client --complete** reports sucessful completion\n",
    "  -at anytime if something goes wront the jobs shall send the **ecflow_client --abort** command to report the task **aborted**"
   ]
  },
  {
   "cell_type": "markdown",
   "metadata": {
    "slideshow": {
     "slide_type": "slide"
    }
   },
   "source": [
    "![mindmap](anim/ecflowmm.png)"
   ]
  },
  {
   "cell_type": "markdown",
   "metadata": {
    "slideshow": {
     "slide_type": "slide"
    }
   },
   "source": [
    "![status flow](anim/ecflow_status.gif)"
   ]
  },
  {
   "cell_type": "markdown",
   "metadata": {
    "slideshow": {
     "slide_type": "slide"
    }
   },
   "source": [
    "## Status transition\n",
    "- Initially, when a suite is loaded for the first time, its status is **unknown**, so that no job is immediately submitted. It gives a chance for the suite designer to check that it is as expected:\n",
    "  - scripts and headers can be read by the server, \n",
    "  - that there is no variable used in the script, yet not defined in the suite, \n",
    "  - the structure of the suite reflect expectation. \n",
    "  - at that time, nodes can be suspended from the GUI, deleted, their position modified.\n",
    "- The **begin** command will let the ecFlow server to initialise servers variables, nodes statuses, and even start jobs when the server is in **restarted mode** and the suite node is not **suspended**\n",
    "- At that moment, if some jobs cannot be created/submitted, few tasks may turn **aborted**\n",
    "- most shall remain **queued**, as the default status, waiting the dependencies to be reached (Date, Time, Trigger, Complete, Inlimit)\n",
    "- the suite definition may contain some nodes using the attribute **defstatus**. It defines the default status of a node when it is requeued or when the suite is begun.\n",
    "- transiently, submitted jobs are visible (when submitted to a queuing system, when it can last few seconds)\n",
    "- when the job is started and calls **ecflow_client --init** the task turns **active**\n",
    "- when the job is completing **ecflow_client --complete** is called\n",
    "- a job may face problem, and report that with **ecflow_client --abort**\n",
    "- the variables **ECF_JOB_CMD** and **ECF_KILL_CMD** can be defined in the suite, and modified throughout, reflecting the command the ecFlow server shall call to submit or kill the job."
   ]
  },
  {
   "cell_type": "code",
   "execution_count": 1,
   "metadata": {
    "scrolled": true,
    "slideshow": {
     "slide_type": "slide"
    }
   },
   "outputs": [
    {
     "data": {
      "text/plain": [
       "\n",
       "IPython -- An enhanced Interactive Python - Quick Reference Card\n",
       "================================================================\n",
       "\n",
       "obj?, obj??      : Get help, or more help for object (also works as\n",
       "                   ?obj, ??obj).\n",
       "?foo.*abc*       : List names in 'foo' containing 'abc' in them.\n",
       "%magic           : Information about IPython's 'magic' % functions.\n",
       "\n",
       "Magic functions are prefixed by % or %%, and typically take their arguments\n",
       "without parentheses, quotes or even commas for convenience.  Line magics take a\n",
       "single % and cell magics are prefixed with two %%.\n",
       "\n",
       "Example magic function calls:\n",
       "\n",
       "%alias d ls -F   : 'd' is now an alias for 'ls -F'\n",
       "alias d ls -F    : Works if 'alias' not a python name\n",
       "alist = %alias   : Get list of aliases to 'alist'\n",
       "cd /usr/share    : Obvious. cd -<tab> to choose from visited dirs.\n",
       "%cd??            : See help AND source for magic %cd\n",
       "%timeit x=10     : time the 'x=10' statement with high precision.\n",
       "%%timeit x=2**100\n",
       "x**100           : time 'x**100' with a setup of 'x=2**100'; setup code is not\n",
       "                   counted.  This is an example of a cell magic.\n",
       "\n",
       "System commands:\n",
       "\n",
       "!cp a.txt b/     : System command escape, calls os.system()\n",
       "cp a.txt b/      : after %rehashx, most system commands work without !\n",
       "cp ${f}.txt $bar : Variable expansion in magics and system commands\n",
       "files = !ls /usr : Capture system command output\n",
       "files.s, files.l, files.n: \"a b c\", ['a','b','c'], 'a\\nb\\nc'\n",
       "\n",
       "History:\n",
       "\n",
       "_i, _ii, _iii    : Previous, next previous, next next previous input\n",
       "_i4, _ih[2:5]    : Input history line 4, lines 2-4\n",
       "exec(_i81)       : Execute input history line #81 again\n",
       "%rep 81          : Edit input history line #81\n",
       "_, __, ___       : previous, next previous, next next previous output\n",
       "_dh              : Directory history\n",
       "_oh              : Output history\n",
       "%hist            : Command history of current session.\n",
       "%hist -g foo     : Search command history of (almost) all sessions for 'foo'.\n",
       "%hist -g         : Command history of (almost) all sessions.\n",
       "%hist 1/2-8      : Command history containing lines 2-8 of session 1.\n",
       "%hist 1/ ~2/     : Command history of session 1 and 2 sessions before current.\n",
       "%hist ~8/1-~6/5  : Command history from line 1 of 8 sessions ago to\n",
       "                   line 5 of 6 sessions ago.\n",
       "%edit 0/         : Open editor to execute code with history of current session.\n",
       "\n",
       "Autocall:\n",
       "\n",
       "f 1,2            : f(1,2)  # Off by default, enable with %autocall magic.\n",
       "/f 1,2           : f(1,2) (forced autoparen)\n",
       ",f 1 2           : f(\"1\",\"2\")\n",
       ";f 1 2           : f(\"1 2\")\n",
       "\n",
       "Remember: TAB completion works in many contexts, not just file names\n",
       "or python names.\n",
       "\n",
       "The following magic functions are currently available:\n",
       "\n",
       "%aimport:\n",
       "    %aimport => Import modules for automatic reloading.\n",
       "%alias:\n",
       "    Define an alias for a system command.\n",
       "%alias_magic:\n",
       "    ::\n",
       "%autoawait:\n",
       "    \n",
       "%autocall:\n",
       "    Make functions callable without having to type parentheses.\n",
       "%automagic:\n",
       "    Make magic functions callable without having to type the initial %.\n",
       "%autoreload:\n",
       "    %autoreload => Reload modules automatically\n",
       "%autosave:\n",
       "    Set the autosave interval in the notebook (in seconds).\n",
       "%bookmark:\n",
       "    Manage IPython's bookmark system.\n",
       "%cat:\n",
       "    Alias for `!cat`\n",
       "%cd:\n",
       "    Change the current working directory.\n",
       "%clear:\n",
       "    Clear the terminal.\n",
       "%colors:\n",
       "    Switch color scheme for prompts, info system and exception handlers.\n",
       "%conda:\n",
       "    Run the conda package manager within the current kernel.\n",
       "%config:\n",
       "    configure IPython\n",
       "%connect_info:\n",
       "    Print information for connecting other clients to this kernel\n",
       "%cp:\n",
       "    Alias for `!cp`\n",
       "%debug:\n",
       "    ::\n",
       "%dhist:\n",
       "    Print your history of visited directories.\n",
       "%dirs:\n",
       "    Return the current directory stack.\n",
       "%doctest_mode:\n",
       "    Toggle doctest mode on and off.\n",
       "%ed:\n",
       "    Alias for `%edit`.\n",
       "%edit:\n",
       "    Bring up an editor and execute the resulting code.\n",
       "%env:\n",
       "    Get, set, or list environment variables.\n",
       "%gui:\n",
       "    Enable or disable IPython GUI event loop integration.\n",
       "%hist:\n",
       "    Alias for `%history`.\n",
       "%history:\n",
       "    ::\n",
       "%killbgscripts:\n",
       "    Kill all BG processes started by %%script and its family.\n",
       "%ldir:\n",
       "    Alias for `!ls -F -G -l %l | grep /$`\n",
       "%less:\n",
       "    Show a file through the pager.\n",
       "%lf:\n",
       "    Alias for `!ls -F -l -G %l | grep ^-`\n",
       "%lk:\n",
       "    Alias for `!ls -F -l -G %l | grep ^l`\n",
       "%ll:\n",
       "    Alias for `!ls -F -l -G`\n",
       "%load:\n",
       "    Load code into the current frontend.\n",
       "%load_ext:\n",
       "    Load an IPython extension by its module name.\n",
       "%loadpy:\n",
       "    Alias of `%load`\n",
       "%logoff:\n",
       "    Temporarily stop logging.\n",
       "%logon:\n",
       "    Restart logging.\n",
       "%logstart:\n",
       "    Start logging anywhere in a session.\n",
       "%logstate:\n",
       "    Print the status of the logging system.\n",
       "%logstop:\n",
       "    Fully stop logging and close log file.\n",
       "%ls:\n",
       "    Alias for `!ls -F -G`\n",
       "%lsmagic:\n",
       "    List currently available magic functions.\n",
       "%lx:\n",
       "    Alias for `!ls -F -l -G %l | grep ^-..x`\n",
       "%macro:\n",
       "    Define a macro for future re-execution. It accepts ranges of history,\n",
       "%magic:\n",
       "    Print information about the magic function system.\n",
       "%man:\n",
       "    Find the man page for the given command and display in pager.\n",
       "%matplotlib:\n",
       "    ::\n",
       "%mkdir:\n",
       "    Alias for `!mkdir`\n",
       "%more:\n",
       "    Show a file through the pager.\n",
       "%mv:\n",
       "    Alias for `!mv`\n",
       "%notebook:\n",
       "    ::\n",
       "%page:\n",
       "    Pretty print the object and display it through a pager.\n",
       "%pastebin:\n",
       "    Upload code to dpaste.com, returning the URL.\n",
       "%pdb:\n",
       "    Control the automatic calling of the pdb interactive debugger.\n",
       "%pdef:\n",
       "    Print the call signature for any callable object.\n",
       "%pdoc:\n",
       "    Print the docstring for an object.\n",
       "%pfile:\n",
       "    Print (or run through pager) the file where an object is defined.\n",
       "%pinfo:\n",
       "    Provide detailed information about an object.\n",
       "%pinfo2:\n",
       "    Provide extra detailed information about an object.\n",
       "%pip:\n",
       "    Run the pip package manager within the current kernel.\n",
       "%popd:\n",
       "    Change to directory popped off the top of the stack.\n",
       "%pprint:\n",
       "    Toggle pretty printing on/off.\n",
       "%precision:\n",
       "    Set floating point precision for pretty printing.\n",
       "%prun:\n",
       "    Run a statement through the python code profiler.\n",
       "%psearch:\n",
       "    Search for object in namespaces by wildcard.\n",
       "%psource:\n",
       "    Print (or run through pager) the source code for an object.\n",
       "%pushd:\n",
       "    Place the current dir on stack and change directory.\n",
       "%pwd:\n",
       "    Return the current working directory path.\n",
       "%pycat:\n",
       "    Show a syntax-highlighted file through a pager.\n",
       "%pylab:\n",
       "    ::\n",
       "%qtconsole:\n",
       "    Open a qtconsole connected to this kernel.\n",
       "%quickref:\n",
       "    Show a quick reference sheet \n",
       "%recall:\n",
       "    Repeat a command, or get command to input line for editing.\n",
       "%rehashx:\n",
       "    Update the alias table with all executable files in $PATH.\n",
       "%reload_ext:\n",
       "    Reload an IPython extension by its module name.\n",
       "%rep:\n",
       "    Alias for `%recall`.\n",
       "%rerun:\n",
       "    Re-run previous input\n",
       "%reset:\n",
       "    Resets the namespace by removing all names defined by the user, if\n",
       "%reset_selective:\n",
       "    Resets the namespace by removing names defined by the user.\n",
       "%rm:\n",
       "    Alias for `!rm`\n",
       "%rmdir:\n",
       "    Alias for `!rmdir`\n",
       "%run:\n",
       "    Run the named file inside IPython as a program.\n",
       "%save:\n",
       "    Save a set of lines or a macro to a given filename.\n",
       "%sc:\n",
       "    Shell capture - run shell command and capture output (DEPRECATED use !).\n",
       "%set_env:\n",
       "    Set environment variables.  Assumptions are that either \"val\" is a\n",
       "%store:\n",
       "    Lightweight persistence for python variables.\n",
       "%sx:\n",
       "    Shell execute - run shell command and capture output (!! is short-hand).\n",
       "%system:\n",
       "    Shell execute - run shell command and capture output (!! is short-hand).\n",
       "%tb:\n",
       "    Print the last traceback.\n",
       "%time:\n",
       "    Time execution of a Python statement or expression.\n",
       "%timeit:\n",
       "    Time execution of a Python statement or expression\n",
       "%unalias:\n",
       "    Remove an alias\n",
       "%unload_ext:\n",
       "    Unload an IPython extension by its module name.\n",
       "%who:\n",
       "    Print all interactive variables, with some minimal formatting.\n",
       "%who_ls:\n",
       "    Return a sorted list of all interactive variables.\n",
       "%whos:\n",
       "    Like %who, but gives some extra information about each variable.\n",
       "%xdel:\n",
       "    Delete a variable, trying to clear it from anywhere that\n",
       "%xmode:\n",
       "    Switch modes for the exception handlers.\n",
       "%%!:\n",
       "    Shell execute - run shell command and capture output (!! is short-hand).\n",
       "%%HTML:\n",
       "    Alias for `%%html`.\n",
       "%%SVG:\n",
       "    Alias for `%%svg`.\n",
       "%%bash:\n",
       "    %%bash script magic\n",
       "%%capture:\n",
       "    ::\n",
       "%%debug:\n",
       "    ::\n",
       "%%file:\n",
       "    Alias for `%%writefile`.\n",
       "%%html:\n",
       "    ::\n",
       "%%javascript:\n",
       "    Run the cell block of Javascript code\n",
       "%%js:\n",
       "    Run the cell block of Javascript code\n",
       "%%latex:\n",
       "    Render the cell as a block of latex\n",
       "%%markdown:\n",
       "    Render the cell as Markdown text block\n",
       "%%perl:\n",
       "    %%perl script magic\n",
       "%%prun:\n",
       "    Run a statement through the python code profiler.\n",
       "%%pypy:\n",
       "    %%pypy script magic\n",
       "%%python:\n",
       "    %%python script magic\n",
       "%%python2:\n",
       "    %%python2 script magic\n",
       "%%python3:\n",
       "    %%python3 script magic\n",
       "%%ruby:\n",
       "    %%ruby script magic\n",
       "%%script:\n",
       "    ::\n",
       "%%sh:\n",
       "    %%sh script magic\n",
       "%%svg:\n",
       "    Render the cell as an SVG literal\n",
       "%%sx:\n",
       "    Shell execute - run shell command and capture output (!! is short-hand).\n",
       "%%system:\n",
       "    Shell execute - run shell command and capture output (!! is short-hand).\n",
       "%%time:\n",
       "    Time execution of a Python statement or expression.\n",
       "%%timeit:\n",
       "    Time execution of a Python statement or expression\n",
       "%%writefile:\n",
       "    ::\n"
      ]
     },
     "metadata": {},
     "output_type": "display_data"
    }
   ],
   "source": [
    "%load_ext autoreload\n",
    "%autoreload 2\n",
    "%quickref"
   ]
  },
  {
   "cell_type": "markdown",
   "metadata": {
    "slideshow": {
     "slide_type": "slide"
    }
   },
   "source": [
    "# ecFlow eLearning Jupyter Notebook"
   ]
  },
  {
   "cell_type": "markdown",
   "metadata": {
    "slideshow": {
     "slide_type": "-"
    }
   },
   "source": [
    "[video](anim/ecflow_3min39.mp4)"
   ]
  },
  {
   "cell_type": "markdown",
   "metadata": {
    "slideshow": {
     "slide_type": "slide"
    }
   },
   "source": [
    "## Start the ecFlow server"
   ]
  },
  {
   "cell_type": "code",
   "execution_count": 2,
   "metadata": {},
   "outputs": [
    {
     "name": "stderr",
     "output_type": "stream",
     "text": [
      "bash: line 1: ecflow_start.sh: command not found\n"
     ]
    },
    {
     "ename": "CalledProcessError",
     "evalue": "Command 'b'ecflow_start.sh -p 3141\\n'' returned non-zero exit status 127.",
     "output_type": "error",
     "traceback": [
      "\u001b[0;31m---------------------------------------------------------------------------\u001b[0m",
      "\u001b[0;31mCalledProcessError\u001b[0m                        Traceback (most recent call last)",
      "\u001b[0;32m/var/folders/_9/q2xm3qhx27qbzwsjsjlr3zz80000gn/T/ipykernel_17927/123285168.py\u001b[0m in \u001b[0;36m<module>\u001b[0;34m\u001b[0m\n\u001b[0;32m----> 1\u001b[0;31m \u001b[0mget_ipython\u001b[0m\u001b[0;34m(\u001b[0m\u001b[0;34m)\u001b[0m\u001b[0;34m.\u001b[0m\u001b[0mrun_cell_magic\u001b[0m\u001b[0;34m(\u001b[0m\u001b[0;34m'bash'\u001b[0m\u001b[0;34m,\u001b[0m \u001b[0;34m''\u001b[0m\u001b[0;34m,\u001b[0m \u001b[0;34m'ecflow_start.sh -p 3141\\n'\u001b[0m\u001b[0;34m)\u001b[0m\u001b[0;34m\u001b[0m\u001b[0;34m\u001b[0m\u001b[0m\n\u001b[0m",
      "\u001b[0;32m/opt/homebrew/Caskroom/miniforge/base/envs/ecflow_env37/lib/python3.7/site-packages/IPython/core/interactiveshell.py\u001b[0m in \u001b[0;36mrun_cell_magic\u001b[0;34m(self, magic_name, line, cell)\u001b[0m\n\u001b[1;32m   2470\u001b[0m             \u001b[0;32mwith\u001b[0m \u001b[0mself\u001b[0m\u001b[0;34m.\u001b[0m\u001b[0mbuiltin_trap\u001b[0m\u001b[0;34m:\u001b[0m\u001b[0;34m\u001b[0m\u001b[0;34m\u001b[0m\u001b[0m\n\u001b[1;32m   2471\u001b[0m                 \u001b[0margs\u001b[0m \u001b[0;34m=\u001b[0m \u001b[0;34m(\u001b[0m\u001b[0mmagic_arg_s\u001b[0m\u001b[0;34m,\u001b[0m \u001b[0mcell\u001b[0m\u001b[0;34m)\u001b[0m\u001b[0;34m\u001b[0m\u001b[0;34m\u001b[0m\u001b[0m\n\u001b[0;32m-> 2472\u001b[0;31m                 \u001b[0mresult\u001b[0m \u001b[0;34m=\u001b[0m \u001b[0mfn\u001b[0m\u001b[0;34m(\u001b[0m\u001b[0;34m*\u001b[0m\u001b[0margs\u001b[0m\u001b[0;34m,\u001b[0m \u001b[0;34m**\u001b[0m\u001b[0mkwargs\u001b[0m\u001b[0;34m)\u001b[0m\u001b[0;34m\u001b[0m\u001b[0;34m\u001b[0m\u001b[0m\n\u001b[0m\u001b[1;32m   2473\u001b[0m             \u001b[0;32mreturn\u001b[0m \u001b[0mresult\u001b[0m\u001b[0;34m\u001b[0m\u001b[0;34m\u001b[0m\u001b[0m\n\u001b[1;32m   2474\u001b[0m \u001b[0;34m\u001b[0m\u001b[0m\n",
      "\u001b[0;32m/opt/homebrew/Caskroom/miniforge/base/envs/ecflow_env37/lib/python3.7/site-packages/IPython/core/magics/script.py\u001b[0m in \u001b[0;36mnamed_script_magic\u001b[0;34m(line, cell)\u001b[0m\n\u001b[1;32m    140\u001b[0m             \u001b[0;32melse\u001b[0m\u001b[0;34m:\u001b[0m\u001b[0;34m\u001b[0m\u001b[0;34m\u001b[0m\u001b[0m\n\u001b[1;32m    141\u001b[0m                 \u001b[0mline\u001b[0m \u001b[0;34m=\u001b[0m \u001b[0mscript\u001b[0m\u001b[0;34m\u001b[0m\u001b[0;34m\u001b[0m\u001b[0m\n\u001b[0;32m--> 142\u001b[0;31m             \u001b[0;32mreturn\u001b[0m \u001b[0mself\u001b[0m\u001b[0;34m.\u001b[0m\u001b[0mshebang\u001b[0m\u001b[0;34m(\u001b[0m\u001b[0mline\u001b[0m\u001b[0;34m,\u001b[0m \u001b[0mcell\u001b[0m\u001b[0;34m)\u001b[0m\u001b[0;34m\u001b[0m\u001b[0;34m\u001b[0m\u001b[0m\n\u001b[0m\u001b[1;32m    143\u001b[0m \u001b[0;34m\u001b[0m\u001b[0m\n\u001b[1;32m    144\u001b[0m         \u001b[0;31m# write a basic docstring:\u001b[0m\u001b[0;34m\u001b[0m\u001b[0;34m\u001b[0m\u001b[0;34m\u001b[0m\u001b[0m\n",
      "\u001b[0;32m/opt/homebrew/Caskroom/miniforge/base/envs/ecflow_env37/lib/python3.7/site-packages/decorator.py\u001b[0m in \u001b[0;36mfun\u001b[0;34m(*args, **kw)\u001b[0m\n\u001b[1;32m    230\u001b[0m             \u001b[0;32mif\u001b[0m \u001b[0;32mnot\u001b[0m \u001b[0mkwsyntax\u001b[0m\u001b[0;34m:\u001b[0m\u001b[0;34m\u001b[0m\u001b[0;34m\u001b[0m\u001b[0m\n\u001b[1;32m    231\u001b[0m                 \u001b[0margs\u001b[0m\u001b[0;34m,\u001b[0m \u001b[0mkw\u001b[0m \u001b[0;34m=\u001b[0m \u001b[0mfix\u001b[0m\u001b[0;34m(\u001b[0m\u001b[0margs\u001b[0m\u001b[0;34m,\u001b[0m \u001b[0mkw\u001b[0m\u001b[0;34m,\u001b[0m \u001b[0msig\u001b[0m\u001b[0;34m)\u001b[0m\u001b[0;34m\u001b[0m\u001b[0;34m\u001b[0m\u001b[0m\n\u001b[0;32m--> 232\u001b[0;31m             \u001b[0;32mreturn\u001b[0m \u001b[0mcaller\u001b[0m\u001b[0;34m(\u001b[0m\u001b[0mfunc\u001b[0m\u001b[0;34m,\u001b[0m \u001b[0;34m*\u001b[0m\u001b[0;34m(\u001b[0m\u001b[0mextras\u001b[0m \u001b[0;34m+\u001b[0m \u001b[0margs\u001b[0m\u001b[0;34m)\u001b[0m\u001b[0;34m,\u001b[0m \u001b[0;34m**\u001b[0m\u001b[0mkw\u001b[0m\u001b[0;34m)\u001b[0m\u001b[0;34m\u001b[0m\u001b[0;34m\u001b[0m\u001b[0m\n\u001b[0m\u001b[1;32m    233\u001b[0m     \u001b[0mfun\u001b[0m\u001b[0;34m.\u001b[0m\u001b[0m__name__\u001b[0m \u001b[0;34m=\u001b[0m \u001b[0mfunc\u001b[0m\u001b[0;34m.\u001b[0m\u001b[0m__name__\u001b[0m\u001b[0;34m\u001b[0m\u001b[0;34m\u001b[0m\u001b[0m\n\u001b[1;32m    234\u001b[0m     \u001b[0mfun\u001b[0m\u001b[0;34m.\u001b[0m\u001b[0m__doc__\u001b[0m \u001b[0;34m=\u001b[0m \u001b[0mfunc\u001b[0m\u001b[0;34m.\u001b[0m\u001b[0m__doc__\u001b[0m\u001b[0;34m\u001b[0m\u001b[0;34m\u001b[0m\u001b[0m\n",
      "\u001b[0;32m/opt/homebrew/Caskroom/miniforge/base/envs/ecflow_env37/lib/python3.7/site-packages/IPython/core/magic.py\u001b[0m in \u001b[0;36m<lambda>\u001b[0;34m(f, *a, **k)\u001b[0m\n\u001b[1;32m    185\u001b[0m     \u001b[0;31m# but it's overkill for just that one bit of state.\u001b[0m\u001b[0;34m\u001b[0m\u001b[0;34m\u001b[0m\u001b[0;34m\u001b[0m\u001b[0m\n\u001b[1;32m    186\u001b[0m     \u001b[0;32mdef\u001b[0m \u001b[0mmagic_deco\u001b[0m\u001b[0;34m(\u001b[0m\u001b[0marg\u001b[0m\u001b[0;34m)\u001b[0m\u001b[0;34m:\u001b[0m\u001b[0;34m\u001b[0m\u001b[0;34m\u001b[0m\u001b[0m\n\u001b[0;32m--> 187\u001b[0;31m         \u001b[0mcall\u001b[0m \u001b[0;34m=\u001b[0m \u001b[0;32mlambda\u001b[0m \u001b[0mf\u001b[0m\u001b[0;34m,\u001b[0m \u001b[0;34m*\u001b[0m\u001b[0ma\u001b[0m\u001b[0;34m,\u001b[0m \u001b[0;34m**\u001b[0m\u001b[0mk\u001b[0m\u001b[0;34m:\u001b[0m \u001b[0mf\u001b[0m\u001b[0;34m(\u001b[0m\u001b[0;34m*\u001b[0m\u001b[0ma\u001b[0m\u001b[0;34m,\u001b[0m \u001b[0;34m**\u001b[0m\u001b[0mk\u001b[0m\u001b[0;34m)\u001b[0m\u001b[0;34m\u001b[0m\u001b[0;34m\u001b[0m\u001b[0m\n\u001b[0m\u001b[1;32m    188\u001b[0m \u001b[0;34m\u001b[0m\u001b[0m\n\u001b[1;32m    189\u001b[0m         \u001b[0;32mif\u001b[0m \u001b[0mcallable\u001b[0m\u001b[0;34m(\u001b[0m\u001b[0marg\u001b[0m\u001b[0;34m)\u001b[0m\u001b[0;34m:\u001b[0m\u001b[0;34m\u001b[0m\u001b[0;34m\u001b[0m\u001b[0m\n",
      "\u001b[0;32m/opt/homebrew/Caskroom/miniforge/base/envs/ecflow_env37/lib/python3.7/site-packages/IPython/core/magics/script.py\u001b[0m in \u001b[0;36mshebang\u001b[0;34m(self, line, cell)\u001b[0m\n\u001b[1;32m    243\u001b[0m             \u001b[0msys\u001b[0m\u001b[0;34m.\u001b[0m\u001b[0mstderr\u001b[0m\u001b[0;34m.\u001b[0m\u001b[0mflush\u001b[0m\u001b[0;34m(\u001b[0m\u001b[0;34m)\u001b[0m\u001b[0;34m\u001b[0m\u001b[0;34m\u001b[0m\u001b[0m\n\u001b[1;32m    244\u001b[0m         \u001b[0;32mif\u001b[0m \u001b[0margs\u001b[0m\u001b[0;34m.\u001b[0m\u001b[0mraise_error\u001b[0m \u001b[0;32mand\u001b[0m \u001b[0mp\u001b[0m\u001b[0;34m.\u001b[0m\u001b[0mreturncode\u001b[0m\u001b[0;34m!=\u001b[0m\u001b[0;36m0\u001b[0m\u001b[0;34m:\u001b[0m\u001b[0;34m\u001b[0m\u001b[0;34m\u001b[0m\u001b[0m\n\u001b[0;32m--> 245\u001b[0;31m             \u001b[0;32mraise\u001b[0m \u001b[0mCalledProcessError\u001b[0m\u001b[0;34m(\u001b[0m\u001b[0mp\u001b[0m\u001b[0;34m.\u001b[0m\u001b[0mreturncode\u001b[0m\u001b[0;34m,\u001b[0m \u001b[0mcell\u001b[0m\u001b[0;34m,\u001b[0m \u001b[0moutput\u001b[0m\u001b[0;34m=\u001b[0m\u001b[0mout\u001b[0m\u001b[0;34m,\u001b[0m \u001b[0mstderr\u001b[0m\u001b[0;34m=\u001b[0m\u001b[0merr\u001b[0m\u001b[0;34m)\u001b[0m\u001b[0;34m\u001b[0m\u001b[0;34m\u001b[0m\u001b[0m\n\u001b[0m\u001b[1;32m    246\u001b[0m \u001b[0;34m\u001b[0m\u001b[0m\n\u001b[1;32m    247\u001b[0m     \u001b[0;32mdef\u001b[0m \u001b[0m_run_script\u001b[0m\u001b[0;34m(\u001b[0m\u001b[0mself\u001b[0m\u001b[0;34m,\u001b[0m \u001b[0mp\u001b[0m\u001b[0;34m,\u001b[0m \u001b[0mcell\u001b[0m\u001b[0;34m,\u001b[0m \u001b[0mto_close\u001b[0m\u001b[0;34m)\u001b[0m\u001b[0;34m:\u001b[0m\u001b[0;34m\u001b[0m\u001b[0;34m\u001b[0m\u001b[0m\n",
      "\u001b[0;31mCalledProcessError\u001b[0m: Command 'b'ecflow_start.sh -p 3141\\n'' returned non-zero exit status 127."
     ]
    }
   ],
   "source": [
    "%%bash \n",
    "ecflow_start.sh -p 3141"
   ]
  },
  {
   "cell_type": "markdown",
   "metadata": {},
   "source": [
    "## Start the GUI ecflow_ui"
   ]
  },
  {
   "cell_type": "code",
   "execution_count": 58,
   "metadata": {},
   "outputs": [],
   "source": [
    "%%bash\n",
    "# UNCOMMENT following line to launch the GUI\n",
    "# ecflow_ui &"
   ]
  },
  {
   "cell_type": "markdown",
   "metadata": {},
   "source": [
    "## Experience the command line client"
   ]
  },
  {
   "cell_type": "code",
   "execution_count": 59,
   "metadata": {},
   "outputs": [
    {
     "name": "stdout",
     "output_type": "stream",
     "text": [
      "ping server(localhost:2500) succeeded in 00:00:00.004302  ~4 milliseconds\n"
     ]
    }
   ],
   "source": [
    "%%bash\n",
    "ecflow_client --port 2500 --host localhost --ping"
   ]
  },
  {
   "cell_type": "code",
   "execution_count": 61,
   "metadata": {},
   "outputs": [
    {
     "name": "stdout",
     "output_type": "stream",
     "text": [
      "Ecflow version(5.14.1) boost(1.86.0) compiler(clang 19.1.7) protocol(JSON cereal 1.3.0) openssl(enabled) Compiled on Jul 15 2025 10:35:11\n",
      "\n",
      "Client/server based work flow package:\n",
      "\n",
      "Ecflow version(5.14.1) boost(1.86.0) compiler(clang 19.1.7) protocol(JSON cereal 1.3.0) openssl(enabled) Compiled on Jul 15 2025 10:35:11\n",
      "\n",
      "ecflow_client provides the command line interface, for interacting with the server:\n",
      "Try:\n",
      "\n",
      "   ecflow_client --help=all       # List all commands, verbosely\n",
      "   ecflow_client --help=summary   # One line summary of all commands\n",
      "   ecflow_client --help=child     # One line summary of child commands\n",
      "   ecflow_client --help=user      # One line summary of user command\n",
      "   ecflow_client --help=<cmd>     # Detailed help on each command\n",
      "\n",
      "Commands:\n",
      "\n",
      "   abort                  alter                  archive                begin                  ch_add                 \n",
      "   ch_auto_add            ch_drop                ch_drop_user           ch_register            ch_rem                 \n",
      "   ch_suites              check                  checkJobGenOnly        check_pt               complete               \n",
      "   debug_server_off       debug_server_on        delete                 edit_history           edit_script            \n",
      "   event                  file                   force                  force-dep-eval         free-dep               \n",
      "   get                    get_state              group                  halt                   help                   \n",
      "   init                   job_gen                kill                   label                  load                   \n",
      "   log                    meter                  migrate                msg                    news                   \n",
      "   order                  ping                   plug                   query                  queue                  \n",
      "   reloadcustompasswdfile reloadpasswdfile       reloadwsfile           remove                 replace                \n",
      "   requeue                restart                restore                restore_from_checkpt   resume                 \n",
      "   run                    server_load            server_version         show                   shutdown               \n",
      "   stats                  stats_reset            stats_server           status                 suites                 \n",
      "   suspend                sync                   sync_clock             sync_full              terminate              \n",
      "   version                wait                   why                    zombie_adopt           zombie_block           \n",
      "   zombie_fail            zombie_fob             zombie_get             zombie_kill            zombie_remove          \n",
      "\n",
      "Generic Options:\n",
      "\n",
      "   add      debug    host     http     https    password port     rid      \n",
      "   ssl      user     \n",
      "\n"
     ]
    }
   ],
   "source": [
    "%%bash\n",
    "# DISPLAY ALL CLIENT COMMANDS\n",
    "ecflow_client --version\n",
    "ecflow_client --help"
   ]
  },
  {
   "cell_type": "markdown",
   "metadata": {
    "slideshow": {
     "slide_type": "slide"
    }
   },
   "source": [
    "## Python for suites design, client-server communication, or a script.py as a task template..."
   ]
  },
  {
   "cell_type": "code",
   "execution_count": 62,
   "metadata": {},
   "outputs": [],
   "source": [
    "%%bash\n",
    "p=/lib/python3.12/site-packages/ecflow\n",
    "export PYTHONPATH=$PYTHONPATH:/usr/local/apps/ecflow/current$p:/usr/local$p"
   ]
  },
  {
   "cell_type": "code",
   "execution_count": 63,
   "metadata": {},
   "outputs": [],
   "source": [
    "import sys\n",
    "p=\"/lib/python3.12/site-packages/ecflow\"\n",
    "sys.path.append(\"/usr/local\" + p)\n",
    "sys.path.append(\"/usr/local/apps/ecflow/current\" + p)\n",
    "import ecflow\n",
    "# UNCOMMENT FOLLOWING LINE TO GET FULL man pages\n",
    "# help(ecflow)"
   ]
  },
  {
   "cell_type": "markdown",
   "metadata": {
    "slideshow": {
     "slide_type": "slide"
    }
   },
   "source": [
    "## Define the simplest suite and print it as \"text definition file\""
   ]
  },
  {
   "cell_type": "code",
   "execution_count": 64,
   "metadata": {},
   "outputs": [
    {
     "name": "stdout",
     "output_type": "stream",
     "text": [
      "Creating suite definition\n",
      "#5.14.1\n",
      "defs_state STATE cal_count:0\n",
      "edit ECF_MICRO '%' # server\n",
      "edit ECF_HOME '.' # server\n",
      "edit ECF_JOB_CMD '%ECF_JOB% 1> %ECF_JOBOUT% 2>&1' # server\n",
      "edit ECF_KILL_CMD 'kill -15 %ECF_RID%' # server\n",
      "edit ECF_STATUS_CMD 'ps --pid %ECF_RID% -f > %ECF_JOB%.stat 2>&1' # server\n",
      "edit ECF_URL_CMD '${BROWSER:=firefox} -new-tab %ECF_URL_BASE%/%ECF_URL%' # server\n",
      "edit ECF_URL_BASE 'https://confluence.ecmwf.int' # server\n",
      "edit ECF_URL 'display/ECFLOW/ecflow+home' # server\n",
      "edit ECF_LOG 'mmac.local.3141.ecf.log' # server\n",
      "edit ECF_INTERVAL '60' # server\n",
      "edit ECF_LISTS 'mmac.local.3141.ecf.lists' # server\n",
      "edit ECF_PASSWD 'mmac.local.3141.ECF_PASSWD' # server\n",
      "edit ECF_CUSTOM_PASSWD 'mmac.local.3141.ECF_CUSTOM_PASSWD' # server\n",
      "edit ECF_CHECK 'mmac.local.3141.ecf.check' # server\n",
      "edit ECF_CHECKOLD 'mmac.local.3141.ecf.check.b' # server\n",
      "edit ECF_CHECKINTERVAL '120' # server\n",
      "edit ECF_CHECKMODE 'CHECK_ON_TIME' # server\n",
      "edit ECF_TRIES '2' # server\n",
      "edit ECF_VERSION '5.14.1' # server\n",
      "edit ECF_PORT '3141' # server\n",
      "edit ECF_HOST 'localhost' # server\n",
      "# server state: RUNNING\n",
      "suite elearning\n",
      "defstatus suspended\n",
      "edit ECF_FILES '/Users/map/ecflow_server/files'\n",
      "edit ECF_INCLUDE '/Users/map/ecflow_server/include'\n",
      "edit ECF_HOME '/Users/map/ecflow_server'\n",
      "# edit SUITE 'elearning'\n",
      "# edit ECF_DATE ''\n",
      "# edit YYYY ''\n",
      "# edit DOW ''\n",
      "# edit DOY ''\n",
      "# edit DATE ''\n",
      "# edit DAY ''\n",
      "# edit DD ''\n",
      "# edit MM ''\n",
      "# edit MONTH ''\n",
      "# edit ECF_CLOCK ''\n",
      "# edit ECF_TIME ''\n",
      "# edit ECF_JULIAN ''\n",
      "# edit TIME ''\n",
      "task t1\n",
      "# edit TASK 't1'\n",
      "# edit ECF_JOB '/Users/map/ecflow_server/elearning/t1.job0'\n",
      "# edit ECF_SCRIPT '/Users/map/ecflow_server/elearning/t1.ecf'\n",
      "# edit ECF_JOBOUT '/Users/map/ecflow_server/elearning/t1.0'\n",
      "# edit ECF_TRYNO '0'\n",
      "# edit ECF_RID ''\n",
      "# edit ECF_NAME '/elearning/t1'\n",
      "# edit ECF_PASS ''\n",
      "endsuite\n",
      "# enddef\n",
      "\n",
      "Saving definition to file '/Users/map/ecflow_serverelearning.def'\n"
     ]
    }
   ],
   "source": [
    "%run src/el11_test_suite.py"
   ]
  },
  {
   "cell_type": "code",
   "execution_count": 65,
   "metadata": {},
   "outputs": [
    {
     "name": "stdout",
     "output_type": "stream",
     "text": [
      "\u001b[38;5;66;03m#!/usr/bin/env python\u001b[39;00m\n",
      "\u001b[33m\"\"\" a first suite \"\"\"\u001b[39m\n",
      "\u001b[38;5;66;03m# from __future__ import print_function\u001b[39;00m\n",
      "\u001b[38;5;28;01mimport\u001b[39;00m os, sys\n",
      "\u001b[38;5;28;01mif\u001b[39;00m \u001b[32m0\u001b[39m: \u001b[38;5;66;03m# try:\u001b[39;00m\n",
      "    \u001b[38;5;28;01mfrom\u001b[39;00m ecflow.ecf \u001b[38;5;28;01mimport\u001b[39;00m (Defs, Suite, Defstatus, Edit, Task)\n",
      "\u001b[38;5;28;01melse\u001b[39;00m: \u001b[38;5;66;03m# except ImportError, err:\u001b[39;00m\n",
      "    v = \u001b[33m\"3.12\"\u001b[39m\n",
      "    INST = \u001b[33m\"/usr/local/apps/ecflow/lib/python%s/site-packages/ecflow:\"\u001b[39m % v\n",
      "    sys.path.append(INST)\n",
      "    INST = \u001b[33m\"/usr/local/lib/python%s/site-packages/ecflow\"\u001b[39m % v\n",
      "    sys.path.append(INST)\n",
      "    \u001b[38;5;28;01mfrom\u001b[39;00m ecflow.ecf \u001b[38;5;28;01mimport\u001b[39;00m (Defs, Suite, Defstatus, Edit, Task)\n",
      "    \u001b[38;5;28;01mif\u001b[39;00m \u001b[32m0\u001b[39m: \u001b[38;5;28;01mraise\u001b[39;00m Exception(\u001b[38;5;66;03m#ERR: could not import ecf. Does the following line help?\"+\u001b[39;00m\n",
      "        \u001b[33m\"\\nexport PYTHONPATH=$PYTHONPATH:%s\"\u001b[39m % INST)\n",
      "\n",
      "print(\u001b[33m\"Creating suite definition\"\u001b[39m)\n",
      "ECF_HOME = os.path.join(os.getenv(\u001b[33m\"HOME\"\u001b[39m), \u001b[33m\"ecflow_server\"\u001b[39m)\n",
      "NAME = os.getenv(\u001b[33m\"SUITE\"\u001b[39m, \u001b[33m\"elearning\"\u001b[39m)\n",
      "DEFS = Defs()\n",
      "DEFS.add(\n",
      "    Suite(NAME).add(  \u001b[38;5;66;03m# simplest suite definition\u001b[39;00m\n",
      "        Defstatus(\u001b[33m\"suspended\"\u001b[39m),  \u001b[38;5;66;03m# so that jobs do not start immediately\u001b[39;00m\n",
      "        Edit(ECF_HOME=ECF_HOME,  \u001b[38;5;66;03m# where to find jobs + output files\u001b[39;00m\n",
      "             ECF_FILES=ECF_HOME + \u001b[33m\"/files\"\u001b[39m,  \u001b[38;5;66;03m# script template .ecf\u001b[39;00m\n",
      "             ECF_INCLUDE=ECF_HOME + \u001b[33m\"/include\"\u001b[39m),  \u001b[38;5;66;03m# include files .h\u001b[39;00m\n",
      "        Task(\u001b[33m\"t1\"\u001b[39m)))  \u001b[38;5;66;03m# a first task\u001b[39;00m\n",
      "\n",
      "\u001b[38;5;28;01mif\u001b[39;00m __name__ == \u001b[33m'__main__'\u001b[39m:\n",
      "    print(DEFS)\n",
      "    NAME = ECF_HOME + NAME\n",
      "    print(\u001b[33m\"Saving definition to file '%s.def'\"\u001b[39m % NAME)\n",
      "    os.system(\u001b[33m\"mkdir -p %s\"\u001b[39m % NAME)\n",
      "    DEFS.save_as_defs(\u001b[33m\"%s.def\"\u001b[39m % NAME)  \u001b[38;5;66;03m# an external client can use it\u001b[39;00m\n"
     ]
    }
   ],
   "source": [
    "%pycat src/el11_test_suite.py"
   ]
  },
  {
   "cell_type": "markdown",
   "metadata": {
    "slideshow": {
     "slide_type": "slide"
    }
   },
   "source": [
    "## Create the head.h and tail.h files for all tasks in ECF_INCLUDE directory"
   ]
  },
  {
   "cell_type": "code",
   "execution_count": 66,
   "metadata": {},
   "outputs": [
    {
     "name": "stdout",
     "output_type": "stream",
     "text": [
      "head.h/tail.h files are now created in ECF_INCLUDE /Users/map/ecflow_server/include\n"
     ]
    }
   ],
   "source": [
    "%run src/el12_test_suite_include.py"
   ]
  },
  {
   "cell_type": "code",
   "execution_count": 67,
   "metadata": {},
   "outputs": [
    {
     "name": "stdout",
     "output_type": "stream",
     "text": [
      "\u001b[38;5;66;03m#!/usr/bin/env python\u001b[39;00m\n",
      "\u001b[38;5;28;01mfrom\u001b[39;00m __future__ \u001b[38;5;28;01mimport\u001b[39;00m print_function\n",
      "\u001b[38;5;28;01mimport\u001b[39;00m os\n",
      "HEAD = \u001b[33m\"\"\"#!/bin/bash\u001b[39m\n",
      "\u001b[33mset -e # stop the shell on first error\u001b[39m\n",
      "\u001b[33mset -u # fail when using an undefined variable\u001b[39m\n",
      "\u001b[33mset -x # echo script lines as they are executed\u001b[39m\n",
      "\n",
      "\u001b[33m# Defines the variables that are needed for any communication with ECF\u001b[39m\n",
      "\u001b[33mexport ECF_PORT=%ECF_PORT%    # The server port number\u001b[39m\n",
      "\u001b[33mexport ECF_HOST=%ECF_HOST%    # The host name where the server is running\u001b[39m\n",
      "\u001b[33mexport ECF_NAME=%ECF_NAME%    # The name of this current task\u001b[39m\n",
      "\u001b[33mexport ECF_PASS=%ECF_PASS%    # A unique password\u001b[39m\n",
      "\u001b[33mexport ECF_TRYNO=%ECF_TRYNO%  # Current try number of the task\u001b[39m\n",
      "\u001b[33mexport ECF_RID=$$             # record the process id.\u001b[39m\n",
      "\u001b[33m                              # Also used for zombie detection\u001b[39m\n",
      "\u001b[33m# Define the path where to find ecflow_client\u001b[39m\n",
      "\u001b[33m# make sure client and server use the *same* version.\u001b[39m\n",
      "\u001b[33m# Important when there are multiple versions of ecFlow\u001b[39m\n",
      "\u001b[33mexport PATH=/usr/local/apps/ecflow/%ECF_VERSION%/bin:$PATH\u001b[39m\n",
      "\n",
      "\u001b[33m# Tell ecFlow we have started\u001b[39m\n",
      "\u001b[33mecflow_client --init=$$\u001b[39m\n",
      "\n",
      "\u001b[33m# Define a error handler\u001b[39m\n",
      "\u001b[33mERROR() {\u001b[39m\n",
      "\u001b[33m   set +e                      # Clear -e flag, so we don't fail\u001b[39m\n",
      "\u001b[33m   wait                        # wait for background process to stop\u001b[39m\n",
      "\u001b[33m   ecflow_client --abort=trap  # Notify ecFlow that something went wrong,\u001b[39m\n",
      "\u001b[33m                               # using 'trap' as the reason\u001b[39m\n",
      "\u001b[33m   trap 0                      # Remove the trap\u001b[39m\n",
      "\u001b[33m   exit 0                      # End the script\u001b[39m\n",
      "\u001b[33m}\u001b[39m\n",
      "\u001b[33m# Trap any calls to exit and errors caught by the -e flag\u001b[39m\n",
      "\u001b[33mtrap ERROR 0\u001b[39m\n",
      "\n",
      "\u001b[33m# Trap any signal that may cause the script to fail\u001b[39m\n",
      "\u001b[33mtrap '{ echo \"Killed by a signal\"; ERROR ; }' 1 2 3 4 5 6 7 8 10 12 13 15\u001b[39m\n",
      "\u001b[33m\"\"\"\u001b[39m\n",
      "\n",
      "TAIL = \u001b[33m\"\"\"wait            # wait for background process to stop\u001b[39m\n",
      "\u001b[33mecflow_client --complete  # Notify ecFlow of a normal end\u001b[39m\n",
      "\u001b[33mtrap 0                    # Remove all traps\u001b[39m\n",
      "\u001b[33mexit 0                    # End the shell\u001b[39m\n",
      "\u001b[33m\"\"\"\u001b[39m\n",
      "\n",
      "ECF_HOME = os.getenv(\u001b[33m\"HOME\"\u001b[39m) + \u001b[33m\"/ecflow_server\"\u001b[39m  \u001b[38;5;66;03m# from ecflow_start.sh\u001b[39;00m\n",
      "ECF_INCLUDE = ECF_HOME + \u001b[33m\"/include\"\u001b[39m\n",
      "\n",
      "\n",
      "\u001b[38;5;28;01mif\u001b[39;00m __name__ == \u001b[33m'__main__'\u001b[39m:\n",
      "    \u001b[38;5;28;01mif\u001b[39;00m \u001b[38;5;28;01mnot\u001b[39;00m os.path.exists(ECF_INCLUDE):\n",
      "        os.makedirs(ECF_INCLUDE)\n",
      "    \u001b[38;5;28;01mwith\u001b[39;00m open(ECF_INCLUDE + \u001b[33m\"/head.h\"\u001b[39m, \u001b[33m\"w\"\u001b[39m) \u001b[38;5;28;01mas\u001b[39;00m head_h:\n",
      "        print(HEAD, file=head_h)\n",
      "    \u001b[38;5;28;01mwith\u001b[39;00m open(ECF_INCLUDE + \u001b[33m\"/tail.h\"\u001b[39m, \u001b[33m\"w\"\u001b[39m) \u001b[38;5;28;01mas\u001b[39;00m tail_h:\n",
      "        print(TAIL, file=tail_h)\n",
      "    print(\u001b[33m\"head.h/tail.h files are now created in ECF_INCLUDE\"\u001b[39m, ECF_INCLUDE)\n"
     ]
    }
   ],
   "source": [
    "%pycat src/el12_test_suite_include.py"
   ]
  },
  {
   "cell_type": "markdown",
   "metadata": {
    "slideshow": {
     "slide_type": "slide"
    }
   },
   "source": [
    "## Create the simplest task template in ECF_FILES directory"
   ]
  },
  {
   "cell_type": "code",
   "execution_count": 68,
   "metadata": {},
   "outputs": [
    {
     "name": "stdout",
     "output_type": "stream",
     "text": [
      "The script template file is now created: /Users/map/ecflow_server/files/t1.ecf\n"
     ]
    }
   ],
   "source": [
    "%run src/el13_test_suite_wrapper.py"
   ]
  },
  {
   "cell_type": "code",
   "execution_count": 69,
   "metadata": {},
   "outputs": [
    {
     "name": "stdout",
     "output_type": "stream",
     "text": [
      "\u001b[38;5;66;03m#!/usr/bin/env python\u001b[39;00m\n",
      "\u001b[38;5;28;01mfrom\u001b[39;00m __future__ \u001b[38;5;28;01mimport\u001b[39;00m print_function\n",
      "\u001b[38;5;28;01mimport\u001b[39;00m os\n",
      "ECF_HOME = os.getenv(\u001b[33m\"HOME\"\u001b[39m) + \u001b[33m\"/ecflow_server\"\u001b[39m  \u001b[38;5;66;03m# from ecflow_start.sh\u001b[39;00m\n",
      "ECF_FILES = ECF_HOME + \u001b[33m\"/files\"\u001b[39m\n",
      "\u001b[38;5;66;03m# script template file as a string:\u001b[39;00m\n",
      "SCRIPT_TEMPLATE = \u001b[33m\"\"\"#!/bin/bash\u001b[39m\n",
      "\u001b[33m%include <head.h>\u001b[39m\n",
      "\u001b[33mecho \"I am part of a suite that lives in %ECF_HOME%\"\u001b[39m\n",
      "\u001b[33m%include <tail.h>\u001b[39m\n",
      "\u001b[33m\"\"\"\u001b[39m\n",
      "\n",
      "\u001b[38;5;28;01mif\u001b[39;00m __name__ == \u001b[33m'__main__'\u001b[39m:\n",
      "    \u001b[38;5;28;01mif\u001b[39;00m \u001b[38;5;28;01mnot\u001b[39;00m os.path.exists(ECF_FILES):\n",
      "        os.makedirs(ECF_FILES)  \u001b[38;5;66;03m# create script template files directory\u001b[39;00m\n",
      "    NAME = ECF_FILES + \u001b[33m\"/t1.ecf\"\u001b[39m\n",
      "    \u001b[38;5;28;01mwith\u001b[39;00m open(NAME, \u001b[33m\"w\"\u001b[39m) \u001b[38;5;28;01mas\u001b[39;00m t1ecf:\n",
      "        print(SCRIPT_TEMPLATE, file=t1ecf)\n",
      "    print(\u001b[33m\"The script template file is now created:\"\u001b[39m, NAME)\n"
     ]
    }
   ],
   "source": [
    "%pycat src/el13_test_suite_wrapper.py"
   ]
  },
  {
   "cell_type": "markdown",
   "metadata": {
    "slideshow": {
     "slide_type": "slide"
    }
   },
   "source": [
    "## load or replace the node into the Server with a standalone Python ecFlow client"
   ]
  },
  {
   "cell_type": "markdown",
   "metadata": {
    "slideshow": {
     "slide_type": "-"
    }
   },
   "source": [
    "You may ask: why do we need to write an intermediate text file, which is later loaded with another python script which has to read this file?\n",
    "\n",
    "We don't need: this is a tutorial which explains step by step. In practice the suite is most often directly loaded from creation as ecflow.Defs with ecflow.Client into the server.\n",
    "\n",
    "Yet, the text (expanded) suite definition can be read, modified, used with ecflow_client command line, to create, or update a node in an existing suite."
   ]
  },
  {
   "cell_type": "code",
   "execution_count": 70,
   "metadata": {},
   "outputs": [
    {
     "name": "stdout",
     "output_type": "stream",
     "text": [
      "Checking job creation: .ecf -> .job0\n"
     ]
    },
    {
     "ename": "RuntimeError",
     "evalue": "DefsStructureParser::DefsStructureParser: Unable to open file! /Users/map/ecflow_server/elearning.def\n\nEcflow version(5.14.1) boost(1.86.0) compiler(clang 19.1.7) protocol(JSON cereal 1.3.0) openssl(enabled) Compiled on Jul 15 2025 10:35:11\n",
     "output_type": "error",
     "traceback": [
      "\u001b[31m---------------------------------------------------------------------------\u001b[39m",
      "\u001b[31mRuntimeError\u001b[39m                              Traceback (most recent call last)",
      "\u001b[36mFile \u001b[39m\u001b[32m~/202510-ecflow/debian-ecflow/notebook/src/el14_test_suite_client.py:28\u001b[39m\n\u001b[32m     26\u001b[39m \u001b[38;5;28;01mif\u001b[39;00m DEBUG:\n\u001b[32m     27\u001b[39m     \u001b[38;5;28mprint\u001b[39m(\u001b[33m\"\u001b[39m\u001b[33mChecking job creation: .ecf -> .job0\u001b[39m\u001b[33m\"\u001b[39m)\n\u001b[32m---> \u001b[39m\u001b[32m28\u001b[39m     \u001b[38;5;28mprint\u001b[39m(\u001b[43mDefs\u001b[49m\u001b[43m(\u001b[49m\u001b[43mDEFS\u001b[49m\u001b[43m)\u001b[49m.check_job_creation())\n",
      "\u001b[31mRuntimeError\u001b[39m: DefsStructureParser::DefsStructureParser: Unable to open file! /Users/map/ecflow_server/elearning.def\n\nEcflow version(5.14.1) boost(1.86.0) compiler(clang 19.1.7) protocol(JSON cereal 1.3.0) openssl(enabled) Compiled on Jul 15 2025 10:35:11\n"
     ]
    }
   ],
   "source": [
    "%run src/el14_test_suite_client.py"
   ]
  },
  {
   "cell_type": "code",
   "execution_count": 71,
   "metadata": {},
   "outputs": [
    {
     "name": "stdout",
     "output_type": "stream",
     "text": [
      "\u001b[38;5;66;03m#!/usr/bin/env python\u001b[39;00m\n",
      "\u001b[38;5;28;01mfrom\u001b[39;00m __future__ \u001b[38;5;28;01mimport\u001b[39;00m print_function\n",
      "\u001b[38;5;28;01mimport\u001b[39;00m os\n",
      "\u001b[38;5;28;01mimport\u001b[39;00m ecflow\n",
      "\u001b[38;5;28;01mfrom\u001b[39;00m ecflow \u001b[38;5;28;01mimport\u001b[39;00m Client, Defs\n",
      "\u001b[38;5;66;03m# When no arguments is specified, Client uses bash variables ECF_HOST, ECF_PORT\u001b[39;00m\n",
      "HOST = os.getenv(\u001b[33m\"ECF_HOST\"\u001b[39m, \u001b[33m\"localhost\"\u001b[39m)\n",
      "PORT = int(os.getenv(\u001b[33m\"ECF_PORT\"\u001b[39m, \u001b[33m\"%d\"\u001b[39m % (\u001b[32m1500\u001b[39m + os.getuid())))\n",
      "NAME = os.getenv(\u001b[33m\"SUITE\"\u001b[39m, \u001b[33m\"elearning\"\u001b[39m)\n",
      "\u001b[38;5;66;03m# ecflow_start.sh gives port number 1500+uid:\u001b[39;00m\n",
      "CLIENT = Client(HOST + \u001b[33m\":%d\"\u001b[39m % PORT)\n",
      "\u001b[38;5;66;03m# multiple ways to create a client:\u001b[39;00m\n",
      "\u001b[38;5;66;03m# python -c \"import ecflow; help(ecflow.Client)\"\u001b[39;00m\n",
      "ECF_HOME = os.path.join(os.getenv(\u001b[33m\"HOME\"\u001b[39m), \u001b[33m\"ecflow_server\"\u001b[39m) + \u001b[33m\"/\"\u001b[39m\n",
      "\u001b[38;5;28;01mtry\u001b[39;00m:\n",
      "    CLIENT.ping()\n",
      "\u001b[38;5;28;01mexcept\u001b[39;00m RuntimeError \u001b[38;5;28;01mas\u001b[39;00m err:\n",
      "    print(\u001b[33m\"#ERR: ping failed: \"\u001b[39m + str(err))\n",
      "ECF_HOME = os.path.join(os.getenv(\u001b[33m\"HOME\"\u001b[39m), \u001b[33m\"ecflow_server\"\u001b[39m)\n",
      "DEFS = ECF_HOME + \u001b[33m\"/%s.def\"\u001b[39m % NAME\n",
      "\u001b[38;5;28;01mtry\u001b[39;00m:  \u001b[38;5;66;03m# read definition from disk and load into the server:\u001b[39;00m\n",
      "    CLIENT.load(\u001b[33m\"%s.def\"\u001b[39m % ECF_HOME + NAME)\n",
      "\u001b[38;5;28;01mexcept\u001b[39;00m RuntimeError \u001b[38;5;28;01mas\u001b[39;00m err:\n",
      "    CLIENT.replace(\u001b[33m\"/%s\"\u001b[39m % NAME, ECF_HOME + \u001b[33m\"%s.def\"\u001b[39m % NAME)\n",
      "DEBUG = \u001b[38;5;28;01mTrue\u001b[39;00m  \u001b[38;5;66;03m# DEBUG = False\u001b[39;00m\n",
      "\u001b[38;5;28;01mif\u001b[39;00m DEBUG:\n",
      "    print(\u001b[33m\"Checking job creation: .ecf -> .job0\"\u001b[39m)\n",
      "    print(Defs(DEFS).check_job_creation())\n"
     ]
    }
   ],
   "source": [
    "%pycat src/el14_test_suite_client.py"
   ]
  },
  {
   "cell_type": "markdown",
   "metadata": {},
   "source": [
    "check_job_creation can run from the client side to identify if jobs have a chance to be created by ecFlow server. You can fix:\n",
    "- missing task template files\n",
    "- missing include files\n",
    "- ecFlow variables used in a script template, yet undefined in the py-def\n",
    "- missing directories (ECF_HOME, ECF_INCLUDE, ECF_FILES)\n",
    "- unexpected directories right restriction, read only, or directory not accessible"
   ]
  },
  {
   "cell_type": "markdown",
   "metadata": {},
   "source": [
    "## Standalone Python client to download and display live server content"
   ]
  },
  {
   "cell_type": "code",
   "execution_count": 72,
   "metadata": {},
   "outputs": [
    {
     "name": "stdout",
     "output_type": "stream",
     "text": [
      "# edit and uncomment to print defs\n"
     ]
    }
   ],
   "source": [
    "%run src/el15_checking_the_result.py"
   ]
  },
  {
   "cell_type": "markdown",
   "metadata": {},
   "source": [
    "## Delete-Load-Begin a suite... or just replace a node"
   ]
  },
  {
   "cell_type": "code",
   "execution_count": 73,
   "metadata": {},
   "outputs": [
    {
     "name": "stdout",
     "output_type": "stream",
     "text": [
      "Server was restarted\n",
      "Suite elearning is now begun\n"
     ]
    }
   ],
   "source": [
    "%run src/el16_client_load.py"
   ]
  },
  {
   "cell_type": "code",
   "execution_count": 74,
   "metadata": {},
   "outputs": [
    {
     "name": "stdout",
     "output_type": "stream",
     "text": [
      "\u001b[38;5;66;03m#!/usr/bin/env python\u001b[39;00m\n",
      "\u001b[38;5;28;01mfrom\u001b[39;00m __future__ \u001b[38;5;28;01mimport\u001b[39;00m print_function\n",
      "\u001b[38;5;28;01mimport\u001b[39;00m os\n",
      "\u001b[38;5;28;01mimport\u001b[39;00m ecflow\n",
      "\u001b[38;5;66;03m# When no arguments specified uses ECF_HOST and/or ECF_PORT,\u001b[39;00m\n",
      "\u001b[38;5;66;03m# Explicitly set host and port using the same client\u001b[39;00m\n",
      "\u001b[38;5;66;03m# For alternative argument list see ecflow.Client.set_host_port()\u001b[39;00m\n",
      "HOST = os.getenv(\u001b[33m\"ECF_HOST\"\u001b[39m, \u001b[33m\"localhost\"\u001b[39m)\n",
      "PORT = int(os.getenv(\u001b[33m\"ECF_PORT\"\u001b[39m, \u001b[33m\"%d\"\u001b[39m % (\u001b[32m1500\u001b[39m + os.getuid())))\n",
      "CLIENT = ecflow.Client(HOST + \u001b[33m\":%d\"\u001b[39m % PORT)\n",
      "\u001b[38;5;28;01mtry\u001b[39;00m:\n",
      "    CLIENT.ping()\n",
      "\u001b[38;5;28;01mexcept\u001b[39;00m RuntimeError \u001b[38;5;28;01mas\u001b[39;00m err:\n",
      "    print(\u001b[33m\"ping failed: \"\u001b[39m + str(err))\n",
      "\u001b[38;5;28;01mtry\u001b[39;00m:\n",
      "    CLIENT.restart_server()\n",
      "    print(\u001b[33m\"Server was restarted\"\u001b[39m)\n",
      "\u001b[38;5;28;01mexcept\u001b[39;00m RuntimeError \u001b[38;5;28;01mas\u001b[39;00m err:\n",
      "    print(\u001b[33m\"Server could not be restarted\"\u001b[39m)\n",
      "\u001b[38;5;28;01mtry\u001b[39;00m:\n",
      "    NAME = os.getenv(\u001b[33m\"SUITE\"\u001b[39m, \u001b[33m\"elearning\"\u001b[39m)\n",
      "    CLIENT.begin_suite(\u001b[33m\"/%s\"\u001b[39m % NAME)\n",
      "    print(\u001b[33m\"Suite %s is now begun\"\u001b[39m % NAME)\n",
      "\u001b[38;5;28;01mexcept\u001b[39;00m RuntimeError \u001b[38;5;28;01mas\u001b[39;00m err:\n",
      "    print(\u001b[33m\"suite %s could not begin\"\u001b[39m % NAME)\n"
     ]
    }
   ],
   "source": [
    "%pycat src/el16_client_load.py"
   ]
  },
  {
   "cell_type": "markdown",
   "metadata": {},
   "source": [
    "- **restart_server** is issued from the Python client, or from the GUI, **once**, so that jobs can be submitted.\n",
    "- **begin_suite** must be issued each time the suite is loaded. To prevent that, **replace** is sometimes preferred. load would not overwrite a suite already existing on the server and would report an error. Sometimes, **delete** is called on the live suite, to clear the path to the incoming **load**."
   ]
  },
  {
   "cell_type": "markdown",
   "metadata": {
    "slideshow": {
     "slide_type": "slide"
    }
   },
   "source": [
    "# Going Further"
   ]
  },
  {
   "cell_type": "markdown",
   "metadata": {},
   "source": [
    "## Add a task"
   ]
  },
  {
   "cell_type": "code",
   "execution_count": 75,
   "metadata": {},
   "outputs": [
    {
     "name": "stdout",
     "output_type": "stream",
     "text": [
      "Creating suite definition\n",
      "replaced node /elearning/t2 into localhost 2001\n"
     ]
    }
   ],
   "source": [
    "%run src/el21_add_another_task.py"
   ]
  },
  {
   "cell_type": "code",
   "execution_count": 76,
   "metadata": {},
   "outputs": [
    {
     "name": "stdout",
     "output_type": "stream",
     "text": [
      "\u001b[38;5;66;03m#!/usr/bin/env python\u001b[39;00m\n",
      "\u001b[38;5;28;01mfrom\u001b[39;00m __future__ \u001b[38;5;28;01mimport\u001b[39;00m print_function\n",
      "\u001b[33m\"\"\" add another task, another manual \"\"\"\u001b[39m\n",
      "\u001b[38;5;28;01mimport\u001b[39;00m os\n",
      "\u001b[38;5;28;01mfrom\u001b[39;00m ecflow.ecf \u001b[38;5;28;01mimport\u001b[39;00m (Defs, Defstatus, Suite, Variable, Task, Client)\n",
      "print(\u001b[33m\"Creating suite definition\"\u001b[39m)\n",
      "ECF_HOME = os.path.join(os.getenv(\u001b[33m\"HOME\"\u001b[39m), \u001b[33m\"ecflow_server\"\u001b[39m)\n",
      "NAME = os.getenv(\u001b[33m\"SUITE\"\u001b[39m, \u001b[33m\"elearning\"\u001b[39m)\n",
      "DEFS = Defs()\n",
      "DEFS.add(  \u001b[38;5;66;03m# suite definition\u001b[39;00m\n",
      "    Suite(NAME).add(\n",
      "        Defstatus(\u001b[33m\"suspended\"\u001b[39m),  \u001b[38;5;66;03m# so that jobs do not start immediately\u001b[39;00m\n",
      "        Variable(\u001b[33m\"ECF_HOME\"\u001b[39m, ECF_HOME),\n",
      "        Task(\u001b[33m\"t1\"\u001b[39m),  \u001b[38;5;66;03m# first task\u001b[39;00m\n",
      "        Task(\u001b[33m\"t2\"\u001b[39m),  \u001b[38;5;66;03m# second task\u001b[39;00m\n",
      "    ))\n",
      "SCRIPT_TEMPLATE = \u001b[33m\"\"\"%manual\u001b[39m\n",
      "\u001b[33m  Manual for task t2\u001b[39m\n",
      "\u001b[33m  Operations: if this task fails, set it to complete, report next working day\u001b[39m\n",
      "\u001b[33m  Analyst:    Check something ...\u001b[39m\n",
      "\u001b[33m%end\u001b[39m\n",
      "\u001b[33m%include <head.h>\u001b[39m\n",
      "\u001b[33mecho \"I am part of a suite that lives in %ECF_HOME%\"\u001b[39m\n",
      "\u001b[33m%include <tail.h>\u001b[39m\n",
      "\n",
      "\u001b[33m%manual\u001b[39m\n",
      "\u001b[33m  There can be multiple manual pages in the same file.\u001b[39m\n",
      "\u001b[33m  When viewed they are simply concatenated.\u001b[39m\n",
      "\u001b[33m%end\u001b[39m\n",
      "\u001b[33m\"\"\"\u001b[39m\n",
      "\n",
      "\u001b[38;5;28;01mif\u001b[39;00m __name__ == \u001b[33m'__main__'\u001b[39m:\n",
      "    \u001b[38;5;66;03m# create script template file\u001b[39;00m\n",
      "    \u001b[38;5;28;01mwith\u001b[39;00m open(ECF_HOME + \u001b[33m\"/files/t2.ecf\"\u001b[39m, \u001b[33m\"w\"\u001b[39m) \u001b[38;5;28;01mas\u001b[39;00m t2:\n",
      "        print(SCRIPT_TEMPLATE, file=t2)\n",
      "\n",
      "    HOST = os.getenv(\u001b[33m\"ECF_HOST\"\u001b[39m, \u001b[33m\"localhost\"\u001b[39m)\n",
      "    PORT = int(os.getenv(\u001b[33m\"ECF_PORT\"\u001b[39m, \u001b[33m\"%d\"\u001b[39m % (\u001b[32m1500\u001b[39m + os.getuid())))\n",
      "    CLIENT = Client(HOST, PORT)\n",
      "    \n",
      "    NODE = \u001b[33m\"/%s/t2\"\u001b[39m % NAME  \u001b[38;5;66;03m# this may be a family, a task path\u001b[39;00m\n",
      "    CLIENT.replace(NODE, DEFS)\n",
      "    print(\u001b[33m\"replaced node %s into\"\u001b[39m % NODE, HOST, PORT)\n"
     ]
    }
   ],
   "source": [
    "%pycat src/el21_add_another_task.py"
   ]
  },
  {
   "cell_type": "markdown",
   "metadata": {
    "slideshow": {
     "slide_type": "slide"
    }
   },
   "source": [
    "## Add a family"
   ]
  },
  {
   "cell_type": "code",
   "execution_count": 77,
   "metadata": {},
   "outputs": [
    {
     "name": "stdout",
     "output_type": "stream",
     "text": [
      "Creating suite definition\n",
      "replaced node /elearning into localhost 2001\n"
     ]
    }
   ],
   "source": [
    "%run src/el22_add_families.py"
   ]
  },
  {
   "cell_type": "code",
   "execution_count": 78,
   "metadata": {},
   "outputs": [
    {
     "name": "stdout",
     "output_type": "stream",
     "text": [
      "\u001b[38;5;66;03m#!/usr/bin/env python\u001b[39;00m\n",
      "\u001b[38;5;28;01mfrom\u001b[39;00m __future__ \u001b[38;5;28;01mimport\u001b[39;00m print_function\n",
      "\u001b[38;5;28;01mimport\u001b[39;00m os\n",
      "\u001b[38;5;28;01mimport\u001b[39;00m ecflow\n",
      "\u001b[38;5;66;03m# import ecf as ecflow\u001b[39;00m\n",
      "\u001b[38;5;28;01mfrom\u001b[39;00m ecflow \u001b[38;5;28;01mimport\u001b[39;00m (Defstatus, Suite, Family, Task, Edit)\n",
      "print(\u001b[33m\"Creating suite definition\"\u001b[39m)\n",
      "ECF_HOME = os.path.join(os.getenv(\u001b[33m\"HOME\"\u001b[39m), \u001b[33m\"ecflow_server\"\u001b[39m)\n",
      "NAME = os.getenv(\u001b[33m\"SUITE\"\u001b[39m, \u001b[33m\"elearning\"\u001b[39m)\n",
      "DEFS = ecflow.Defs()\n",
      "DEFS.add(  \u001b[38;5;66;03m# suite definition\u001b[39;00m\n",
      "    Suite(NAME).add(\n",
      "        Defstatus(\u001b[33m\"suspended\"\u001b[39m),  \u001b[38;5;66;03m# so that jobs do not start immediately\u001b[39;00m\n",
      "        Edit(ECF_HOME=ECF_HOME,\n",
      "                  ECF_FILES=ECF_HOME + \u001b[33m\"/files\"\u001b[39m,\n",
      "                  ECF_INCLUDE=ECF_HOME + \u001b[33m\"/include\"\u001b[39m),\n",
      "        Family(\u001b[33m\"f1\"\u001b[39m).add(  \u001b[38;5;66;03m# hosting family\u001b[39;00m\n",
      "            Task(\u001b[33m\"t1\"\u001b[39m),    \u001b[38;5;66;03m# a first task\u001b[39;00m\n",
      "            Task(\u001b[33m\"t2\"\u001b[39m),    \u001b[38;5;66;03m# a second task\u001b[39;00m\n",
      "        )))\n",
      "\n",
      "\u001b[38;5;28;01mif\u001b[39;00m __name__ == \u001b[33m'__main__'\u001b[39m:\n",
      "    HOST = os.getenv(\u001b[33m\"ECF_HOST\"\u001b[39m, \u001b[33m\"localhost\"\u001b[39m)\n",
      "    PORT = int(os.getenv(\u001b[33m\"ECF_PORT\"\u001b[39m, \u001b[33m\"%d\"\u001b[39m % (\u001b[32m1500\u001b[39m + os.getuid())))\n",
      "    CLIENT = ecflow.Client(HOST, PORT)\n",
      "\n",
      "    NODE = \u001b[33m\"/\"\u001b[39m + NAME  \u001b[38;5;66;03m# replace suite node: add f1, delete t1 t2\u001b[39;00m\n",
      "    CLIENT.replace(NODE, DEFS)\n",
      "    print(\u001b[33m\"replaced node %s into\"\u001b[39m % NODE, HOST, PORT)\n"
     ]
    }
   ],
   "source": [
    "%pycat src/el22_add_families.py"
   ]
  },
  {
   "cell_type": "markdown",
   "metadata": {
    "slideshow": {
     "slide_type": "slide"
    }
   },
   "source": [
    "## Add variables"
   ]
  },
  {
   "cell_type": "markdown",
   "metadata": {},
   "source": [
    "Variables are essential to a suite. They are attached to a node as an **attribute** (keyword edit in text defintion file, the native ecflow API is node.add_variable(\"NAME\", \"value\") and ecf.py used in this tutorial defines them with node.add(Variables(a_dictionnary)).\n",
    "\n",
    "When preprocessing the task script to generate the job, ecFlow server replace each occurence of a variable (name surrounded by the % ECF_MICRO character) with its value.\n",
    "\n",
    "A task may inherit a variable from a parent node, or overwrite the inherited value, defining it again."
   ]
  },
  {
   "cell_type": "code",
   "execution_count": 80,
   "metadata": {},
   "outputs": [
    {
     "name": "stdout",
     "output_type": "stream",
     "text": [
      "replaced node /elearning into localhost 2001\n"
     ]
    }
   ],
   "source": [
    "%run src/el23_add_variable.py"
   ]
  },
  {
   "cell_type": "code",
   "execution_count": 81,
   "metadata": {},
   "outputs": [
    {
     "name": "stdout",
     "output_type": "stream",
     "text": [
      "\u001b[38;5;66;03m#!/usr/bin/env python\u001b[39;00m\n",
      "\u001b[38;5;28;01mfrom\u001b[39;00m __future__ \u001b[38;5;28;01mimport\u001b[39;00m print_function\n",
      "\u001b[38;5;28;01mimport\u001b[39;00m os\n",
      "\u001b[38;5;28;01mimport\u001b[39;00m ecflow\n",
      "\u001b[38;5;28;01mfrom\u001b[39;00m ecflow \u001b[38;5;28;01mimport\u001b[39;00m (Defstatus, Suite, Task, Edit)\n",
      "ECF_HOME = os.path.join(os.getenv(\u001b[33m\"HOME\"\u001b[39m), \u001b[33m\"ecflow_server\"\u001b[39m)\n",
      "ECF_FILES = ECF_HOME + \u001b[33m\"/files\"\u001b[39m\n",
      "NAME = os.getenv(\u001b[33m\"SUITE\"\u001b[39m, \u001b[33m\"elearning\"\u001b[39m)\n",
      "DEFS = ecflow.Defs()\n",
      "DEFS.add(  \u001b[38;5;66;03m# suite definition\u001b[39;00m\n",
      "    Suite(NAME).add(\n",
      "        Defstatus(\u001b[33m\"suspended\"\u001b[39m),  \u001b[38;5;66;03m# so that jobs do not start immediately\u001b[39;00m\n",
      "        Edit(  \u001b[38;5;66;03m# we can add multiple variables at once\u001b[39;00m\n",
      "            ECF_HOME=ECF_HOME,    \u001b[38;5;66;03m# where job files are created by ecflow\u001b[39;00m\n",
      "            ECF_FILES=ECF_FILES,  \u001b[38;5;66;03m# where to find script templates .ecf\u001b[39;00m\n",
      "            ECF_INCLUDE=ECF_HOME + \u001b[33m\"/include\"\u001b[39m,  \u001b[38;5;66;03m# where to find head.h tail.h\u001b[39;00m\n",
      "            SLEEP=\u001b[32m1\u001b[39m,  \u001b[38;5;66;03m# user variable to be inherited by task/families below\u001b[39;00m\n",
      "        ),\n",
      "        Task(\u001b[33m\"t1\"\u001b[39m).add(\n",
      "            Edit(SLEEP=\u001b[32m5\u001b[39m),  \u001b[38;5;66;03m# overwriting with value 5 for task t1\u001b[39;00m\n",
      "        ),\n",
      "        Task(\u001b[33m\"t2\"\u001b[39m).add(\n",
      "            Edit(SLEEP=\u001b[32m7\u001b[39m),  \u001b[38;5;66;03m# overwriting with value 7 for task t2\u001b[39;00m\n",
      "        )))\n",
      "\n",
      "SCRIPT_TEMPLATE = \u001b[33m\"\"\"#!/bin/bash\u001b[39m\n",
      "\u001b[33m%include <head.h>\u001b[39m\n",
      "\u001b[33mecho \"I will now sleep for %SLEEP:1% seconds\"\u001b[39m\n",
      "\u001b[33msleep %SLEEP:1%\u001b[39m\n",
      "\u001b[33m%include <tail.h>\u001b[39m\n",
      "\u001b[33m\"\"\"\u001b[39m\n",
      "\n",
      "\u001b[38;5;28;01mif\u001b[39;00m __name__ == \u001b[33m'__main__'\u001b[39m:\n",
      "    \u001b[38;5;28;01mwith\u001b[39;00m open(ECF_FILES + \u001b[33m\"/t1.ecf\"\u001b[39m, \u001b[33m\"w\"\u001b[39m) \u001b[38;5;28;01mas\u001b[39;00m t1:\n",
      "        print(SCRIPT_TEMPLATE, file=t1)\n",
      "    \u001b[38;5;28;01mwith\u001b[39;00m open(ECF_FILES + \u001b[33m\"/t2.ecf\"\u001b[39m, \u001b[33m\"w\"\u001b[39m) \u001b[38;5;28;01mas\u001b[39;00m t2:\n",
      "        print(SCRIPT_TEMPLATE, file=t2)\n",
      "\n",
      "    HOST = os.getenv(\u001b[33m\"ECF_HOST\"\u001b[39m, \u001b[33m\"localhost\"\u001b[39m)\n",
      "    PORT = int(os.getenv(\u001b[33m\"ECF_PORT\"\u001b[39m, \u001b[33m\"%d\"\u001b[39m % (\u001b[32m1500\u001b[39m + os.getuid())))\n",
      "    CLIENT = ecflow.Client(HOST, PORT)\n",
      "\n",
      "    NODE = \u001b[33m\"/\"\u001b[39m + NAME  \u001b[38;5;66;03m# this might be a family, a task path\u001b[39;00m\n",
      "    CLIENT.replace(NODE, DEFS)\n",
      "    print(\u001b[33m\"replaced node %s into\"\u001b[39m % NODE, HOST, PORT)\n"
     ]
    }
   ],
   "source": [
    "%pycat src/el23_add_variable.py"
   ]
  },
  {
   "cell_type": "markdown",
   "metadata": {
    "slideshow": {
     "slide_type": "slide"
    }
   },
   "source": [
    "## Add Trigger"
   ]
  },
  {
   "cell_type": "markdown",
   "metadata": {},
   "source": [
    "The Trigger attribute will prevent the task to run until its expression is true.\n",
    "\n",
    "The expression may contain reference to other nodes for their status, it may reference variables, events, meters, limits.\n",
    "\n",
    "It is possible to inhibit triggers in a suite setting \"ecf.USE_TRIGGER=False\", when we design a suite, and few trigger expression refer to \"missing\" nodes."
   ]
  },
  {
   "cell_type": "code",
   "execution_count": 82,
   "metadata": {},
   "outputs": [
    {
     "name": "stdout",
     "output_type": "stream",
     "text": [
      "replaced node /elearning/f1 into localhost 2001\n"
     ]
    }
   ],
   "source": [
    "%run src/el24_add_trigger.py"
   ]
  },
  {
   "cell_type": "code",
   "execution_count": 83,
   "metadata": {},
   "outputs": [
    {
     "name": "stdout",
     "output_type": "stream",
     "text": [
      "\u001b[38;5;66;03m#!/usr/bin/env python\u001b[39;00m\n",
      "\u001b[38;5;28;01mfrom\u001b[39;00m __future__ \u001b[38;5;28;01mimport\u001b[39;00m print_function\n",
      "\u001b[38;5;28;01mimport\u001b[39;00m os\n",
      "\u001b[38;5;28;01mimport\u001b[39;00m ecflow\n",
      "\u001b[38;5;28;01mfrom\u001b[39;00m ecflow \u001b[38;5;28;01mimport\u001b[39;00m (Defstatus, Suite, Family, Task, Edit, Trigger)\n",
      "TASK3 = Task(\u001b[33m\"t3\"\u001b[39m)  \u001b[38;5;66;03m# a python object can be set, and added later to the suite\u001b[39;00m\n",
      "ECF_HOME = os.path.join(os.getenv(\u001b[33m\"HOME\"\u001b[39m), \u001b[33m\"ecflow_server\"\u001b[39m)\n",
      "NAME = os.getenv(\u001b[33m\"SUITE\"\u001b[39m, \u001b[33m\"elearning\"\u001b[39m)\n",
      "DEFS = ecflow.Defs()\n",
      "DEFS.add(  \u001b[38;5;66;03m# suite definition\u001b[39;00m\n",
      "    Suite(NAME).add(\n",
      "        Defstatus(\u001b[33m\"suspended\"\u001b[39m),  \u001b[38;5;66;03m# so that jobs do not start immediately\u001b[39;00m\n",
      "        Edit(\n",
      "            ECF_HOME=ECF_HOME,  \u001b[38;5;66;03m# where job files are created by ecflow\u001b[39;00m\n",
      "            ECF_FILES=ECF_HOME + \u001b[33m\"/files\"\u001b[39m,      \u001b[38;5;66;03m# where to find script template\u001b[39;00m\n",
      "            ECF_INCLUDE=ECF_HOME + \u001b[33m\"/include\"\u001b[39m,  \u001b[38;5;66;03m# where to find head.h tail.h\u001b[39;00m\n",
      "            SLEEP=\u001b[32m1\u001b[39m, ),\n",
      "        Family(\u001b[33m\"f1\"\u001b[39m).add(\n",
      "            Task(\u001b[33m\"t1\"\u001b[39m).add(Edit(SLEEP=\u001b[32m5\u001b[39m)),\n",
      "            Task(\u001b[33m\"t2\"\u001b[39m).add(Edit(SLEEP=\u001b[32m7\u001b[39m),\n",
      "                           Trigger(\u001b[33m\"t1 eq complete\"\u001b[39m)),\n",
      "            TASK3,\n",
      "            Task(\u001b[33m\"t4\"\u001b[39m).add(Trigger([\u001b[33m\"t1\"\u001b[39m, \u001b[33m\"t2\"\u001b[39m])))))\n",
      "\n",
      "SCRIPT_TEMPLATE = \u001b[33m\"\"\"#!/bin/bash\u001b[39m\n",
      "\u001b[33m%include <head.h>\u001b[39m\n",
      "\u001b[33mecho \"I will now sleep for %SLEEP:1% seconds\"; sleep %SLEEP:1%\u001b[39m\n",
      "\u001b[33m%include <tail.h>\u001b[39m\n",
      "\u001b[33m\"\"\"\u001b[39m\n",
      "\n",
      "\u001b[38;5;28;01mif\u001b[39;00m __name__ == \u001b[33m'__main__'\u001b[39m:\n",
      "    ecflow.USE_TRIGGER = \u001b[38;5;28;01mTrue\u001b[39;00m;  \u001b[38;5;66;03m# ecflow.USE_TRIGGER = False;  # DEBUG\u001b[39;00m\n",
      "    \u001b[38;5;28;01mfor\u001b[39;00m num \u001b[38;5;28;01min\u001b[39;00m (\u001b[32m1\u001b[39m, \u001b[32m2\u001b[39m, \u001b[32m3\u001b[39m, \u001b[32m4\u001b[39m):  \u001b[38;5;66;03m# create task template files\u001b[39;00m\n",
      "        \u001b[38;5;28;01mwith\u001b[39;00m open(ECF_HOME + \u001b[33m\"/files/t%d.ecf\"\u001b[39m % num, \u001b[33m\"w\"\u001b[39m) \u001b[38;5;28;01mas\u001b[39;00m t:\n",
      "            print(SCRIPT_TEMPLATE, file=t)\n",
      "    HOST = os.getenv(\u001b[33m\"ECF_HOST\"\u001b[39m, \u001b[33m\"localhost\"\u001b[39m)\n",
      "    PORT = int(os.getenv(\u001b[33m\"ECF_PORT\"\u001b[39m, \u001b[33m\"%d\"\u001b[39m % (\u001b[32m1500\u001b[39m + os.getuid())))\n",
      "    CLIENT = ecflow.Client(HOST, PORT)\n",
      "\n",
      "    NODE = \u001b[33m\"/%s/f1\"\u001b[39m % NAME  \u001b[38;5;66;03m# this may be a family, a task path\u001b[39;00m\n",
      "    CLIENT.replace(NODE, DEFS)\n",
      "    print(\u001b[33m\"replaced node %s into\"\u001b[39m % NODE, HOST, PORT)\n"
     ]
    }
   ],
   "source": [
    "%pycat src/el24_add_trigger.py"
   ]
  },
  {
   "cell_type": "markdown",
   "metadata": {},
   "source": [
    "## Add Complete"
   ]
  },
  {
   "cell_type": "markdown",
   "metadata": {},
   "source": [
    "The Complete attribute is the counterpart of trigger. It will set the task complete as soon as the expresssion is true, so that the job may not have to run."
   ]
  },
  {
   "cell_type": "code",
   "execution_count": 84,
   "metadata": {},
   "outputs": [
    {
     "name": "stdout",
     "output_type": "stream",
     "text": [
      "replaced node /elearning into localhost 2001\n"
     ]
    }
   ],
   "source": [
    "%run src/el26_add_complete.py"
   ]
  },
  {
   "cell_type": "code",
   "execution_count": 85,
   "metadata": {},
   "outputs": [
    {
     "name": "stdout",
     "output_type": "stream",
     "text": [
      "\u001b[38;5;66;03m#!/usr/bin/env python\u001b[39;00m\n",
      "\u001b[38;5;28;01mfrom\u001b[39;00m __future__ \u001b[38;5;28;01mimport\u001b[39;00m print_function\n",
      "\u001b[38;5;28;01mimport\u001b[39;00m os\n",
      "\u001b[38;5;28;01mimport\u001b[39;00m ecflow\n",
      "\u001b[38;5;28;01mfrom\u001b[39;00m ecflow \u001b[38;5;28;01mimport\u001b[39;00m (Defstatus, Suite, Family, Task, Edit, Trigger, Event,\n",
      "                 Complete, Defs, Client)\n",
      "ECF_HOME = os.path.join(os.getenv(\u001b[33m\"HOME\"\u001b[39m), \u001b[33m\"ecflow_server\"\u001b[39m)\n",
      "NAME = os.getenv(\u001b[33m\"SUITE\"\u001b[39m, \u001b[33m\"elearning\"\u001b[39m)\n",
      "DEFS = Defs()\n",
      "DEFS.add(  \u001b[38;5;66;03m# suite definition\u001b[39;00m\n",
      "    Suite(NAME).add(\n",
      "        Defstatus(\u001b[33m\"suspended\"\u001b[39m),  \u001b[38;5;66;03m# so that jobs do not start immediately\u001b[39;00m\n",
      "        Edit(  \u001b[38;5;66;03m# add multiple variables at once:\u001b[39;00m\n",
      "            ECF_HOME=ECF_HOME,  \u001b[38;5;66;03m# where job files are created by ecflow\u001b[39;00m\n",
      "            ECF_FILES=ECF_HOME + \u001b[33m\"/files\"\u001b[39m,     \u001b[38;5;66;03m# where to find script template\u001b[39;00m\n",
      "            ECF_INCLUDE=ECF_HOME + \u001b[33m\"/include\"\u001b[39m,  \u001b[38;5;66;03m# where to find head.h tail.h\u001b[39;00m\n",
      "            SLEEP=\u001b[32m5\u001b[39m),\n",
      "        Family(\u001b[33m\"f1\"\u001b[39m).add(\n",
      "            Task(\u001b[33m\"t1\"\u001b[39m),\n",
      "            Task(\u001b[33m\"t2\"\u001b[39m).add(\n",
      "                Trigger(\u001b[33m\"t1 eq complete\"\u001b[39m),\n",
      "                Event(\u001b[33m\"a\"\u001b[39m),\n",
      "                Event(\u001b[33m\"1\"\u001b[39m)),\n",
      "            Task(\u001b[33m\"t3\"\u001b[39m).add(\n",
      "                Trigger(\u001b[33m\"t2:a\"\u001b[39m)),\n",
      "            Task(\u001b[33m\"t4\"\u001b[39m).add(\n",
      "                Complete(\u001b[33m\"t2:1\"\u001b[39m),\n",
      "                Trigger(\u001b[33m\"t2 eq complete\"\u001b[39m), ))))\n",
      "\n",
      "\u001b[38;5;28;01mif\u001b[39;00m __name__ == \u001b[33m'__main__'\u001b[39m:\n",
      "    HOST = os.getenv(\u001b[33m\"ECF_HOST\"\u001b[39m, \u001b[33m\"localhost\"\u001b[39m)\n",
      "    PORT = int(os.getenv(\u001b[33m\"ECF_PORT\"\u001b[39m, \u001b[33m\"%d\"\u001b[39m % (\u001b[32m1500\u001b[39m + os.getuid())))\n",
      "    CLIENT = Client(HOST, PORT)\n",
      "    NODE = \u001b[33m\"/\"\u001b[39m + NAME  \u001b[38;5;66;03m# replace top\u001b[39;00m\n",
      "    CLIENT.replace(NODE, DEFS)\n",
      "    print(\u001b[33m\"replaced node %s into\"\u001b[39m % NODE, HOST, PORT)\n"
     ]
    }
   ],
   "source": [
    "%pycat src/el26_add_complete.py"
   ]
  },
  {
   "cell_type": "markdown",
   "metadata": {
    "slideshow": {
     "slide_type": "slide"
    }
   },
   "source": [
    "## Add Event"
   ]
  },
  {
   "cell_type": "markdown",
   "metadata": {},
   "source": [
    "The event is created as an attribute attached to a node (Task, Family) and updated (set) \n",
    "- by the job calling the \"ecflow_client --event\" command\n",
    "- or a user, using the command \"ecflow_client --alter change event\""
   ]
  },
  {
   "cell_type": "code",
   "execution_count": 88,
   "metadata": {},
   "outputs": [
    {
     "name": "stdout",
     "output_type": "stream",
     "text": [
      "replaced node /elearning into localhost 2001\n"
     ]
    }
   ],
   "source": [
    "%run src/el27_add_event.py"
   ]
  },
  {
   "cell_type": "code",
   "execution_count": 89,
   "metadata": {},
   "outputs": [
    {
     "name": "stdout",
     "output_type": "stream",
     "text": [
      "\u001b[38;5;66;03m#!/usr/bin/env python\u001b[39;00m\n",
      "\u001b[38;5;28;01mfrom\u001b[39;00m __future__ \u001b[38;5;28;01mimport\u001b[39;00m print_function\n",
      "\u001b[38;5;28;01mimport\u001b[39;00m os\n",
      "\u001b[38;5;28;01mimport\u001b[39;00m ecflow\n",
      "\u001b[38;5;28;01mfrom\u001b[39;00m ecflow \u001b[38;5;28;01mimport\u001b[39;00m (Defstatus, Suite, Family, Task, Edit, Trigger, Event, Defs, Client)\n",
      "ECF_HOME = os.path.join(os.getenv(\u001b[33m\"HOME\"\u001b[39m), \u001b[33m\"ecflow_server\"\u001b[39m)\n",
      "NAME = os.getenv(\u001b[33m\"SUITE\"\u001b[39m, \u001b[33m\"elearning\"\u001b[39m)\n",
      "DEFS = Defs()\n",
      "DEFS.add(  \u001b[38;5;66;03m# suite definition\u001b[39;00m\n",
      "    Suite(NAME).add(\n",
      "        Defstatus(\u001b[33m\"suspended\"\u001b[39m),  \u001b[38;5;66;03m# so that jobs do not start immediately\u001b[39;00m\n",
      "        Edit(  \u001b[38;5;66;03m# add multiple variables at once:\u001b[39;00m\n",
      "            ECF_HOME=ECF_HOME,  \u001b[38;5;66;03m# where job files are created by ecflow\u001b[39;00m\n",
      "            ECF_FILES=ECF_HOME + \u001b[33m\"/files\"\u001b[39m,      \u001b[38;5;66;03m# where to find script template\u001b[39;00m\n",
      "            ECF_INCLUDE=ECF_HOME + \u001b[33m\"/include\"\u001b[39m,  \u001b[38;5;66;03m# where to find head.h tail.h\u001b[39;00m\n",
      "            SLEEP=\u001b[32m5\u001b[39m),\n",
      "        Family(\u001b[33m\"f1\"\u001b[39m).add(\n",
      "            Task(\u001b[33m\"t1\"\u001b[39m),\n",
      "            Task(\u001b[33m\"t2\"\u001b[39m).add(\n",
      "                Trigger(\u001b[33m\"t1 eq complete\"\u001b[39m),\n",
      "                Event(\u001b[33m\"a\"\u001b[39m),\n",
      "                Event(\u001b[33m\"1\"\u001b[39m)),\n",
      "            Task(\u001b[33m\"t3\"\u001b[39m).add(\n",
      "                Trigger(\u001b[33m\"t2:a\"\u001b[39m)),\n",
      "            Task(\u001b[33m\"t4\"\u001b[39m).add(\n",
      "                Trigger(\u001b[33m\"t2:1\"\u001b[39m)))))\n",
      "\n",
      "SCRIPT_TEMPLATE = \u001b[33m\"\"\"#!/bin/bash\u001b[39m\n",
      "\u001b[33m%include <head.h>\u001b[39m\n",
      "\u001b[33mecho \"I will now sleep for %SLEEP:1% seconds\"\u001b[39m\n",
      "\u001b[33msleep %SLEEP:1%; ecflow_client --event a  # set first event\u001b[39m\n",
      "\u001b[33msleep %SLEEP:!%; ecflow_client --event 1  # set a second event\u001b[39m\n",
      "\u001b[33msleep %SLEEP:1%;  # don't sleep too much anyway\u001b[39m\n",
      "\u001b[33m%include <tail.h>\u001b[39m\n",
      "\u001b[33m\"\"\"\u001b[39m\n",
      "\n",
      "\u001b[38;5;28;01mif\u001b[39;00m __name__ == \u001b[33m'__main__'\u001b[39m:\n",
      "    \u001b[38;5;28;01mfor\u001b[39;00m task \u001b[38;5;28;01min\u001b[39;00m (\u001b[33m\"t1\"\u001b[39m, \u001b[33m\"t2\"\u001b[39m, \u001b[33m\"t3\"\u001b[39m, \u001b[33m\"t4\"\u001b[39m):  \u001b[38;5;66;03m# replace all script templates\u001b[39;00m\n",
      "        \u001b[38;5;28;01mwith\u001b[39;00m open(ECF_HOME + \u001b[33m\"/files/%s.ecf\"\u001b[39m % task, \u001b[33m\"w\"\u001b[39m) \u001b[38;5;28;01mas\u001b[39;00m t:\n",
      "            print(SCRIPT_TEMPLATE, file=t)\n",
      "    HOST = os.getenv(\u001b[33m\"ECF_HOST\"\u001b[39m, \u001b[33m\"localhost\"\u001b[39m)\n",
      "    PORT = int(os.getenv(\u001b[33m\"ECF_PORT\"\u001b[39m, \u001b[33m\"%d\"\u001b[39m % (\u001b[32m1500\u001b[39m + os.getuid())))\n",
      "    CLIENT = Client(HOST, PORT)\n",
      "    NODE = \u001b[33m\"/\"\u001b[39m + NAME  \u001b[38;5;66;03m# replace top\u001b[39;00m\n",
      "    CLIENT.replace(NODE, DEFS)\n",
      "    print(\u001b[33m\"replaced node %s into\"\u001b[39m % NODE, HOST, PORT)\n"
     ]
    }
   ],
   "source": [
    "%pycat src/el27_add_event.py"
   ]
  },
  {
   "cell_type": "markdown",
   "metadata": {
    "slideshow": {
     "slide_type": "slide"
    }
   },
   "source": [
    "## Add Meter"
   ]
  },
  {
   "cell_type": "markdown",
   "metadata": {},
   "source": [
    "The Meter attribute is attached to a Task (or a Family) so that the job (or client) can update its integer value."
   ]
  },
  {
   "cell_type": "code",
   "execution_count": 90,
   "metadata": {},
   "outputs": [
    {
     "name": "stdout",
     "output_type": "stream",
     "text": [
      "<_io.TextIOWrapper name='/Users/map/ecflow_server/files/t1.ecf' mode='w' encoding='UTF-8'>\n",
      "<_io.TextIOWrapper name='/Users/map/ecflow_server/files/t2.ecf' mode='w' encoding='UTF-8'>\n",
      "<_io.TextIOWrapper name='/Users/map/ecflow_server/files/t3.ecf' mode='w' encoding='UTF-8'>\n",
      "<_io.TextIOWrapper name='/Users/map/ecflow_server/files/t4.ecf' mode='w' encoding='UTF-8'>\n",
      "<_io.TextIOWrapper name='/Users/map/ecflow_server/files/t5.ecf' mode='w' encoding='UTF-8'>\n",
      "<_io.TextIOWrapper name='/Users/map/ecflow_server/files/t6.ecf' mode='w' encoding='UTF-8'>\n",
      "<_io.TextIOWrapper name='/Users/map/ecflow_server/files/t7.ecf' mode='w' encoding='UTF-8'>\n",
      "replaced node /elearning/f2 into localhost 2001\n"
     ]
    }
   ],
   "source": [
    "%run src/el28_add_meter.py"
   ]
  },
  {
   "cell_type": "markdown",
   "metadata": {
    "slideshow": {
     "slide_type": "slide"
    }
   },
   "source": [
    "## Add Date and Time"
   ]
  },
  {
   "cell_type": "markdown",
   "metadata": {},
   "source": [
    "The Date attribute holds the job to run until the date is achieved. \n",
    "\n",
    "A Time attribute prevents the job to be submitted immediately. It can be one value (ex 10:00), or a range of time (with an interval, ). Multiple Time attributes can be attached to the same node. Be careful, that, until the last occurence is met, the task is immediately requeued, so that there should not be any trigger referring to the task complete...\n",
    "\n",
    "When Date and Time are associated, Date holds first, then the Task wait for the Time to start.\n",
    "\n",
    "When a parent node is **suspended**, it is not enough for a date or time condition to fall. Yet the task will not start until the suspended node is **resumed**. Some may say these attribute have memory. the **why** command/Panel will show when the next expected task occurence is. The **requeue** command will 'restore consumed token' when the task was **executed** (forced to run) manually with the GUI.\n",
    "\n",
    "We can attach these attributes to a dummy task and refer to it with a trigger in many cases. That way the task, without time dependency directly attached, can be requeued, without reactivating the time condition."
   ]
  },
  {
   "cell_type": "code",
   "execution_count": 96,
   "metadata": {},
   "outputs": [
    {
     "ename": "FileNotFoundError",
     "evalue": "[Errno 2] No such file or directory: '/Users/map/ecflow_server/elearning/t1.ecf'",
     "output_type": "error",
     "traceback": [
      "\u001b[31m---------------------------------------------------------------------------\u001b[39m",
      "\u001b[31mFileNotFoundError\u001b[39m                         Traceback (most recent call last)",
      "\u001b[36mFile \u001b[39m\u001b[32m~/202510-ecflow/debian-ecflow/notebook/src/el29_add_time_date.py:39\u001b[39m\n\u001b[32m     37\u001b[39m \u001b[38;5;28;01mif\u001b[39;00m \u001b[34m__name__\u001b[39m == \u001b[33m'\u001b[39m\u001b[33m__main__\u001b[39m\u001b[33m'\u001b[39m:\n\u001b[32m     38\u001b[39m     \u001b[38;5;28;01mfor\u001b[39;00m task \u001b[38;5;129;01min\u001b[39;00m (\u001b[33m\"\u001b[39m\u001b[33mt1\u001b[39m\u001b[33m\"\u001b[39m, \u001b[33m\"\u001b[39m\u001b[33mt5\u001b[39m\u001b[33m\"\u001b[39m, \u001b[33m\"\u001b[39m\u001b[33mt6\u001b[39m\u001b[33m\"\u001b[39m, \u001b[33m\"\u001b[39m\u001b[33mt7\u001b[39m\u001b[33m\"\u001b[39m):  \u001b[38;5;66;03m# replace all scrip templates\u001b[39;00m\n\u001b[32m---> \u001b[39m\u001b[32m39\u001b[39m         \u001b[38;5;28;01mwith\u001b[39;00m \u001b[38;5;28;43mopen\u001b[39;49m\u001b[43m(\u001b[49m\u001b[43mECF_HOME\u001b[49m\u001b[43m \u001b[49m\u001b[43m+\u001b[49m\u001b[43m \u001b[49m\u001b[33;43m\"\u001b[39;49m\u001b[33;43m/\u001b[39;49m\u001b[38;5;132;43;01m%s\u001b[39;49;00m\u001b[33;43m/\u001b[39;49m\u001b[38;5;132;43;01m%s\u001b[39;49;00m\u001b[33;43m.ecf\u001b[39;49m\u001b[33;43m\"\u001b[39;49m\u001b[43m \u001b[49m\u001b[43m%\u001b[49m\u001b[43m \u001b[49m\u001b[43m(\u001b[49m\u001b[43mNAME\u001b[49m\u001b[43m,\u001b[49m\u001b[43m \u001b[49m\u001b[43mtask\u001b[49m\u001b[43m)\u001b[49m\u001b[43m,\u001b[49m\u001b[43m \u001b[49m\u001b[33;43m\"\u001b[39;49m\u001b[33;43mw\u001b[39;49m\u001b[33;43m\"\u001b[39;49m\u001b[43m)\u001b[49m \u001b[38;5;28;01mas\u001b[39;00m t:\n\u001b[32m     40\u001b[39m             \u001b[38;5;28mprint\u001b[39m(SCRIPT_TEMPLATE, file=t)\n\u001b[32m     41\u001b[39m     HOST = os.getenv(\u001b[33m\"\u001b[39m\u001b[33mECF_HOST\u001b[39m\u001b[33m\"\u001b[39m, \u001b[33m\"\u001b[39m\u001b[33mlocalhost\u001b[39m\u001b[33m\"\u001b[39m)\n",
      "\u001b[31mFileNotFoundError\u001b[39m: [Errno 2] No such file or directory: '/Users/map/ecflow_server/elearning/t1.ecf'"
     ]
    }
   ],
   "source": [
    "%run src/el29_add_time_date.py"
   ]
  },
  {
   "cell_type": "code",
   "execution_count": 38,
   "metadata": {},
   "outputs": [],
   "source": [
    "%pycat src/el29_add_time_date.py"
   ]
  },
  {
   "cell_type": "markdown",
   "metadata": {
    "slideshow": {
     "slide_type": "slide"
    }
   },
   "source": [
    "## Add Label"
   ]
  },
  {
   "cell_type": "markdown",
   "metadata": {},
   "source": [
    "A label is a text message attached to the task (or Family) which is updated by the task (or client)."
   ]
  },
  {
   "cell_type": "code",
   "execution_count": 39,
   "metadata": {},
   "outputs": [
    {
     "name": "stdout",
     "output_type": "stream",
     "text": [
      "replaced node /elearning into localhost 2500\n"
     ]
    }
   ],
   "source": [
    "%run src/el30_add_label.py"
   ]
  },
  {
   "cell_type": "code",
   "execution_count": 37,
   "metadata": {},
   "outputs": [
    {
     "data": {
      "text/plain": [
       "\u001b[0;31m#!/usr/bin/env python\u001b[0m\u001b[0;34m\u001b[0m\n",
       "\u001b[0;34m\u001b[0m\u001b[0;32mfrom\u001b[0m \u001b[0m__future__\u001b[0m \u001b[0;32mimport\u001b[0m \u001b[0mprint_function\u001b[0m\u001b[0;34m\u001b[0m\n",
       "\u001b[0;34m\u001b[0m\u001b[0;32mimport\u001b[0m \u001b[0mos\u001b[0m\u001b[0;34m\u001b[0m\n",
       "\u001b[0;34m\u001b[0m\u001b[0;32mimport\u001b[0m \u001b[0mecf\u001b[0m \u001b[0;32mas\u001b[0m \u001b[0mecflow\u001b[0m\u001b[0;34m\u001b[0m\n",
       "\u001b[0;34m\u001b[0m\u001b[0;32mfrom\u001b[0m \u001b[0mecf\u001b[0m \u001b[0;32mimport\u001b[0m \u001b[0;34m(\u001b[0m\u001b[0mDefstatus\u001b[0m\u001b[0;34m,\u001b[0m \u001b[0mSuite\u001b[0m\u001b[0;34m,\u001b[0m \u001b[0mFamily\u001b[0m\u001b[0;34m,\u001b[0m \u001b[0mTask\u001b[0m\u001b[0;34m,\u001b[0m \u001b[0mVariables\u001b[0m\u001b[0;34m,\u001b[0m \u001b[0mLabel\u001b[0m\u001b[0;34m,\u001b[0m \u001b[0mMeter\u001b[0m\u001b[0;34m)\u001b[0m\u001b[0;34m\u001b[0m\n",
       "\u001b[0;34m\u001b[0m\u001b[0mECF_HOME\u001b[0m \u001b[0;34m=\u001b[0m \u001b[0mos\u001b[0m\u001b[0;34m.\u001b[0m\u001b[0mpath\u001b[0m\u001b[0;34m.\u001b[0m\u001b[0mjoin\u001b[0m\u001b[0;34m(\u001b[0m\u001b[0mos\u001b[0m\u001b[0;34m.\u001b[0m\u001b[0mgetenv\u001b[0m\u001b[0;34m(\u001b[0m\u001b[0;34m\"HOME\"\u001b[0m\u001b[0;34m)\u001b[0m\u001b[0;34m,\u001b[0m \u001b[0;34m\"ecflow_server\"\u001b[0m\u001b[0;34m)\u001b[0m\u001b[0;34m\u001b[0m\n",
       "\u001b[0;34m\u001b[0m\u001b[0mECF_INCLUDE\u001b[0m \u001b[0;34m=\u001b[0m \u001b[0mECF_HOME\u001b[0m \u001b[0;34m+\u001b[0m \u001b[0;34m\"/include\"\u001b[0m\u001b[0;34m\u001b[0m\n",
       "\u001b[0;34m\u001b[0m\u001b[0mNAME\u001b[0m \u001b[0;34m=\u001b[0m \u001b[0mos\u001b[0m\u001b[0;34m.\u001b[0m\u001b[0mgetenv\u001b[0m\u001b[0;34m(\u001b[0m\u001b[0;34m\"SUITE\"\u001b[0m\u001b[0;34m,\u001b[0m \u001b[0;34m\"elearning\"\u001b[0m\u001b[0;34m)\u001b[0m\u001b[0;34m\u001b[0m\n",
       "\u001b[0;34m\u001b[0m\u001b[0mDEFS\u001b[0m \u001b[0;34m=\u001b[0m \u001b[0mecflow\u001b[0m\u001b[0;34m.\u001b[0m\u001b[0mDefs\u001b[0m\u001b[0;34m(\u001b[0m\u001b[0;34m)\u001b[0m\u001b[0;34m\u001b[0m\n",
       "\u001b[0;34m\u001b[0m\u001b[0mDEFS\u001b[0m\u001b[0;34m.\u001b[0m\u001b[0madd\u001b[0m\u001b[0;34m(\u001b[0m  \u001b[0;31m# suite definition\u001b[0m\u001b[0;34m\u001b[0m\n",
       "\u001b[0;34m\u001b[0m    \u001b[0mSuite\u001b[0m\u001b[0;34m(\u001b[0m\u001b[0mNAME\u001b[0m\u001b[0;34m)\u001b[0m\u001b[0;34m.\u001b[0m\u001b[0madd\u001b[0m\u001b[0;34m(\u001b[0m\u001b[0;34m\u001b[0m\n",
       "\u001b[0;34m\u001b[0m        \u001b[0mDefstatus\u001b[0m\u001b[0;34m(\u001b[0m\u001b[0;34m\"suspended\"\u001b[0m\u001b[0;34m)\u001b[0m\u001b[0;34m,\u001b[0m  \u001b[0;31m# so that jobs do not start immediately\u001b[0m\u001b[0;34m\u001b[0m\n",
       "\u001b[0;34m\u001b[0m        \u001b[0mVariables\u001b[0m\u001b[0;34m(\u001b[0m  \u001b[0;31m# we can add multiple variables at once\u001b[0m\u001b[0;34m\u001b[0m\n",
       "\u001b[0;34m\u001b[0m            \u001b[0mECF_HOME\u001b[0m\u001b[0;34m=\u001b[0m\u001b[0mECF_HOME\u001b[0m\u001b[0;34m,\u001b[0m  \u001b[0;31m# where job files are created by ecflow\u001b[0m\u001b[0;34m\u001b[0m\n",
       "\u001b[0;34m\u001b[0m            \u001b[0mECF_FILES\u001b[0m\u001b[0;34m=\u001b[0m\u001b[0mECF_HOME\u001b[0m \u001b[0;34m+\u001b[0m \u001b[0;34m\"/files\"\u001b[0m\u001b[0;34m,\u001b[0m  \u001b[0;31m# where to find script template\u001b[0m\u001b[0;34m\u001b[0m\n",
       "\u001b[0;34m\u001b[0m            \u001b[0mECF_INCLUDE\u001b[0m\u001b[0;34m=\u001b[0m\u001b[0mECF_INCLUDE\u001b[0m\u001b[0;34m,\u001b[0m  \u001b[0;31m# where to find head.h tail.h\u001b[0m\u001b[0;34m\u001b[0m\n",
       "\u001b[0;34m\u001b[0m            \u001b[0mSLEEP\u001b[0m\u001b[0;34m=\u001b[0m\u001b[0;36m2\u001b[0m\u001b[0;34m,\u001b[0m \u001b[0;34m)\u001b[0m\u001b[0;34m,\u001b[0m\u001b[0;34m\u001b[0m\n",
       "\u001b[0;34m\u001b[0m        \u001b[0mFamily\u001b[0m\u001b[0;34m(\u001b[0m\u001b[0;34m\"f3\"\u001b[0m\u001b[0;34m)\u001b[0m\u001b[0;34m.\u001b[0m\u001b[0madd\u001b[0m\u001b[0;34m(\u001b[0m\u001b[0;34m\u001b[0m\n",
       "\u001b[0;34m\u001b[0m            \u001b[0mTask\u001b[0m\u001b[0;34m(\u001b[0m\u001b[0;34m\"t1\"\u001b[0m\u001b[0;34m)\u001b[0m\u001b[0;34m.\u001b[0m\u001b[0madd\u001b[0m\u001b[0;34m(\u001b[0m\u001b[0;34m\u001b[0m\n",
       "\u001b[0;34m\u001b[0m                \u001b[0mLabel\u001b[0m\u001b[0;34m(\u001b[0m\u001b[0;34m\"info\"\u001b[0m\u001b[0;34m,\u001b[0m \u001b[0;34m\"none\"\u001b[0m\u001b[0;34m)\u001b[0m\u001b[0;34m,\u001b[0m\u001b[0;34m\u001b[0m\n",
       "\u001b[0;34m\u001b[0m                \u001b[0mMeter\u001b[0m\u001b[0;34m(\u001b[0m\u001b[0;34m\"step\"\u001b[0m\u001b[0;34m,\u001b[0m \u001b[0;34m-\u001b[0m\u001b[0;36m1\u001b[0m\u001b[0;34m,\u001b[0m \u001b[0;36m240\u001b[0m\u001b[0;34m)\u001b[0m\u001b[0;34m)\u001b[0m\u001b[0;34m)\u001b[0m\u001b[0;34m)\u001b[0m\u001b[0;34m)\u001b[0m\u001b[0;34m\u001b[0m\n",
       "\u001b[0;34m\u001b[0m\u001b[0;34m\u001b[0m\n",
       "\u001b[0;34m\u001b[0m\u001b[0mSCRIPT_TEMPLATE\u001b[0m \u001b[0;34m=\u001b[0m \u001b[0;34m\"\"\"#!/bin/bash\u001b[0m\n",
       "\u001b[0;34m%include <head.h>\u001b[0m\n",
       "\u001b[0;34mSTEP=0\u001b[0m\n",
       "\u001b[0;34mwhile [[ $STEP -le 240 ]] ; do\u001b[0m\n",
       "\u001b[0;34m  sleep %SLEEP:1%; ecflow_client --meter step $STEP  # share progress\u001b[0m\n",
       "\u001b[0;34m  msg=\"The date is now $(date)\"\u001b[0m\n",
       "\u001b[0;34m  ecflow_client --label info \"$msg\"\u001b[0m\n",
       "\u001b[0;34m  (( STEP = STEP + 1))\u001b[0m\n",
       "\u001b[0;34mdone\u001b[0m\n",
       "\u001b[0;34mecflow_client --label info \"job's done\"\u001b[0m\n",
       "\u001b[0;34m%include <tail.h>\u001b[0m\n",
       "\u001b[0;34m\"\"\"\u001b[0m\u001b[0;34m\u001b[0m\n",
       "\u001b[0;34m\u001b[0m\u001b[0;34m\u001b[0m\n",
       "\u001b[0;34m\u001b[0m\u001b[0;32mif\u001b[0m \u001b[0m__name__\u001b[0m \u001b[0;34m==\u001b[0m \u001b[0;34m'__main__'\u001b[0m\u001b[0;34m:\u001b[0m\u001b[0;34m\u001b[0m\n",
       "\u001b[0;34m\u001b[0m    \u001b[0;32mfor\u001b[0m \u001b[0mtask\u001b[0m \u001b[0;32min\u001b[0m \u001b[0;34m(\u001b[0m\u001b[0;34m\"t1\"\u001b[0m\u001b[0;34m,\u001b[0m \u001b[0;34m\"t5\"\u001b[0m\u001b[0;34m,\u001b[0m \u001b[0;34m\"t6\"\u001b[0m\u001b[0;34m,\u001b[0m \u001b[0;34m\"t7\"\u001b[0m\u001b[0;34m)\u001b[0m\u001b[0;34m:\u001b[0m  \u001b[0;31m# replace all script templates\u001b[0m\u001b[0;34m\u001b[0m\n",
       "\u001b[0;34m\u001b[0m        \u001b[0;32mwith\u001b[0m \u001b[0mopen\u001b[0m\u001b[0;34m(\u001b[0m\u001b[0mECF_HOME\u001b[0m \u001b[0;34m+\u001b[0m \u001b[0;34m\"/files/%s.ecf\"\u001b[0m \u001b[0;34m%\u001b[0m \u001b[0mtask\u001b[0m\u001b[0;34m,\u001b[0m \u001b[0;34m\"w\"\u001b[0m\u001b[0;34m)\u001b[0m \u001b[0;32mas\u001b[0m \u001b[0mt\u001b[0m\u001b[0;34m:\u001b[0m\u001b[0;34m\u001b[0m\n",
       "\u001b[0;34m\u001b[0m            \u001b[0mprint\u001b[0m\u001b[0;34m(\u001b[0m\u001b[0mSCRIPT_TEMPLATE\u001b[0m\u001b[0;34m,\u001b[0m \u001b[0mfile\u001b[0m\u001b[0;34m=\u001b[0m\u001b[0mt\u001b[0m\u001b[0;34m)\u001b[0m\u001b[0;34m\u001b[0m\n",
       "\u001b[0;34m\u001b[0m    \u001b[0mHOST\u001b[0m \u001b[0;34m=\u001b[0m \u001b[0mos\u001b[0m\u001b[0;34m.\u001b[0m\u001b[0mgetenv\u001b[0m\u001b[0;34m(\u001b[0m\u001b[0;34m\"ECF_HOST\"\u001b[0m\u001b[0;34m,\u001b[0m \u001b[0;34m\"localhost\"\u001b[0m\u001b[0;34m)\u001b[0m\u001b[0;34m\u001b[0m\n",
       "\u001b[0;34m\u001b[0m    \u001b[0mPORT\u001b[0m \u001b[0;34m=\u001b[0m \u001b[0mint\u001b[0m\u001b[0;34m(\u001b[0m\u001b[0mos\u001b[0m\u001b[0;34m.\u001b[0m\u001b[0mgetenv\u001b[0m\u001b[0;34m(\u001b[0m\u001b[0;34m\"ECF_PORT\"\u001b[0m\u001b[0;34m,\u001b[0m \u001b[0;34m\"%d\"\u001b[0m \u001b[0;34m%\u001b[0m \u001b[0;34m(\u001b[0m\u001b[0;36m1500\u001b[0m \u001b[0;34m+\u001b[0m \u001b[0mos\u001b[0m\u001b[0;34m.\u001b[0m\u001b[0mgetuid\u001b[0m\u001b[0;34m(\u001b[0m\u001b[0;34m)\u001b[0m\u001b[0;34m)\u001b[0m\u001b[0;34m)\u001b[0m\u001b[0;34m)\u001b[0m\u001b[0;34m\u001b[0m\n",
       "\u001b[0;34m\u001b[0m    \u001b[0mCLIENT\u001b[0m \u001b[0;34m=\u001b[0m \u001b[0mecflow\u001b[0m\u001b[0;34m.\u001b[0m\u001b[0mClient\u001b[0m\u001b[0;34m(\u001b[0m\u001b[0mHOST\u001b[0m\u001b[0;34m,\u001b[0m \u001b[0mPORT\u001b[0m\u001b[0;34m)\u001b[0m\u001b[0;34m\u001b[0m\n",
       "\u001b[0;34m\u001b[0m\u001b[0;34m\u001b[0m\n",
       "\u001b[0;34m\u001b[0m    \u001b[0mNODE\u001b[0m \u001b[0;34m=\u001b[0m \u001b[0;34m\"/\"\u001b[0m \u001b[0;34m+\u001b[0m \u001b[0mNAME\u001b[0m  \u001b[0;31m# replace top\u001b[0m\u001b[0;34m\u001b[0m\n",
       "\u001b[0;34m\u001b[0m    \u001b[0mCLIENT\u001b[0m\u001b[0;34m.\u001b[0m\u001b[0mreplace\u001b[0m\u001b[0;34m(\u001b[0m\u001b[0mNODE\u001b[0m\u001b[0;34m,\u001b[0m \u001b[0mDEFS\u001b[0m\u001b[0;34m)\u001b[0m\u001b[0;34m\u001b[0m\n",
       "\u001b[0;34m\u001b[0m    \u001b[0mprint\u001b[0m\u001b[0;34m(\u001b[0m\u001b[0;34m\"replaced node %s into\"\u001b[0m \u001b[0;34m%\u001b[0m \u001b[0mNODE\u001b[0m\u001b[0;34m,\u001b[0m \u001b[0mHOST\u001b[0m\u001b[0;34m,\u001b[0m \u001b[0mPORT\u001b[0m\u001b[0;34m)\u001b[0m\u001b[0;34m\u001b[0m\u001b[0;34m\u001b[0m\u001b[0m\n"
      ]
     },
     "metadata": {},
     "output_type": "display_data"
    }
   ],
   "source": [
    "%pycat src/el30_add_label.py"
   ]
  },
  {
   "cell_type": "markdown",
   "metadata": {
    "slideshow": {
     "slide_type": "slide"
    }
   },
   "source": [
    "## Add Repeat"
   ]
  },
  {
   "cell_type": "markdown",
   "metadata": {},
   "source": [
    "A Repeat is like a (for) loop at suite level. It gets incremented to the next value, once all nodes below get complete. It is an **active** attribute in the sense that it causes the nodes below to be requeued (default status, event and meter reset) when the increment occurs."
   ]
  },
  {
   "cell_type": "code",
   "execution_count": 40,
   "metadata": {},
   "outputs": [
    {
     "name": "stdout",
     "output_type": "stream",
     "text": [
      "replaced node /elearning/f5 into localhost 2500\n"
     ]
    }
   ],
   "source": [
    "%run src/el31_add_repeat.py"
   ]
  },
  {
   "cell_type": "code",
   "execution_count": 41,
   "metadata": {},
   "outputs": [],
   "source": [
    "%pycat src/el31_add_repeat.py"
   ]
  },
  {
   "cell_type": "markdown",
   "metadata": {
    "slideshow": {
     "slide_type": "slide"
    }
   },
   "source": [
    "## Add Limit and Inlimit"
   ]
  },
  {
   "cell_type": "markdown",
   "metadata": {},
   "source": [
    "A limit may prevent jobs to be submitted immediately. It can represent a mutex (value 1) or a semaphore.\n",
    "\n",
    "The Inlimit attribute registers to a limit."
   ]
  },
  {
   "cell_type": "code",
   "execution_count": 42,
   "metadata": {},
   "outputs": [
    {
     "name": "stdout",
     "output_type": "stream",
     "text": [
      "replaced node /elearning/f5 into localhost 2500\n"
     ]
    }
   ],
   "source": [
    "%run src/el32_add_limit.py"
   ]
  },
  {
   "cell_type": "code",
   "execution_count": 43,
   "metadata": {},
   "outputs": [],
   "source": [
    "%pycat src/el32_add_limit.py"
   ]
  },
  {
   "cell_type": "markdown",
   "metadata": {
    "slideshow": {
     "slide_type": "slide"
    }
   },
   "source": [
    "## Add Limit Inlimit"
   ]
  },
  {
   "cell_type": "code",
   "execution_count": 44,
   "metadata": {},
   "outputs": [
    {
     "name": "stdout",
     "output_type": "stream",
     "text": [
      "replaced node /elearning/f5 into localhost 2500\n"
     ]
    }
   ],
   "source": [
    "%run src/el32_add_limit.py"
   ]
  },
  {
   "cell_type": "code",
   "execution_count": 45,
   "metadata": {},
   "outputs": [],
   "source": [
    "%pycat src/el32_add_limit.py"
   ]
  },
  {
   "cell_type": "markdown",
   "metadata": {},
   "source": [
    "## Add Late"
   ]
  },
  {
   "cell_type": "code",
   "execution_count": 45,
   "metadata": {},
   "outputs": [
    {
     "name": "stdout",
     "output_type": "stream",
     "text": [
      "replaced node /elearning/f5 into localhost 2500\n"
     ]
    }
   ],
   "source": [
    "%run src/el33_add_late.py"
   ]
  },
  {
   "cell_type": "markdown",
   "metadata": {},
   "source": [
    "Late is an attribute which may cause a poping window, to catch attention, when a job remains in submit, or active status for too long, or when complete is not reached in time. In order to really catch attention, some might prefer a **watchdog**, a dedicated task, which turns aborted, beyond a given threshold, or quietly becomes complete, thanks to a Time and Complete attribute."
   ]
  },
  {
   "cell_type": "markdown",
   "metadata": {
    "slideshow": {
     "slide_type": "slide"
    }
   },
   "source": [
    "## Debug a task with an Alias"
   ]
  },
  {
   "cell_type": "markdown",
   "metadata": {},
   "source": [
    "[alias](anim/ecflow_alias.mp4)"
   ]
  },
  {
   "cell_type": "markdown",
   "metadata": {
    "slideshow": {
     "slide_type": "slide"
    }
   },
   "source": [
    "# Exercises"
   ]
  },
  {
   "cell_type": "markdown",
   "metadata": {},
   "source": [
    "## Data Acquisition suite example"
   ]
  },
  {
   "cell_type": "code",
   "execution_count": 46,
   "metadata": {},
   "outputs": [],
   "source": [
    "%run src/el41_data_acquisition.py"
   ]
  },
  {
   "cell_type": "code",
   "execution_count": 50,
   "metadata": {},
   "outputs": [
    {
     "data": {
      "text/plain": [
       "\u001b[0;31m#!/usr/bin/env python\u001b[0m\u001b[0;34m\u001b[0m\n",
       "\u001b[0;34m\u001b[0m\u001b[0;34m\"\"\" data acquisition suite example \"\"\"\u001b[0m\u001b[0;34m\u001b[0m\n",
       "\u001b[0;34m\u001b[0m\u001b[0;32mfrom\u001b[0m \u001b[0m__future__\u001b[0m \u001b[0;32mimport\u001b[0m \u001b[0mprint_function\u001b[0m\u001b[0;34m\u001b[0m\n",
       "\u001b[0;34m\u001b[0m\u001b[0;32mimport\u001b[0m \u001b[0mos\u001b[0m\u001b[0;34m\u001b[0m\n",
       "\u001b[0;34m\u001b[0m\u001b[0;32mimport\u001b[0m \u001b[0mecf\u001b[0m \u001b[0;32mas\u001b[0m \u001b[0mecflow\u001b[0m\u001b[0;34m\u001b[0m\n",
       "\u001b[0;34m\u001b[0m\u001b[0;32mfrom\u001b[0m \u001b[0mecf\u001b[0m \u001b[0;32mimport\u001b[0m \u001b[0;34m(\u001b[0m\u001b[0mDate\u001b[0m\u001b[0;34m,\u001b[0m \u001b[0mDay\u001b[0m\u001b[0;34m,\u001b[0m \u001b[0mDefs\u001b[0m\u001b[0;34m,\u001b[0m \u001b[0mDefstatus\u001b[0m\u001b[0;34m,\u001b[0m \u001b[0mSuite\u001b[0m\u001b[0;34m,\u001b[0m \u001b[0mFamily\u001b[0m\u001b[0;34m,\u001b[0m \u001b[0mTask\u001b[0m\u001b[0;34m,\u001b[0m\u001b[0;34m\u001b[0m\n",
       "\u001b[0;34m\u001b[0m                 \u001b[0mIf\u001b[0m\u001b[0;34m,\u001b[0m  \u001b[0;31m# If attribute in use example\u001b[0m\u001b[0;34m\u001b[0m\n",
       "\u001b[0;34m\u001b[0m                 \u001b[0mEdit\u001b[0m\u001b[0;34m,\u001b[0m \u001b[0mLabel\u001b[0m\u001b[0;34m,\u001b[0m \u001b[0mRepeat\u001b[0m\u001b[0;34m,\u001b[0m \u001b[0mTime\u001b[0m\u001b[0;34m,\u001b[0m \u001b[0mTrigger\u001b[0m\u001b[0;34m)\u001b[0m\u001b[0;34m\u001b[0m\n",
       "\u001b[0;34m\u001b[0m\u001b[0mHOME\u001b[0m \u001b[0;34m=\u001b[0m \u001b[0mos\u001b[0m\u001b[0;34m.\u001b[0m\u001b[0mgetenv\u001b[0m\u001b[0;34m(\u001b[0m\u001b[0;34m\"HOME\"\u001b[0m\u001b[0;34m)\u001b[0m \u001b[0;34m+\u001b[0m \u001b[0;34m\"/ecflow_course\"\u001b[0m\u001b[0;34m;\u001b[0m \u001b[0mNAME\u001b[0m \u001b[0;34m=\u001b[0m \u001b[0;34m\"data_acquisition\"\u001b[0m\u001b[0;34m;\u001b[0m \u001b[0mDEFS\u001b[0m \u001b[0;34m=\u001b[0m \u001b[0mDefs\u001b[0m\u001b[0;34m(\u001b[0m\u001b[0;34m)\u001b[0m\u001b[0;34m\u001b[0m\n",
       "\u001b[0;34m\u001b[0m\u001b[0mDEFS\u001b[0m\u001b[0;34m.\u001b[0m\u001b[0madd\u001b[0m\u001b[0;34m(\u001b[0m\u001b[0mSuite\u001b[0m\u001b[0;34m(\u001b[0m\u001b[0mNAME\u001b[0m\u001b[0;34m)\u001b[0m\u001b[0;34m.\u001b[0m\u001b[0madd\u001b[0m\u001b[0;34m(\u001b[0m\u001b[0;34m\u001b[0m\n",
       "\u001b[0;34m\u001b[0m    \u001b[0mDefstatus\u001b[0m\u001b[0;34m(\u001b[0m\u001b[0;34m\"suspended\"\u001b[0m\u001b[0;34m)\u001b[0m\u001b[0;34m,\u001b[0m  \u001b[0;31m# so that jobs do not start immediately\u001b[0m\u001b[0;34m\u001b[0m\n",
       "\u001b[0;34m\u001b[0m    \u001b[0mRepeat\u001b[0m\u001b[0;34m(\u001b[0m\u001b[0mkind\u001b[0m\u001b[0;34m=\u001b[0m\u001b[0;34m\"day\"\u001b[0m\u001b[0;34m,\u001b[0m \u001b[0mstep\u001b[0m\u001b[0;34m=\u001b[0m\u001b[0;36m1\u001b[0m\u001b[0;34m)\u001b[0m\u001b[0;34m,\u001b[0m\u001b[0;34m\u001b[0m\n",
       "\u001b[0;34m\u001b[0m    \u001b[0mEdit\u001b[0m\u001b[0;34m(\u001b[0m\u001b[0mECF_HOME\u001b[0m\u001b[0;34m=\u001b[0m\u001b[0mHOME\u001b[0m\u001b[0;34m,\u001b[0m \u001b[0mECF_INCLUDE\u001b[0m\u001b[0;34m=\u001b[0m\u001b[0mHOME\u001b[0m\u001b[0;34m,\u001b[0m \u001b[0mECF_FILES\u001b[0m\u001b[0;34m=\u001b[0m\u001b[0mHOME\u001b[0m \u001b[0;34m+\u001b[0m \u001b[0;34m\"/acq\"\u001b[0m\u001b[0;34m,\u001b[0m \u001b[0mSLEEP\u001b[0m\u001b[0;34m=\u001b[0m\u001b[0;36m2\u001b[0m\u001b[0;34m)\u001b[0m\u001b[0;34m,\u001b[0m\u001b[0;34m\u001b[0m\n",
       "\u001b[0;34m\u001b[0m    \u001b[0;34m[\u001b[0m\u001b[0mFamily\u001b[0m\u001b[0;34m(\u001b[0m\u001b[0mcity\u001b[0m\u001b[0;34m)\u001b[0m\u001b[0;34m.\u001b[0m\u001b[0madd\u001b[0m\u001b[0;34m(\u001b[0m\u001b[0;34m\u001b[0m\n",
       "\u001b[0;34m\u001b[0m        \u001b[0mFamily\u001b[0m\u001b[0;34m(\u001b[0m\u001b[0;34m\"archive\"\u001b[0m\u001b[0;34m)\u001b[0m\u001b[0;34m.\u001b[0m\u001b[0madd\u001b[0m\u001b[0;34m(\u001b[0m\u001b[0;34m\u001b[0m\n",
       "\u001b[0;34m\u001b[0m            \u001b[0;34m[\u001b[0m\u001b[0mFamily\u001b[0m\u001b[0;34m(\u001b[0m\u001b[0mobs_type\u001b[0m\u001b[0;34m)\u001b[0m\u001b[0;34m.\u001b[0m\u001b[0madd\u001b[0m\u001b[0;34m(\u001b[0m\u001b[0;34m\u001b[0m\n",
       "\u001b[0;34m\u001b[0m                \u001b[0mIf\u001b[0m\u001b[0;34m(\u001b[0m\u001b[0mtest\u001b[0m\u001b[0;34m=\u001b[0m\u001b[0mcity\u001b[0m \u001b[0;32min\u001b[0m \u001b[0;34m(\u001b[0m\u001b[0;34m\"Exeter\"\u001b[0m\u001b[0;34m,\u001b[0m \u001b[0;34m\"Toulouse\"\u001b[0m\u001b[0;34m,\u001b[0m \u001b[0;34m\"Offenbach\"\u001b[0m\u001b[0;34m)\u001b[0m\u001b[0;34m,\u001b[0m \u001b[0mthen\u001b[0m\u001b[0;34m=\u001b[0m\u001b[0mTime\u001b[0m\u001b[0;34m(\u001b[0m\u001b[0;34m\"00:00 23:00 01:00\"\u001b[0m\u001b[0;34m)\u001b[0m\u001b[0;34m)\u001b[0m\u001b[0;34m,\u001b[0m\u001b[0;34m\u001b[0m\n",
       "\u001b[0;34m\u001b[0m                \u001b[0mIf\u001b[0m\u001b[0;34m(\u001b[0m\u001b[0mcity\u001b[0m \u001b[0;32min\u001b[0m \u001b[0;34m(\u001b[0m\u001b[0;34m\"Washington\"\u001b[0m\u001b[0;34m)\u001b[0m\u001b[0;34m,\u001b[0m \u001b[0mTime\u001b[0m\u001b[0;34m(\u001b[0m\u001b[0;34m\"00:00 23:00 03:00\"\u001b[0m\u001b[0;34m)\u001b[0m\u001b[0;34m)\u001b[0m\u001b[0;34m,\u001b[0m\u001b[0;34m\u001b[0m\n",
       "\u001b[0;34m\u001b[0m                \u001b[0mIf\u001b[0m\u001b[0;34m(\u001b[0m\u001b[0mcity\u001b[0m \u001b[0;32min\u001b[0m \u001b[0;34m(\u001b[0m\u001b[0;34m\"Tokyo\"\u001b[0m\u001b[0;34m)\u001b[0m\u001b[0;34m,\u001b[0m \u001b[0mTime\u001b[0m\u001b[0;34m(\u001b[0m\u001b[0;34m\"12:00\"\u001b[0m\u001b[0;34m)\u001b[0m\u001b[0;34m)\u001b[0m\u001b[0;34m,\u001b[0m\u001b[0;34m\u001b[0m\n",
       "\u001b[0;34m\u001b[0m                \u001b[0mIf\u001b[0m\u001b[0;34m(\u001b[0m\u001b[0mcity\u001b[0m \u001b[0;32min\u001b[0m \u001b[0;34m(\u001b[0m\u001b[0;34m\"Melbourne\"\u001b[0m\u001b[0;34m)\u001b[0m\u001b[0;34m,\u001b[0m \u001b[0mDay\u001b[0m\u001b[0;34m(\u001b[0m\u001b[0;34m\"monday\"\u001b[0m\u001b[0;34m)\u001b[0m\u001b[0;34m)\u001b[0m\u001b[0;34m,\u001b[0m\u001b[0;34m\u001b[0m\n",
       "\u001b[0;34m\u001b[0m                \u001b[0mIf\u001b[0m\u001b[0;34m(\u001b[0m\u001b[0mcity\u001b[0m \u001b[0;32min\u001b[0m \u001b[0;34m(\u001b[0m\u001b[0;34m\"Montreal\"\u001b[0m\u001b[0;34m)\u001b[0m\u001b[0;34m,\u001b[0m \u001b[0mDate\u001b[0m\u001b[0;34m(\u001b[0m\u001b[0;34m\"1.*.*\"\u001b[0m\u001b[0;34m)\u001b[0m\u001b[0;34m)\u001b[0m\u001b[0;34m,\u001b[0m\u001b[0;34m\u001b[0m\n",
       "\u001b[0;34m\u001b[0m                \u001b[0mTask\u001b[0m\u001b[0;34m(\u001b[0m\u001b[0;34m\"get\"\u001b[0m\u001b[0;34m)\u001b[0m\u001b[0;34m.\u001b[0m\u001b[0madd\u001b[0m\u001b[0;34m(\u001b[0m\u001b[0mLabel\u001b[0m\u001b[0;34m(\u001b[0m\u001b[0;34m\"info\"\u001b[0m\u001b[0;34m,\u001b[0m \u001b[0;34m\"\"\u001b[0m\u001b[0;34m)\u001b[0m\u001b[0;34m)\u001b[0m\u001b[0;34m,\u001b[0m\u001b[0;34m\u001b[0m\n",
       "\u001b[0;34m\u001b[0m                \u001b[0mTask\u001b[0m\u001b[0;34m(\u001b[0m\u001b[0;34m\"process\"\u001b[0m\u001b[0;34m)\u001b[0m\u001b[0;34m.\u001b[0m\u001b[0madd\u001b[0m\u001b[0;34m(\u001b[0m\u001b[0mTrigger\u001b[0m\u001b[0;34m(\u001b[0m\u001b[0;34m\"get eq complete\"\u001b[0m\u001b[0;34m)\u001b[0m\u001b[0;34m)\u001b[0m\u001b[0;34m,\u001b[0m\u001b[0;34m\u001b[0m\n",
       "\u001b[0;34m\u001b[0m                \u001b[0mTask\u001b[0m\u001b[0;34m(\u001b[0m\u001b[0;34m\"store\"\u001b[0m\u001b[0;34m)\u001b[0m\u001b[0;34m.\u001b[0m\u001b[0madd\u001b[0m\u001b[0;34m(\u001b[0m\u001b[0mTrigger\u001b[0m\u001b[0;34m(\u001b[0m\u001b[0;34m\"get eq complete\"\u001b[0m\u001b[0;34m)\u001b[0m\u001b[0;34m)\u001b[0m\u001b[0;34m)\u001b[0m\u001b[0;34m\u001b[0m\n",
       "\u001b[0;34m\u001b[0m             \u001b[0;32mfor\u001b[0m \u001b[0mobs_type\u001b[0m \u001b[0;32min\u001b[0m \u001b[0;34m(\u001b[0m\u001b[0;34m\"observations\"\u001b[0m\u001b[0;34m,\u001b[0m \u001b[0;34m\"fields\"\u001b[0m\u001b[0;34m,\u001b[0m \u001b[0;34m\"images\"\u001b[0m\u001b[0;34m)\u001b[0m\u001b[0;34m]\u001b[0m\u001b[0;34m)\u001b[0m\u001b[0;34m)\u001b[0m\u001b[0;34m\u001b[0m\n",
       "\u001b[0;34m\u001b[0m        \u001b[0;32mfor\u001b[0m \u001b[0mcity\u001b[0m \u001b[0;32min\u001b[0m \u001b[0;34m(\u001b[0m\u001b[0;34m\"Exeter\"\u001b[0m\u001b[0;34m,\u001b[0m \u001b[0;34m\"Toulouse\"\u001b[0m\u001b[0;34m,\u001b[0m \u001b[0;34m\"Offenbach\"\u001b[0m\u001b[0;34m,\u001b[0m \u001b[0;34m\"Washington\"\u001b[0m\u001b[0;34m,\u001b[0m\u001b[0;34m\u001b[0m\n",
       "\u001b[0;34m\u001b[0m                     \u001b[0;34m\"Tokyo\"\u001b[0m\u001b[0;34m,\u001b[0m \u001b[0;34m\"Melbourne\"\u001b[0m\u001b[0;34m,\u001b[0m \u001b[0;34m\"Montreal\"\u001b[0m\u001b[0;34m)\u001b[0m\u001b[0;34m]\u001b[0m\u001b[0;34m)\u001b[0m\u001b[0;34m)\u001b[0m\u001b[0;34m\u001b[0m\n",
       "\u001b[0;34m\u001b[0m\u001b[0;31m# print(DEFS); DEFS.generate_scripts(); \u001b[0m\u001b[0;34m\u001b[0m\n",
       "\u001b[0;34m\u001b[0m\u001b[0mRESULT\u001b[0m \u001b[0;34m=\u001b[0m \u001b[0mDEFS\u001b[0m\u001b[0;34m.\u001b[0m\u001b[0msimulate\u001b[0m\u001b[0;34m(\u001b[0m\u001b[0;34m)\u001b[0m\u001b[0;34m;\u001b[0m \u001b[0;31m# print(RESULT)\u001b[0m\u001b[0;34m\u001b[0m\n",
       "\u001b[0;34m\u001b[0m\u001b[0mCLIENT\u001b[0m \u001b[0;34m=\u001b[0m \u001b[0mecflow\u001b[0m\u001b[0;34m.\u001b[0m\u001b[0mClient\u001b[0m\u001b[0;34m(\u001b[0m\u001b[0mos\u001b[0m\u001b[0;34m.\u001b[0m\u001b[0mgetenv\u001b[0m\u001b[0;34m(\u001b[0m\u001b[0;34m\"ECF_HOST\"\u001b[0m\u001b[0;34m,\u001b[0m \u001b[0;34m\"localhost\"\u001b[0m\u001b[0;34m)\u001b[0m\u001b[0;34m,\u001b[0m\u001b[0;34m\u001b[0m\n",
       "\u001b[0;34m\u001b[0m                       \u001b[0mos\u001b[0m\u001b[0;34m.\u001b[0m\u001b[0mgetenv\u001b[0m\u001b[0;34m(\u001b[0m\u001b[0;34m\"ECF_PORT\"\u001b[0m\u001b[0;34m,\u001b[0m \u001b[0;36m2500\u001b[0m\u001b[0;34m)\u001b[0m\u001b[0;34m)\u001b[0m\u001b[0;34m\u001b[0m\n",
       "\u001b[0;34m\u001b[0m\u001b[0mCLIENT\u001b[0m\u001b[0;34m.\u001b[0m\u001b[0mreplace\u001b[0m\u001b[0;34m(\u001b[0m\u001b[0;34m\"/%s\"\u001b[0m \u001b[0;34m%\u001b[0m \u001b[0mNAME\u001b[0m\u001b[0;34m,\u001b[0m \u001b[0mDEFS\u001b[0m\u001b[0;34m)\u001b[0m\u001b[0;34m\u001b[0m\u001b[0;34m\u001b[0m\u001b[0m\n"
      ]
     },
     "metadata": {},
     "output_type": "display_data"
    }
   ],
   "source": [
    "%pycat src/el41_data_acquisition.py"
   ]
  },
  {
   "cell_type": "markdown",
   "metadata": {},
   "source": [
    "## Operational suite?"
   ]
  },
  {
   "cell_type": "code",
   "execution_count": 47,
   "metadata": {},
   "outputs": [],
   "source": [
    "%run src/el41_data_acquisition.py > /dev/null 2>&1"
   ]
  },
  {
   "cell_type": "code",
   "execution_count": 48,
   "metadata": {},
   "outputs": [],
   "source": [
    "%pycat src/el41_data_acquisition.py"
   ]
  },
  {
   "cell_type": "markdown",
   "metadata": {},
   "source": [
    "## Back archiving"
   ]
  },
  {
   "cell_type": "code",
   "execution_count": 49,
   "metadata": {},
   "outputs": [],
   "source": [
    "%run src/el42_operational_suite_solution.py > /dev/null 2>&1"
   ]
  },
  {
   "cell_type": "code",
   "execution_count": 50,
   "metadata": {},
   "outputs": [],
   "source": [
    "%pycat src/el42_operational_suite_solution.py"
   ]
  },
  {
   "cell_type": "markdown",
   "metadata": {
    "slideshow": {
     "slide_type": "slide"
    }
   },
   "source": [
    "## All together"
   ]
  },
  {
   "cell_type": "code",
   "execution_count": 51,
   "metadata": {},
   "outputs": [],
   "source": [
    "%run src/el51_gallery_suite_example.py > /dev/null 2>&1"
   ]
  },
  {
   "cell_type": "code",
   "execution_count": 52,
   "metadata": {},
   "outputs": [],
   "source": [
    "%pycat src/el51_gallery_suite_example.py"
   ]
  },
  {
   "cell_type": "markdown",
   "metadata": {
    "slideshow": {
     "slide_type": "slide"
    }
   },
   "source": [
    "# Resources"
   ]
  },
  {
   "cell_type": "markdown",
   "metadata": {},
   "source": [
    "Confluence ecFlow https://software.ecmwf.int/wiki/display/ECFLOW/ecflow+home\n",
    "\n",
    "ecFlow, one page, https://software.ecmwf.int/wiki/display/ECFLOW/ecFlow@ECMWF\n",
    "Tutorial, https://software.ecmwf.int/wiki/display/ECFLOW/Tutorial\n",
    "User Manual, https://software.ecmwf.int/wiki/display/ECFLOW/User+Manual\n",
    "Cookbook, https://software.ecmwf.int/wiki/display/ECFLOW/Cookbook\n",
    "Source code, https://software.ecmwf.int/stash/projects/ECFLOW/repos/ecflow/browse"
   ]
  },
  {
   "cell_type": "markdown",
   "metadata": {},
   "source": [
    "https://software.ecmwf.int/stash/projects/ECFLOW/repos/elearning/browse"
   ]
  },
  {
   "cell_type": "markdown",
   "metadata": {
    "slideshow": {
     "slide_type": "slide"
    }
   },
   "source": [
    "# Glossary"
   ]
  },
  {
   "cell_type": "markdown",
   "metadata": {},
   "source": [
    "https://software.ecmwf.int/wiki/display/ECFLOW/Glossary"
   ]
  }
 ],
 "metadata": {
  "celltoolbar": "Slideshow",
  "kernelspec": {
   "display_name": "ecflow_env37",
   "language": "python",
   "name": "ecflow_env37"
  },
  "language_info": {
   "codemirror_mode": {
    "name": "ipython",
    "version": 3
   },
   "file_extension": ".py",
   "mimetype": "text/x-python",
   "name": "python",
   "nbconvert_exporter": "python",
   "pygments_lexer": "ipython3",
   "version": "3.7.12"
  }
 },
 "nbformat": 4,
 "nbformat_minor": 4
}
