{
 "cells": [
  {
   "cell_type": "markdown",
   "metadata": {
    "slideshow": {
     "slide_type": "slide"
    }
   },
   "source": [
    "# ecFlow eLearning Jupyter Notebook"
   ]
  },
  {
   "cell_type": "markdown",
   "metadata": {},
   "source": [
    "![ecflow](anim/ecflow_el.gif)"
   ]
  },
  {
   "cell_type": "markdown",
   "metadata": {
    "slideshow": {
     "slide_type": "subslide"
    }
   },
   "source": [
    "- This is a snapshot of ecflow_ui, the ecFlow GUI\n",
    "- The top *node* is the **server node**, called eowyn here\n",
    "- right below are the **suites** nodes which contain **families** and **tasks**\n",
    "- the family node is a container for families and task\n",
    "- the **task** node is the leaf node from which a **job** is created by ecflow and **submitted**, locally or remotely\n",
    "- an **alias** node can be created from the GUI, to dynamically modify the script and variables from a task, for an independent submission, in case of debugging, fixing, It is attached to the task and can be removed directly. Multiple aliases can run simultaneously when the task is well designed (different work directory).\n",
    "- you can see we can attach **attributes** to nodes: \n",
    "    -**label, meter, event** which may be updated from the job to follow its progress, reporting a string, an integer, or a boolean (set)\n",
    "    -**date, time, trigger** (black), **complete** (blue)\n",
    "    -when the task has to run, a job is submitted, which reports its **status** so that task colour changes.\n",
    "    -**late** attribute is alos visible here."
   ]
  },
  {
   "cell_type": "markdown",
   "metadata": {
    "slideshow": {
     "slide_type": "slide"
    }
   },
   "source": [
    "![workflow](anim/ecflow.gif)"
   ]
  },
  {
   "cell_type": "markdown",
   "metadata": {
    "slideshow": {
     "slide_type": "subslide"
    }
   },
   "source": [
    "# ecFlow components\n",
    "\n",
    "  - the **ecflow_server**, \n",
    "  - the clients (**ecflow_client**, the command line text client, **ecflow_ui** the GUI, and the **python API** for python clients). \n",
    "  - A **template language** is understood by ecFLow to transform the **task template scripts** into **job files**.\n",
    "\n",
    "- the template language is generic, so that _you_ decide which language the job will be, bash, ksh, python, perl,...\n",
    "- You start describing the tasks to run, their relations and dependencies, as a **suite** in a **definition file**\n",
    "- You load the suite into the server\n",
    "- You provide the script templates that the ecFlow server shall read at the moment the jobs shall be generated\n",
    "- when the dependencies are fulfilled (Date, Time, Trigger, Complete, Inlimit) the job is created and submitted. At that moment the task is **submitted**. If anything is problematic, the task turns **aborted**\n",
    "   -for example, the job could not be created, or it could not be submitted, maybe the remote system not responding or it is refusing the submission (queue, account, size of the job) \n",
    "- the jobs starts and writes its progress into the output file. it reports to ecflow server using the **ecflow_client** \n",
    "  -**ecflow_client --init** reports the job **active**\n",
    "  -**ecflow_client --complete** reports sucessful completion\n",
    "  -at anytime if something goes wront the jobs shall send the **ecflow_client --abort** command to report the task **aborted**"
   ]
  },
  {
   "cell_type": "markdown",
   "metadata": {
    "slideshow": {
     "slide_type": "slide"
    }
   },
   "source": [
    "![mindmap](anim/ecflowmm.png)"
   ]
  },
  {
   "cell_type": "markdown",
   "metadata": {
    "slideshow": {
     "slide_type": "slide"
    }
   },
   "source": [
    "![status flow](anim/ecflow_status.gif)"
   ]
  },
  {
   "cell_type": "markdown",
   "metadata": {
    "slideshow": {
     "slide_type": "slide"
    }
   },
   "source": [
    "## Status transition\n",
    "- Initially, when a suite is loaded for the first time, its status is **unknown**, so that no job is immediately submitted. It gives a chance for the suite designer to check that it is as expected:\n",
    "  - scripts and headers can be read by the server, \n",
    "  - that there is no variable used in the script, yet not defined in the suite, \n",
    "  - the structure of the suite reflect expectation. \n",
    "  - at that time, nodes can be suspended from the GUI, deleted, their position modified.\n",
    "- The **begin** command will let the ecFlow server to initialise servers variables, nodes statuses, and even start jobs when the server is in **restarted mode** and the suite node is not **suspended**\n",
    "- At that moment, if some jobs cannot be created/submitted, few tasks may turn **aborted**\n",
    "- most shall remain **queued**, as the default status, waiting the dependencies to be reached (Date, Time, Trigger, Complete, Inlimit)\n",
    "- the suite definition may contain some nodes using the attribute **defstatus**. It defines the default status of a node when it is requeued or when the suite is begun.\n",
    "- transiently, submitted jobs are visible (when submitted to a queuing system, when it can last few seconds)\n",
    "- when the job is started and calls **ecflow_client --init** the task turns **active**\n",
    "- when the job is completing **ecflow_client --complete** is called\n",
    "- a job may face problem, and report that with **ecflow_client --abort**\n",
    "- the variables **ECF_JOB_CMD** and **ECF_KILL_CMD** can be defined in the suite, and modified throughout, reflecting the command the ecFlow server shall call to submit or kill the job."
   ]
  },
  {
   "cell_type": "code",
   "execution_count": 1,
   "metadata": {
    "scrolled": true,
    "slideshow": {
     "slide_type": "slide"
    }
   },
   "outputs": [
    {
     "data": {
      "text/plain": [
       "\n",
       "IPython -- An enhanced Interactive Python - Quick Reference Card\n",
       "================================================================\n",
       "\n",
       "obj?, obj??      : Get help, or more help for object (also works as\n",
       "                   ?obj, ??obj).\n",
       "?foo.*abc*       : List names in 'foo' containing 'abc' in them.\n",
       "%magic           : Information about IPython's 'magic' % functions.\n",
       "\n",
       "Magic functions are prefixed by % or %%, and typically take their arguments\n",
       "without parentheses, quotes or even commas for convenience.  Line magics take a\n",
       "single % and cell magics are prefixed with two %%.\n",
       "\n",
       "Example magic function calls:\n",
       "\n",
       "%alias d ls -F   : 'd' is now an alias for 'ls -F'\n",
       "alias d ls -F    : Works if 'alias' not a python name\n",
       "alist = %alias   : Get list of aliases to 'alist'\n",
       "cd /usr/share    : Obvious. cd -<tab> to choose from visited dirs.\n",
       "%cd??            : See help AND source for magic %cd\n",
       "%timeit x=10     : time the 'x=10' statement with high precision.\n",
       "%%timeit x=2**100\n",
       "x**100           : time 'x**100' with a setup of 'x=2**100'; setup code is not\n",
       "                   counted.  This is an example of a cell magic.\n",
       "\n",
       "System commands:\n",
       "\n",
       "!cp a.txt b/     : System command escape, calls os.system()\n",
       "cp a.txt b/      : after %rehashx, most system commands work without !\n",
       "cp ${f}.txt $bar : Variable expansion in magics and system commands\n",
       "files = !ls /usr : Capture system command output\n",
       "files.s, files.l, files.n: \"a b c\", ['a','b','c'], 'a\\nb\\nc'\n",
       "\n",
       "History:\n",
       "\n",
       "_i, _ii, _iii    : Previous, next previous, next next previous input\n",
       "_i4, _ih[2:5]    : Input history line 4, lines 2-4\n",
       "exec(_i81)       : Execute input history line #81 again\n",
       "%rep 81          : Edit input history line #81\n",
       "_, __, ___       : previous, next previous, next next previous output\n",
       "_dh              : Directory history\n",
       "_oh              : Output history\n",
       "%hist            : Command history of current session.\n",
       "%hist -g foo     : Search command history of (almost) all sessions for 'foo'.\n",
       "%hist -g         : Command history of (almost) all sessions.\n",
       "%hist 1/2-8      : Command history containing lines 2-8 of session 1.\n",
       "%hist 1/ ~2/     : Command history of session 1 and 2 sessions before current.\n",
       "%hist ~8/1-~6/5  : Command history from line 1 of 8 sessions ago to\n",
       "                   line 5 of 6 sessions ago.\n",
       "%edit 0/         : Open editor to execute code with history of current session.\n",
       "\n",
       "Autocall:\n",
       "\n",
       "f 1,2            : f(1,2)  # Off by default, enable with %autocall magic.\n",
       "/f 1,2           : f(1,2) (forced autoparen)\n",
       ",f 1 2           : f(\"1\",\"2\")\n",
       ";f 1 2           : f(\"1 2\")\n",
       "\n",
       "Remember: TAB completion works in many contexts, not just file names\n",
       "or python names.\n",
       "\n",
       "The following magic functions are currently available:\n",
       "\n",
       "%aimport:\n",
       "    %aimport => Import modules for automatic reloading.\n",
       "%alias:\n",
       "    Define an alias for a system command.\n",
       "%alias_magic:\n",
       "    ::\n",
       "%autoawait:\n",
       "    \n",
       "%autocall:\n",
       "    Make functions callable without having to type parentheses.\n",
       "%automagic:\n",
       "    Make magic functions callable without having to type the initial %.\n",
       "%autoreload:\n",
       "    ::\n",
       "%autosave:\n",
       "    Set the autosave interval in the notebook (in seconds).\n",
       "%bookmark:\n",
       "    Manage IPython's bookmark system.\n",
       "%cat:\n",
       "    Alias for `!cat`\n",
       "%cd:\n",
       "    Change the current working directory.\n",
       "%clear:\n",
       "    Clear the terminal.\n",
       "%code_wrap:\n",
       "    ::\n",
       "%colors:\n",
       "    Switch color scheme for prompts, info system and exception handlers.\n",
       "%conda:\n",
       "    Run the conda package manager within the current kernel.\n",
       "%config:\n",
       "    configure IPython\n",
       "%connect_info:\n",
       "    Print information for connecting other clients to this kernel\n",
       "%cp:\n",
       "    Alias for `!cp`\n",
       "%debug:\n",
       "    ::\n",
       "%dhist:\n",
       "    Print your history of visited directories.\n",
       "%dirs:\n",
       "    Return the current directory stack.\n",
       "%doctest_mode:\n",
       "    Toggle doctest mode on and off.\n",
       "%ed:\n",
       "    Alias for `%edit`.\n",
       "%edit:\n",
       "    Bring up an editor and execute the resulting code.\n",
       "%env:\n",
       "    Get, set, or list environment variables.\n",
       "%gui:\n",
       "    Enable or disable IPython GUI event loop integration.\n",
       "%hist:\n",
       "    Alias for `%history`.\n",
       "%history:\n",
       "    ::\n",
       "%killbgscripts:\n",
       "    Kill all BG processes started by %%script and its family.\n",
       "%ldir:\n",
       "    Alias for `!ls -F -G -l %l | grep /$`\n",
       "%less:\n",
       "    Show a file through the pager.\n",
       "%lf:\n",
       "    Alias for `!ls -F -l -G %l | grep ^-`\n",
       "%lk:\n",
       "    Alias for `!ls -F -l -G %l | grep ^l`\n",
       "%ll:\n",
       "    Alias for `!ls -F -l -G`\n",
       "%load:\n",
       "    Load code into the current frontend.\n",
       "%load_ext:\n",
       "    Load an IPython extension by its module name.\n",
       "%loadpy:\n",
       "    Alias of `%load`\n",
       "%logoff:\n",
       "    Temporarily stop logging.\n",
       "%logon:\n",
       "    Restart logging.\n",
       "%logstart:\n",
       "    Start logging anywhere in a session.\n",
       "%logstate:\n",
       "    Print the status of the logging system.\n",
       "%logstop:\n",
       "    Fully stop logging and close log file.\n",
       "%ls:\n",
       "    Alias for `!ls -F -G`\n",
       "%lsmagic:\n",
       "    List currently available magic functions.\n",
       "%lx:\n",
       "    Alias for `!ls -F -l -G %l | grep ^-..x`\n",
       "%macro:\n",
       "    Define a macro for future re-execution. It accepts ranges of history,\n",
       "%magic:\n",
       "    Print information about the magic function system.\n",
       "%mamba:\n",
       "    Run the mamba package manager within the current kernel.\n",
       "%man:\n",
       "    Find the man page for the given command and display in pager.\n",
       "%matplotlib:\n",
       "    ::\n",
       "%micromamba:\n",
       "    Run the conda package manager within the current kernel.\n",
       "%mkdir:\n",
       "    Alias for `!mkdir`\n",
       "%more:\n",
       "    Show a file through the pager.\n",
       "%mv:\n",
       "    Alias for `!mv`\n",
       "%notebook:\n",
       "    ::\n",
       "%page:\n",
       "    Pretty print the object and display it through a pager.\n",
       "%pastebin:\n",
       "    Upload code to dpaste.com, returning the URL.\n",
       "%pdb:\n",
       "    Control the automatic calling of the pdb interactive debugger.\n",
       "%pdef:\n",
       "    Print the call signature for any callable object.\n",
       "%pdoc:\n",
       "    Print the docstring for an object.\n",
       "%pfile:\n",
       "    Print (or run through pager) the file where an object is defined.\n",
       "%pinfo:\n",
       "    Provide detailed information about an object.\n",
       "%pinfo2:\n",
       "    Provide extra detailed information about an object.\n",
       "%pip:\n",
       "    Run the pip package manager within the current kernel.\n",
       "%popd:\n",
       "    Change to directory popped off the top of the stack.\n",
       "%pprint:\n",
       "    Toggle pretty printing on/off.\n",
       "%precision:\n",
       "    Set floating point precision for pretty printing.\n",
       "%prun:\n",
       "    Run a statement through the python code profiler.\n",
       "%psearch:\n",
       "    Search for object in namespaces by wildcard.\n",
       "%psource:\n",
       "    Print (or run through pager) the source code for an object.\n",
       "%pushd:\n",
       "    Place the current dir on stack and change directory.\n",
       "%pwd:\n",
       "    Return the current working directory path.\n",
       "%pycat:\n",
       "    Show a syntax-highlighted file through a pager.\n",
       "%pylab:\n",
       "    ::\n",
       "%qtconsole:\n",
       "    Open a qtconsole connected to this kernel.\n",
       "%quickref:\n",
       "    Show a quick reference sheet \n",
       "%recall:\n",
       "    Repeat a command, or get command to input line for editing.\n",
       "%rehashx:\n",
       "    Update the alias table with all executable files in $PATH.\n",
       "%reload_ext:\n",
       "    Reload an IPython extension by its module name.\n",
       "%rep:\n",
       "    Alias for `%recall`.\n",
       "%rerun:\n",
       "    Re-run previous input\n",
       "%reset:\n",
       "    Resets the namespace by removing all names defined by the user, if\n",
       "%reset_selective:\n",
       "    Resets the namespace by removing names defined by the user.\n",
       "%rm:\n",
       "    Alias for `!rm`\n",
       "%rmdir:\n",
       "    Alias for `!rmdir`\n",
       "%run:\n",
       "    Run the named file inside IPython as a program.\n",
       "%save:\n",
       "    Save a set of lines or a macro to a given filename.\n",
       "%sc:\n",
       "    Shell capture - run shell command and capture output (DEPRECATED use !).\n",
       "%set_env:\n",
       "    Set environment variables.  Assumptions are that either \"val\" is a\n",
       "%store:\n",
       "    Lightweight persistence for python variables.\n",
       "%sx:\n",
       "    Shell execute - run shell command and capture output (!! is short-hand).\n",
       "%system:\n",
       "    Shell execute - run shell command and capture output (!! is short-hand).\n",
       "%tb:\n",
       "    Print the last traceback.\n",
       "%time:\n",
       "    Time execution of a Python statement or expression.\n",
       "%timeit:\n",
       "    Time execution of a Python statement or expression\n",
       "%unalias:\n",
       "    Remove an alias\n",
       "%unload_ext:\n",
       "    Unload an IPython extension by its module name.\n",
       "%who:\n",
       "    Print all interactive variables, with some minimal formatting.\n",
       "%who_ls:\n",
       "    Return a sorted list of all interactive variables.\n",
       "%whos:\n",
       "    Like %who, but gives some extra information about each variable.\n",
       "%xdel:\n",
       "    Delete a variable, trying to clear it from anywhere that\n",
       "%xmode:\n",
       "    Switch modes for the exception handlers.\n",
       "%%!:\n",
       "    Shell execute - run shell command and capture output (!! is short-hand).\n",
       "%%HTML:\n",
       "    Alias for `%%html`.\n",
       "%%SVG:\n",
       "    Alias for `%%svg`.\n",
       "%%bash:\n",
       "    %%bash script magic\n",
       "%%capture:\n",
       "    ::\n",
       "%%code_wrap:\n",
       "    ::\n",
       "%%debug:\n",
       "    ::\n",
       "%%file:\n",
       "    Alias for `%%writefile`.\n",
       "%%html:\n",
       "    ::\n",
       "%%javascript:\n",
       "    Run the cell block of Javascript code\n",
       "%%js:\n",
       "    Run the cell block of Javascript code\n",
       "%%latex:\n",
       "    Render the cell as a block of LaTeX\n",
       "%%markdown:\n",
       "    Render the cell as Markdown text block\n",
       "%%perl:\n",
       "    %%perl script magic\n",
       "%%prun:\n",
       "    Run a statement through the python code profiler.\n",
       "%%pypy:\n",
       "    %%pypy script magic\n",
       "%%python:\n",
       "    %%python script magic\n",
       "%%python2:\n",
       "    %%python2 script magic\n",
       "%%python3:\n",
       "    %%python3 script magic\n",
       "%%ruby:\n",
       "    %%ruby script magic\n",
       "%%script:\n",
       "    ::\n",
       "%%sh:\n",
       "    %%sh script magic\n",
       "%%svg:\n",
       "    Render the cell as an SVG literal\n",
       "%%sx:\n",
       "    Shell execute - run shell command and capture output (!! is short-hand).\n",
       "%%system:\n",
       "    Shell execute - run shell command and capture output (!! is short-hand).\n",
       "%%time:\n",
       "    Time execution of a Python statement or expression.\n",
       "%%timeit:\n",
       "    Time execution of a Python statement or expression\n",
       "%%writefile:\n",
       "    ::\n"
      ]
     },
     "metadata": {},
     "output_type": "display_data"
    }
   ],
   "source": [
    "%load_ext autoreload\n",
    "%autoreload 2\n",
    "%quickref"
   ]
  },
  {
   "cell_type": "markdown",
   "metadata": {
    "slideshow": {
     "slide_type": "-"
    }
   },
   "source": [
    "[video](anim/ecflow_3min39.mp4)"
   ]
  },
  {
   "cell_type": "markdown",
   "metadata": {
    "slideshow": {
     "slide_type": "slide"
    }
   },
   "source": [
    "## Start the ecFlow server"
   ]
  },
  {
   "cell_type": "code",
   "execution_count": 2,
   "metadata": {},
   "outputs": [
    {
     "name": "stderr",
     "output_type": "stream",
     "text": [
      "[10:49:01 12.08.2025] Request( --ping ), Failed to connect to mmac.local:2500. After 2 attempts. Is the server running ?\n",
      "\n"
     ]
    },
    {
     "name": "stdout",
     "output_type": "stream",
     "text": [
      "Tue Aug 12 10:49:01 UTC 2025\n",
      "\n",
      "User \"501\" attempting to start ecf server on \"mmac.local\" using ECF_PORT \"2500\" and with:\n",
      "ECF_HOME     : \"/Users/map/ecflow_server\"\n",
      "ECF_LOG      : \"mmac.local.2500.ecf.log\"\n",
      "ECF_CHECK    : \"mmac.local.2500.check\"\n",
      "ECF_CHECKOLD : \"mmac.local.2500.check.b\"\n",
      "ECF_OUT      : \"/dev/null\"\n",
      "\n",
      "client version is Ecflow version(5.14.1) boost(1.86.0) compiler(clang 19.1.7) protocol(JSON cereal 1.3.0) openssl(enabled) Compiled on Jul 15 2025 10:35:11\n",
      "Checking if the server is already running on mmac.local and port 2500\n"
     ]
    },
    {
     "name": "stderr",
     "output_type": "stream",
     "text": [
      "[10:49:22 12.08.2025] Request( --ping ), Failed to connect to mmac.local:2500. After 2 attempts. Is the server running ?\n",
      "\n"
     ]
    },
    {
     "name": "stdout",
     "output_type": "stream",
     "text": [
      "\n",
      "Backing up check point and log files\n",
      "\n",
      "OK starting ecFlow server...\n",
      "\n",
      "Placing server into RESTART mode...\n",
      "\n",
      "To view server on ecflow_ui - goto Servers/Manage Servers... and enter\n",
      "Name        : <unique ecFlow server name>\n",
      "Host        : mmac.local\n",
      "Port Number : 2500\n",
      "\n"
     ]
    }
   ],
   "source": [
    "%%bash \n",
    "ecflow_start.sh -p 2500"
   ]
  },
  {
   "cell_type": "markdown",
   "metadata": {},
   "source": [
    "## Start the GUI ecflow_ui"
   ]
  },
  {
   "cell_type": "code",
   "execution_count": 3,
   "metadata": {},
   "outputs": [],
   "source": [
    "%%bash\n",
    "# UNCOMMENT following line to launch the GUI\n",
    "# ecflow_ui &"
   ]
  },
  {
   "cell_type": "markdown",
   "metadata": {},
   "source": [
    "## Experience the command line client"
   ]
  },
  {
   "cell_type": "code",
   "execution_count": 4,
   "metadata": {},
   "outputs": [
    {
     "name": "stdout",
     "output_type": "stream",
     "text": [
      "ping server(localhost:2500) succeeded in 00:00:00.005500  ~5 milliseconds\n"
     ]
    }
   ],
   "source": [
    "%%bash\n",
    "ecflow_client --port 2500 --host localhost --ping"
   ]
  },
  {
   "cell_type": "code",
   "execution_count": 5,
   "metadata": {},
   "outputs": [
    {
     "name": "stdout",
     "output_type": "stream",
     "text": [
      "Ecflow version(5.14.1) boost(1.86.0) compiler(clang 19.1.7) protocol(JSON cereal 1.3.0) openssl(enabled) Compiled on Jul 15 2025 10:35:11\n",
      "\n",
      "Client/server based work flow package:\n",
      "\n",
      "Ecflow version(5.14.1) boost(1.86.0) compiler(clang 19.1.7) protocol(JSON cereal 1.3.0) openssl(enabled) Compiled on Jul 15 2025 10:35:11\n",
      "\n",
      "ecflow_client provides the command line interface, for interacting with the server:\n",
      "Try:\n",
      "\n",
      "   ecflow_client --help=all       # List all commands, verbosely\n",
      "   ecflow_client --help=summary   # One line summary of all commands\n",
      "   ecflow_client --help=child     # One line summary of child commands\n",
      "   ecflow_client --help=user      # One line summary of user command\n",
      "   ecflow_client --help=<cmd>     # Detailed help on each command\n",
      "\n",
      "Commands:\n",
      "\n",
      "   abort                  alter                  archive                begin                  ch_add                 \n",
      "   ch_auto_add            ch_drop                ch_drop_user           ch_register            ch_rem                 \n",
      "   ch_suites              check                  checkJobGenOnly        check_pt               complete               \n",
      "   debug_server_off       debug_server_on        delete                 edit_history           edit_script            \n",
      "   event                  file                   force                  force-dep-eval         free-dep               \n",
      "   get                    get_state              group                  halt                   help                   \n",
      "   init                   job_gen                kill                   label                  load                   \n",
      "   log                    meter                  migrate                msg                    news                   \n",
      "   order                  ping                   plug                   query                  queue                  \n",
      "   reloadcustompasswdfile reloadpasswdfile       reloadwsfile           remove                 replace                \n",
      "   requeue                restart                restore                restore_from_checkpt   resume                 \n",
      "   run                    server_load            server_version         show                   shutdown               \n",
      "   stats                  stats_reset            stats_server           status                 suites                 \n",
      "   suspend                sync                   sync_clock             sync_full              terminate              \n",
      "   version                wait                   why                    zombie_adopt           zombie_block           \n",
      "   zombie_fail            zombie_fob             zombie_get             zombie_kill            zombie_remove          \n",
      "\n",
      "Generic Options:\n",
      "\n",
      "   add      debug    host     http     https    password port     rid      \n",
      "   ssl      user     \n",
      "\n"
     ]
    }
   ],
   "source": [
    "%%bash\n",
    "# DISPLAY ALL CLIENT COMMANDS\n",
    "ecflow_client --version\n",
    "ecflow_client --help"
   ]
  },
  {
   "cell_type": "markdown",
   "metadata": {
    "slideshow": {
     "slide_type": "slide"
    }
   },
   "source": [
    "## Python for suites design, client-server communication, or a script.py as a task template..."
   ]
  },
  {
   "cell_type": "code",
   "execution_count": 11,
   "metadata": {},
   "outputs": [],
   "source": [
    "%%bash\n",
    "p=/lib/python3.12/site-packages/ecflow\n",
    "export PYTHONPATH=$PYTHONPATH:/usr/local/apps/ecflow/current$p:/usr/local$p"
   ]
  },
  {
   "cell_type": "code",
   "execution_count": 12,
   "metadata": {},
   "outputs": [
    {
     "ename": "ModuleNotFoundError",
     "evalue": "No module named 'ecflow'",
     "output_type": "error",
     "traceback": [
      "\u001b[0;31m---------------------------------------------------------------------------\u001b[0m",
      "\u001b[0;31mModuleNotFoundError\u001b[0m                       Traceback (most recent call last)",
      "Cell \u001b[0;32mIn[12], line 5\u001b[0m\n\u001b[1;32m      3\u001b[0m sys\u001b[38;5;241m.\u001b[39mpath\u001b[38;5;241m.\u001b[39mappend(\u001b[38;5;124m\"\u001b[39m\u001b[38;5;124m/usr/local\u001b[39m\u001b[38;5;124m\"\u001b[39m \u001b[38;5;241m+\u001b[39m p)\n\u001b[1;32m      4\u001b[0m sys\u001b[38;5;241m.\u001b[39mpath\u001b[38;5;241m.\u001b[39mappend(\u001b[38;5;124m\"\u001b[39m\u001b[38;5;124m/usr/local/apps/ecflow/current\u001b[39m\u001b[38;5;124m\"\u001b[39m \u001b[38;5;241m+\u001b[39m p)\n\u001b[0;32m----> 5\u001b[0m \u001b[38;5;28;01mimport\u001b[39;00m\u001b[38;5;250m \u001b[39m\u001b[38;5;21;01mecflow\u001b[39;00m\n\u001b[1;32m      6\u001b[0m \u001b[38;5;66;03m# UNCOMMENT FOLLOWING LINE TO GET FULL man pages\u001b[39;00m\n\u001b[1;32m      7\u001b[0m \u001b[38;5;66;03m# help(ecflow)\u001b[39;00m\n",
      "\u001b[0;31mModuleNotFoundError\u001b[0m: No module named 'ecflow'"
     ]
    }
   ],
   "source": [
    "import sys\n",
    "p=\"/lib/python3.12/site-packages/ecflow\"\n",
    "sys.path.append(\"/usr/local\" + p)\n",
    "sys.path.append(\"/usr/local/apps/ecflow/current\" + p)\n",
    "import ecflow\n",
    "# UNCOMMENT FOLLOWING LINE TO GET FULL man pages\n",
    "# help(ecflow)"
   ]
  },
  {
   "cell_type": "markdown",
   "metadata": {
    "slideshow": {
     "slide_type": "slide"
    }
   },
   "source": [
    "## Define the simplest suite and print it as \"text definition file\""
   ]
  },
  {
   "cell_type": "code",
   "execution_count": null,
   "metadata": {},
   "outputs": [],
   "source": [
    "%run src/el11_test_suite.py"
   ]
  },
  {
   "cell_type": "code",
   "execution_count": null,
   "metadata": {},
   "outputs": [],
   "source": [
    "%pycat src/el11_test_suite.py"
   ]
  },
  {
   "cell_type": "markdown",
   "metadata": {
    "slideshow": {
     "slide_type": "slide"
    }
   },
   "source": [
    "## Create the head.h and tail.h files for all tasks in ECF_INCLUDE directory"
   ]
  },
  {
   "cell_type": "code",
   "execution_count": null,
   "metadata": {},
   "outputs": [],
   "source": [
    "%run src/el12_test_suite_include.py"
   ]
  },
  {
   "cell_type": "code",
   "execution_count": null,
   "metadata": {},
   "outputs": [],
   "source": [
    "%pycat src/el12_test_suite_include.py"
   ]
  },
  {
   "cell_type": "markdown",
   "metadata": {
    "slideshow": {
     "slide_type": "slide"
    }
   },
   "source": [
    "## Create the simplest task template in ECF_FILES directory"
   ]
  },
  {
   "cell_type": "code",
   "execution_count": null,
   "metadata": {},
   "outputs": [],
   "source": [
    "%run src/el13_test_suite_wrapper.py"
   ]
  },
  {
   "cell_type": "code",
   "execution_count": null,
   "metadata": {},
   "outputs": [],
   "source": [
    "%pycat src/el13_test_suite_wrapper.py"
   ]
  },
  {
   "cell_type": "markdown",
   "metadata": {
    "slideshow": {
     "slide_type": "slide"
    }
   },
   "source": [
    "## load or replace the node into the Server with a standalone Python ecFlow client"
   ]
  },
  {
   "cell_type": "markdown",
   "metadata": {
    "slideshow": {
     "slide_type": "-"
    }
   },
   "source": [
    "You may ask: why do we need to write an intermediate text file, which is later loaded with another python script which has to read this file?\n",
    "\n",
    "We don't need: this is a tutorial which explains step by step. In practice the suite is most often directly loaded from creation as ecflow.Defs with ecflow.Client into the server.\n",
    "\n",
    "Yet, the text (expanded) suite definition can be read, modified, used with ecflow_client command line, to create, or update a node in an existing suite."
   ]
  },
  {
   "cell_type": "code",
   "execution_count": null,
   "metadata": {},
   "outputs": [],
   "source": [
    "%run src/el14_test_suite_client.py"
   ]
  },
  {
   "cell_type": "code",
   "execution_count": null,
   "metadata": {},
   "outputs": [],
   "source": [
    "%pycat src/el14_test_suite_client.py"
   ]
  },
  {
   "cell_type": "markdown",
   "metadata": {},
   "source": [
    "check_job_creation can run from the client side to identify if jobs have a chance to be created by ecFlow server. You can fix:\n",
    "- missing task template files\n",
    "- missing include files\n",
    "- ecFlow variables used in a script template, yet undefined in the py-def\n",
    "- missing directories (ECF_HOME, ECF_INCLUDE, ECF_FILES)\n",
    "- unexpected directories right restriction, read only, or directory not accessible"
   ]
  },
  {
   "cell_type": "markdown",
   "metadata": {},
   "source": [
    "## Standalone Python client to download and display live server content"
   ]
  },
  {
   "cell_type": "code",
   "execution_count": null,
   "metadata": {},
   "outputs": [],
   "source": [
    "%run src/el15_checking_the_result.py"
   ]
  },
  {
   "cell_type": "markdown",
   "metadata": {},
   "source": [
    "## Delete-Load-Begin a suite... or just replace a node"
   ]
  },
  {
   "cell_type": "code",
   "execution_count": null,
   "metadata": {},
   "outputs": [],
   "source": [
    "%run src/el16_client_load.py"
   ]
  },
  {
   "cell_type": "code",
   "execution_count": null,
   "metadata": {},
   "outputs": [],
   "source": [
    "%pycat src/el16_client_load.py"
   ]
  },
  {
   "cell_type": "markdown",
   "metadata": {},
   "source": [
    "- **restart_server** is issued from the Python client, or from the GUI, **once**, so that jobs can be submitted.\n",
    "- **begin_suite** must be issued each time the suite is loaded. To prevent that, **replace** is sometimes preferred. load would not overwrite a suite already existing on the server and would report an error. Sometimes, **delete** is called on the live suite, to clear the path to the incoming **load**."
   ]
  },
  {
   "cell_type": "markdown",
   "metadata": {
    "slideshow": {
     "slide_type": "slide"
    }
   },
   "source": [
    "# Going Further"
   ]
  },
  {
   "cell_type": "markdown",
   "metadata": {},
   "source": [
    "## Add a task"
   ]
  },
  {
   "cell_type": "code",
   "execution_count": null,
   "metadata": {},
   "outputs": [],
   "source": [
    "%run src/el21_add_another_task.py"
   ]
  },
  {
   "cell_type": "code",
   "execution_count": 8,
   "metadata": {},
   "outputs": [
    {
     "data": {
      "text/plain": [
       "\u001b[0;31m#!/usr/bin/env python\u001b[0m\u001b[0;34m\u001b[0m\n",
       "\u001b[0;34m\u001b[0m\u001b[0;32mfrom\u001b[0m \u001b[0m__future__\u001b[0m \u001b[0;32mimport\u001b[0m \u001b[0mprint_function\u001b[0m\u001b[0;34m\u001b[0m\n",
       "\u001b[0;34m\u001b[0m\u001b[0;34m\"\"\" add another task, another manual \"\"\"\u001b[0m\u001b[0;34m\u001b[0m\n",
       "\u001b[0;34m\u001b[0m\u001b[0;32mimport\u001b[0m \u001b[0mos\u001b[0m\u001b[0;34m\u001b[0m\n",
       "\u001b[0;34m\u001b[0m\u001b[0;32mfrom\u001b[0m \u001b[0mecf\u001b[0m \u001b[0;32mimport\u001b[0m \u001b[0;34m(\u001b[0m\u001b[0mDefs\u001b[0m\u001b[0;34m,\u001b[0m \u001b[0mDefstatus\u001b[0m\u001b[0;34m,\u001b[0m \u001b[0mSuite\u001b[0m\u001b[0;34m,\u001b[0m \u001b[0mVariable\u001b[0m\u001b[0;34m,\u001b[0m \u001b[0mTask\u001b[0m\u001b[0;34m,\u001b[0m \u001b[0mClient\u001b[0m\u001b[0;34m)\u001b[0m\u001b[0;34m\u001b[0m\n",
       "\u001b[0;34m\u001b[0m\u001b[0mprint\u001b[0m\u001b[0;34m(\u001b[0m\u001b[0;34m\"Creating suite definition\"\u001b[0m\u001b[0;34m)\u001b[0m\u001b[0;34m\u001b[0m\n",
       "\u001b[0;34m\u001b[0m\u001b[0mECF_HOME\u001b[0m \u001b[0;34m=\u001b[0m \u001b[0mos\u001b[0m\u001b[0;34m.\u001b[0m\u001b[0mpath\u001b[0m\u001b[0;34m.\u001b[0m\u001b[0mjoin\u001b[0m\u001b[0;34m(\u001b[0m\u001b[0mos\u001b[0m\u001b[0;34m.\u001b[0m\u001b[0mgetenv\u001b[0m\u001b[0;34m(\u001b[0m\u001b[0;34m\"HOME\"\u001b[0m\u001b[0;34m)\u001b[0m\u001b[0;34m,\u001b[0m \u001b[0;34m\"ecflow_server\"\u001b[0m\u001b[0;34m)\u001b[0m\u001b[0;34m\u001b[0m\n",
       "\u001b[0;34m\u001b[0m\u001b[0mNAME\u001b[0m \u001b[0;34m=\u001b[0m \u001b[0mos\u001b[0m\u001b[0;34m.\u001b[0m\u001b[0mgetenv\u001b[0m\u001b[0;34m(\u001b[0m\u001b[0;34m\"SUITE\"\u001b[0m\u001b[0;34m,\u001b[0m \u001b[0;34m\"elearning\"\u001b[0m\u001b[0;34m)\u001b[0m\u001b[0;34m\u001b[0m\n",
       "\u001b[0;34m\u001b[0m\u001b[0mDEFS\u001b[0m \u001b[0;34m=\u001b[0m \u001b[0mDefs\u001b[0m\u001b[0;34m(\u001b[0m\u001b[0;34m)\u001b[0m\u001b[0;34m\u001b[0m\n",
       "\u001b[0;34m\u001b[0m\u001b[0mDEFS\u001b[0m\u001b[0;34m.\u001b[0m\u001b[0madd\u001b[0m\u001b[0;34m(\u001b[0m  \u001b[0;31m# suite definition\u001b[0m\u001b[0;34m\u001b[0m\n",
       "\u001b[0;34m\u001b[0m    \u001b[0mSuite\u001b[0m\u001b[0;34m(\u001b[0m\u001b[0mNAME\u001b[0m\u001b[0;34m)\u001b[0m\u001b[0;34m.\u001b[0m\u001b[0madd\u001b[0m\u001b[0;34m(\u001b[0m\u001b[0;34m\u001b[0m\n",
       "\u001b[0;34m\u001b[0m        \u001b[0mDefstatus\u001b[0m\u001b[0;34m(\u001b[0m\u001b[0;34m\"suspended\"\u001b[0m\u001b[0;34m)\u001b[0m\u001b[0;34m,\u001b[0m  \u001b[0;31m# so that jobs do not start immediately\u001b[0m\u001b[0;34m\u001b[0m\n",
       "\u001b[0;34m\u001b[0m        \u001b[0mVariable\u001b[0m\u001b[0;34m(\u001b[0m\u001b[0;34m\"ECF_HOME\"\u001b[0m\u001b[0;34m,\u001b[0m \u001b[0mECF_HOME\u001b[0m\u001b[0;34m)\u001b[0m\u001b[0;34m,\u001b[0m\u001b[0;34m\u001b[0m\n",
       "\u001b[0;34m\u001b[0m        \u001b[0mTask\u001b[0m\u001b[0;34m(\u001b[0m\u001b[0;34m\"t1\"\u001b[0m\u001b[0;34m)\u001b[0m\u001b[0;34m,\u001b[0m  \u001b[0;31m# first task\u001b[0m\u001b[0;34m\u001b[0m\n",
       "\u001b[0;34m\u001b[0m        \u001b[0mTask\u001b[0m\u001b[0;34m(\u001b[0m\u001b[0;34m\"t2\"\u001b[0m\u001b[0;34m)\u001b[0m\u001b[0;34m,\u001b[0m  \u001b[0;31m# second task\u001b[0m\u001b[0;34m\u001b[0m\n",
       "\u001b[0;34m\u001b[0m    \u001b[0;34m)\u001b[0m\u001b[0;34m)\u001b[0m\u001b[0;34m\u001b[0m\n",
       "\u001b[0;34m\u001b[0m\u001b[0mSCRIPT_TEMPLATE\u001b[0m \u001b[0;34m=\u001b[0m \u001b[0;34m\"\"\"%manual\u001b[0m\n",
       "\u001b[0;34m  Manual for task t2\u001b[0m\n",
       "\u001b[0;34m  Operations: if this task fails, set it to complete, report next working day\u001b[0m\n",
       "\u001b[0;34m  Analyst:    Check something ...\u001b[0m\n",
       "\u001b[0;34m%end\u001b[0m\n",
       "\u001b[0;34m%include <head.h>\u001b[0m\n",
       "\u001b[0;34mecho \"I am part of a suite that lives in %ECF_HOME%\"\u001b[0m\n",
       "\u001b[0;34m%include <tail.h>\u001b[0m\n",
       "\u001b[0;34m\u001b[0m\n",
       "\u001b[0;34m%manual\u001b[0m\n",
       "\u001b[0;34m  There can be multiple manual pages in the same file.\u001b[0m\n",
       "\u001b[0;34m  When viewed they are simply concatenated.\u001b[0m\n",
       "\u001b[0;34m%end\u001b[0m\n",
       "\u001b[0;34m\"\"\"\u001b[0m\u001b[0;34m\u001b[0m\n",
       "\u001b[0;34m\u001b[0m\u001b[0;34m\u001b[0m\n",
       "\u001b[0;34m\u001b[0m\u001b[0;32mif\u001b[0m \u001b[0m__name__\u001b[0m \u001b[0;34m==\u001b[0m \u001b[0;34m'__main__'\u001b[0m\u001b[0;34m:\u001b[0m\u001b[0;34m\u001b[0m\n",
       "\u001b[0;34m\u001b[0m    \u001b[0;31m# create script template file\u001b[0m\u001b[0;34m\u001b[0m\n",
       "\u001b[0;34m\u001b[0m    \u001b[0;32mwith\u001b[0m \u001b[0mopen\u001b[0m\u001b[0;34m(\u001b[0m\u001b[0mECF_HOME\u001b[0m \u001b[0;34m+\u001b[0m \u001b[0;34m\"/files/t2.ecf\"\u001b[0m\u001b[0;34m,\u001b[0m \u001b[0;34m\"w\"\u001b[0m\u001b[0;34m)\u001b[0m \u001b[0;32mas\u001b[0m \u001b[0mt2\u001b[0m\u001b[0;34m:\u001b[0m\u001b[0;34m\u001b[0m\n",
       "\u001b[0;34m\u001b[0m        \u001b[0mprint\u001b[0m\u001b[0;34m(\u001b[0m\u001b[0mSCRIPT_TEMPLATE\u001b[0m\u001b[0;34m,\u001b[0m \u001b[0mfile\u001b[0m\u001b[0;34m=\u001b[0m\u001b[0mt2\u001b[0m\u001b[0;34m)\u001b[0m\u001b[0;34m\u001b[0m\n",
       "\u001b[0;34m\u001b[0m\u001b[0;34m\u001b[0m\n",
       "\u001b[0;34m\u001b[0m    \u001b[0mHOST\u001b[0m \u001b[0;34m=\u001b[0m \u001b[0mos\u001b[0m\u001b[0;34m.\u001b[0m\u001b[0mgetenv\u001b[0m\u001b[0;34m(\u001b[0m\u001b[0;34m\"ECF_HOST\"\u001b[0m\u001b[0;34m,\u001b[0m \u001b[0;34m\"localhost\"\u001b[0m\u001b[0;34m)\u001b[0m\u001b[0;34m\u001b[0m\n",
       "\u001b[0;34m\u001b[0m    \u001b[0mPORT\u001b[0m \u001b[0;34m=\u001b[0m \u001b[0mint\u001b[0m\u001b[0;34m(\u001b[0m\u001b[0mos\u001b[0m\u001b[0;34m.\u001b[0m\u001b[0mgetenv\u001b[0m\u001b[0;34m(\u001b[0m\u001b[0;34m\"ECF_PORT\"\u001b[0m\u001b[0;34m,\u001b[0m \u001b[0;34m\"%d\"\u001b[0m \u001b[0;34m%\u001b[0m \u001b[0;34m(\u001b[0m\u001b[0;36m1500\u001b[0m \u001b[0;34m+\u001b[0m \u001b[0mos\u001b[0m\u001b[0;34m.\u001b[0m\u001b[0mgetuid\u001b[0m\u001b[0;34m(\u001b[0m\u001b[0;34m)\u001b[0m\u001b[0;34m)\u001b[0m\u001b[0;34m)\u001b[0m\u001b[0;34m)\u001b[0m\u001b[0;34m\u001b[0m\n",
       "\u001b[0;34m\u001b[0m    \u001b[0mCLIENT\u001b[0m \u001b[0;34m=\u001b[0m \u001b[0mClient\u001b[0m\u001b[0;34m(\u001b[0m\u001b[0mHOST\u001b[0m\u001b[0;34m,\u001b[0m \u001b[0mPORT\u001b[0m\u001b[0;34m)\u001b[0m\u001b[0;34m\u001b[0m\n",
       "\u001b[0;34m\u001b[0m    \u001b[0;34m\u001b[0m\n",
       "\u001b[0;34m\u001b[0m    \u001b[0mNODE\u001b[0m \u001b[0;34m=\u001b[0m \u001b[0;34m\"/%s/t2\"\u001b[0m \u001b[0;34m%\u001b[0m \u001b[0mNAME\u001b[0m  \u001b[0;31m# this may be a family, a task path\u001b[0m\u001b[0;34m\u001b[0m\n",
       "\u001b[0;34m\u001b[0m    \u001b[0mCLIENT\u001b[0m\u001b[0;34m.\u001b[0m\u001b[0mreplace\u001b[0m\u001b[0;34m(\u001b[0m\u001b[0mNODE\u001b[0m\u001b[0;34m,\u001b[0m \u001b[0mDEFS\u001b[0m\u001b[0;34m)\u001b[0m\u001b[0;34m\u001b[0m\n",
       "\u001b[0;34m\u001b[0m    \u001b[0mprint\u001b[0m\u001b[0;34m(\u001b[0m\u001b[0;34m\"replaced node %s into\"\u001b[0m \u001b[0;34m%\u001b[0m \u001b[0mNODE\u001b[0m\u001b[0;34m,\u001b[0m \u001b[0mHOST\u001b[0m\u001b[0;34m,\u001b[0m \u001b[0mPORT\u001b[0m\u001b[0;34m)\u001b[0m\u001b[0;34m\u001b[0m\u001b[0;34m\u001b[0m\u001b[0m\n"
      ]
     },
     "metadata": {},
     "output_type": "display_data"
    }
   ],
   "source": [
    "%pycat src/el21_add_another_task.py"
   ]
  },
  {
   "cell_type": "markdown",
   "metadata": {
    "slideshow": {
     "slide_type": "slide"
    }
   },
   "source": [
    "## Add a family"
   ]
  },
  {
   "cell_type": "code",
   "execution_count": 9,
   "metadata": {},
   "outputs": [
    {
     "ename": "ModuleNotFoundError",
     "evalue": "No module named 'ecf'",
     "output_type": "error",
     "traceback": [
      "\u001b[0;31m---------------------------------------------------------------------------\u001b[0m",
      "\u001b[0;31mModuleNotFoundError\u001b[0m                       Traceback (most recent call last)",
      "File \u001b[0;32m~/202510-ecflow/debian-ecflow/notebook/src/el22_add_families.py:4\u001b[0m\n\u001b[1;32m      2\u001b[0m \u001b[38;5;28;01mfrom\u001b[39;00m\u001b[38;5;250m \u001b[39m\u001b[38;5;21;01m__future__\u001b[39;00m\u001b[38;5;250m \u001b[39m\u001b[38;5;28;01mimport\u001b[39;00m print_function\n\u001b[1;32m      3\u001b[0m \u001b[38;5;28;01mimport\u001b[39;00m\u001b[38;5;250m \u001b[39m\u001b[38;5;21;01mos\u001b[39;00m\n\u001b[0;32m----> 4\u001b[0m \u001b[38;5;28;01mimport\u001b[39;00m\u001b[38;5;250m \u001b[39m\u001b[38;5;21;01mecf\u001b[39;00m\u001b[38;5;250m \u001b[39m\u001b[38;5;28;01mas\u001b[39;00m\u001b[38;5;250m \u001b[39m\u001b[38;5;21;01mecflow\u001b[39;00m\n\u001b[1;32m      5\u001b[0m \u001b[38;5;28;01mfrom\u001b[39;00m\u001b[38;5;250m \u001b[39m\u001b[38;5;21;01mecf\u001b[39;00m\u001b[38;5;250m \u001b[39m\u001b[38;5;28;01mimport\u001b[39;00m (Defstatus, Suite, Family, Task, Variables)\n\u001b[1;32m      6\u001b[0m \u001b[38;5;28mprint\u001b[39m(\u001b[38;5;124m\"\u001b[39m\u001b[38;5;124mCreating suite definition\u001b[39m\u001b[38;5;124m\"\u001b[39m)\n",
      "\u001b[0;31mModuleNotFoundError\u001b[0m: No module named 'ecf'"
     ]
    }
   ],
   "source": [
    "%run src/el22_add_families.py"
   ]
  },
  {
   "cell_type": "code",
   "execution_count": 10,
   "metadata": {},
   "outputs": [
    {
     "data": {
      "text/plain": [
       "\u001b[0;31m#!/usr/bin/env python\u001b[0m\u001b[0;34m\u001b[0m\n",
       "\u001b[0;34m\u001b[0m\u001b[0;32mfrom\u001b[0m \u001b[0m__future__\u001b[0m \u001b[0;32mimport\u001b[0m \u001b[0mprint_function\u001b[0m\u001b[0;34m\u001b[0m\n",
       "\u001b[0;34m\u001b[0m\u001b[0;32mimport\u001b[0m \u001b[0mos\u001b[0m\u001b[0;34m\u001b[0m\n",
       "\u001b[0;34m\u001b[0m\u001b[0;32mimport\u001b[0m \u001b[0mecf\u001b[0m \u001b[0;32mas\u001b[0m \u001b[0mecflow\u001b[0m\u001b[0;34m\u001b[0m\n",
       "\u001b[0;34m\u001b[0m\u001b[0;32mfrom\u001b[0m \u001b[0mecf\u001b[0m \u001b[0;32mimport\u001b[0m \u001b[0;34m(\u001b[0m\u001b[0mDefstatus\u001b[0m\u001b[0;34m,\u001b[0m \u001b[0mSuite\u001b[0m\u001b[0;34m,\u001b[0m \u001b[0mFamily\u001b[0m\u001b[0;34m,\u001b[0m \u001b[0mTask\u001b[0m\u001b[0;34m,\u001b[0m \u001b[0mVariables\u001b[0m\u001b[0;34m)\u001b[0m\u001b[0;34m\u001b[0m\n",
       "\u001b[0;34m\u001b[0m\u001b[0mprint\u001b[0m\u001b[0;34m(\u001b[0m\u001b[0;34m\"Creating suite definition\"\u001b[0m\u001b[0;34m)\u001b[0m\u001b[0;34m\u001b[0m\n",
       "\u001b[0;34m\u001b[0m\u001b[0mECF_HOME\u001b[0m \u001b[0;34m=\u001b[0m \u001b[0mos\u001b[0m\u001b[0;34m.\u001b[0m\u001b[0mpath\u001b[0m\u001b[0;34m.\u001b[0m\u001b[0mjoin\u001b[0m\u001b[0;34m(\u001b[0m\u001b[0mos\u001b[0m\u001b[0;34m.\u001b[0m\u001b[0mgetenv\u001b[0m\u001b[0;34m(\u001b[0m\u001b[0;34m\"HOME\"\u001b[0m\u001b[0;34m)\u001b[0m\u001b[0;34m,\u001b[0m \u001b[0;34m\"ecflow_server\"\u001b[0m\u001b[0;34m)\u001b[0m\u001b[0;34m\u001b[0m\n",
       "\u001b[0;34m\u001b[0m\u001b[0mNAME\u001b[0m \u001b[0;34m=\u001b[0m \u001b[0mos\u001b[0m\u001b[0;34m.\u001b[0m\u001b[0mgetenv\u001b[0m\u001b[0;34m(\u001b[0m\u001b[0;34m\"SUITE\"\u001b[0m\u001b[0;34m,\u001b[0m \u001b[0;34m\"elearning\"\u001b[0m\u001b[0;34m)\u001b[0m\u001b[0;34m\u001b[0m\n",
       "\u001b[0;34m\u001b[0m\u001b[0mDEFS\u001b[0m \u001b[0;34m=\u001b[0m \u001b[0mecflow\u001b[0m\u001b[0;34m.\u001b[0m\u001b[0mDefs\u001b[0m\u001b[0;34m(\u001b[0m\u001b[0;34m)\u001b[0m\u001b[0;34m\u001b[0m\n",
       "\u001b[0;34m\u001b[0m\u001b[0mDEFS\u001b[0m\u001b[0;34m.\u001b[0m\u001b[0madd\u001b[0m\u001b[0;34m(\u001b[0m  \u001b[0;31m# suite definition\u001b[0m\u001b[0;34m\u001b[0m\n",
       "\u001b[0;34m\u001b[0m    \u001b[0mSuite\u001b[0m\u001b[0;34m(\u001b[0m\u001b[0mNAME\u001b[0m\u001b[0;34m)\u001b[0m\u001b[0;34m.\u001b[0m\u001b[0madd\u001b[0m\u001b[0;34m(\u001b[0m\u001b[0;34m\u001b[0m\n",
       "\u001b[0;34m\u001b[0m        \u001b[0mDefstatus\u001b[0m\u001b[0;34m(\u001b[0m\u001b[0;34m\"suspended\"\u001b[0m\u001b[0;34m)\u001b[0m\u001b[0;34m,\u001b[0m  \u001b[0;31m# so that jobs do not start immediately\u001b[0m\u001b[0;34m\u001b[0m\n",
       "\u001b[0;34m\u001b[0m        \u001b[0mVariables\u001b[0m\u001b[0;34m(\u001b[0m\u001b[0mECF_HOME\u001b[0m\u001b[0;34m=\u001b[0m\u001b[0mECF_HOME\u001b[0m\u001b[0;34m,\u001b[0m\u001b[0;34m\u001b[0m\n",
       "\u001b[0;34m\u001b[0m                  \u001b[0mECF_FILES\u001b[0m\u001b[0;34m=\u001b[0m\u001b[0mECF_HOME\u001b[0m \u001b[0;34m+\u001b[0m \u001b[0;34m\"/files\"\u001b[0m\u001b[0;34m,\u001b[0m\u001b[0;34m\u001b[0m\n",
       "\u001b[0;34m\u001b[0m                  \u001b[0mECF_INCLUDE\u001b[0m\u001b[0;34m=\u001b[0m\u001b[0mECF_HOME\u001b[0m \u001b[0;34m+\u001b[0m \u001b[0;34m\"/include\"\u001b[0m\u001b[0;34m)\u001b[0m\u001b[0;34m,\u001b[0m\u001b[0;34m\u001b[0m\n",
       "\u001b[0;34m\u001b[0m        \u001b[0mFamily\u001b[0m\u001b[0;34m(\u001b[0m\u001b[0;34m\"f1\"\u001b[0m\u001b[0;34m)\u001b[0m\u001b[0;34m.\u001b[0m\u001b[0madd\u001b[0m\u001b[0;34m(\u001b[0m  \u001b[0;31m# hosting family\u001b[0m\u001b[0;34m\u001b[0m\n",
       "\u001b[0;34m\u001b[0m            \u001b[0mTask\u001b[0m\u001b[0;34m(\u001b[0m\u001b[0;34m\"t1\"\u001b[0m\u001b[0;34m)\u001b[0m\u001b[0;34m,\u001b[0m    \u001b[0;31m# a first task\u001b[0m\u001b[0;34m\u001b[0m\n",
       "\u001b[0;34m\u001b[0m            \u001b[0mTask\u001b[0m\u001b[0;34m(\u001b[0m\u001b[0;34m\"t2\"\u001b[0m\u001b[0;34m)\u001b[0m\u001b[0;34m,\u001b[0m    \u001b[0;31m# a second task\u001b[0m\u001b[0;34m\u001b[0m\n",
       "\u001b[0;34m\u001b[0m        \u001b[0;34m)\u001b[0m\u001b[0;34m)\u001b[0m\u001b[0;34m)\u001b[0m\u001b[0;34m\u001b[0m\n",
       "\u001b[0;34m\u001b[0m\u001b[0;34m\u001b[0m\n",
       "\u001b[0;34m\u001b[0m\u001b[0;32mif\u001b[0m \u001b[0m__name__\u001b[0m \u001b[0;34m==\u001b[0m \u001b[0;34m'__main__'\u001b[0m\u001b[0;34m:\u001b[0m\u001b[0;34m\u001b[0m\n",
       "\u001b[0;34m\u001b[0m    \u001b[0mHOST\u001b[0m \u001b[0;34m=\u001b[0m \u001b[0mos\u001b[0m\u001b[0;34m.\u001b[0m\u001b[0mgetenv\u001b[0m\u001b[0;34m(\u001b[0m\u001b[0;34m\"ECF_HOST\"\u001b[0m\u001b[0;34m,\u001b[0m \u001b[0;34m\"localhost\"\u001b[0m\u001b[0;34m)\u001b[0m\u001b[0;34m\u001b[0m\n",
       "\u001b[0;34m\u001b[0m    \u001b[0mPORT\u001b[0m \u001b[0;34m=\u001b[0m \u001b[0mint\u001b[0m\u001b[0;34m(\u001b[0m\u001b[0mos\u001b[0m\u001b[0;34m.\u001b[0m\u001b[0mgetenv\u001b[0m\u001b[0;34m(\u001b[0m\u001b[0;34m\"ECF_PORT\"\u001b[0m\u001b[0;34m,\u001b[0m \u001b[0;34m\"%d\"\u001b[0m \u001b[0;34m%\u001b[0m \u001b[0;34m(\u001b[0m\u001b[0;36m1500\u001b[0m \u001b[0;34m+\u001b[0m \u001b[0mos\u001b[0m\u001b[0;34m.\u001b[0m\u001b[0mgetuid\u001b[0m\u001b[0;34m(\u001b[0m\u001b[0;34m)\u001b[0m\u001b[0;34m)\u001b[0m\u001b[0;34m)\u001b[0m\u001b[0;34m)\u001b[0m\u001b[0;34m\u001b[0m\n",
       "\u001b[0;34m\u001b[0m    \u001b[0mCLIENT\u001b[0m \u001b[0;34m=\u001b[0m \u001b[0mecflow\u001b[0m\u001b[0;34m.\u001b[0m\u001b[0mClient\u001b[0m\u001b[0;34m(\u001b[0m\u001b[0mHOST\u001b[0m\u001b[0;34m,\u001b[0m \u001b[0mPORT\u001b[0m\u001b[0;34m)\u001b[0m\u001b[0;34m\u001b[0m\n",
       "\u001b[0;34m\u001b[0m\u001b[0;34m\u001b[0m\n",
       "\u001b[0;34m\u001b[0m    \u001b[0mNODE\u001b[0m \u001b[0;34m=\u001b[0m \u001b[0;34m\"/\"\u001b[0m \u001b[0;34m+\u001b[0m \u001b[0mNAME\u001b[0m  \u001b[0;31m# replace suite node: add f1, delete t1 t2\u001b[0m\u001b[0;34m\u001b[0m\n",
       "\u001b[0;34m\u001b[0m    \u001b[0mCLIENT\u001b[0m\u001b[0;34m.\u001b[0m\u001b[0mreplace\u001b[0m\u001b[0;34m(\u001b[0m\u001b[0mNODE\u001b[0m\u001b[0;34m,\u001b[0m \u001b[0mDEFS\u001b[0m\u001b[0;34m)\u001b[0m\u001b[0;34m\u001b[0m\n",
       "\u001b[0;34m\u001b[0m    \u001b[0mprint\u001b[0m\u001b[0;34m(\u001b[0m\u001b[0;34m\"replaced node %s into\"\u001b[0m \u001b[0;34m%\u001b[0m \u001b[0mNODE\u001b[0m\u001b[0;34m,\u001b[0m \u001b[0mHOST\u001b[0m\u001b[0;34m,\u001b[0m \u001b[0mPORT\u001b[0m\u001b[0;34m)\u001b[0m\u001b[0;34m\u001b[0m\u001b[0;34m\u001b[0m\u001b[0m\n"
      ]
     },
     "metadata": {},
     "output_type": "display_data"
    }
   ],
   "source": [
    "%pycat src/el22_add_families.py"
   ]
  },
  {
   "cell_type": "markdown",
   "metadata": {
    "slideshow": {
     "slide_type": "slide"
    }
   },
   "source": [
    "## Add variables"
   ]
  },
  {
   "cell_type": "markdown",
   "metadata": {},
   "source": [
    "Variables are essential to a suite. They are attached to a node as an **attribute** (keyword edit in text defintion file, the native ecflow API is node.add_variable(\"NAME\", \"value\") and ecf.py used in this tutorial defines them with node.add(Variables(a_dictionnary)).\n",
    "\n",
    "When preprocessing the task script to generate the job, ecFlow server replace each occurence of a variable (name surrounded by the % ECF_MICRO character) with its value.\n",
    "\n",
    "A task may inherit a variable from a parent node, or overwrite the inherited value, defining it again."
   ]
  },
  {
   "cell_type": "code",
   "execution_count": 30,
   "metadata": {},
   "outputs": [
    {
     "name": "stdout",
     "output_type": "stream",
     "text": [
      "replaced node /elearning into localhost 2500\n"
     ]
    }
   ],
   "source": [
    "%run src/el23_add_variable.py"
   ]
  },
  {
   "cell_type": "code",
   "execution_count": 26,
   "metadata": {},
   "outputs": [
    {
     "data": {
      "text/plain": [
       "\u001b[0;31m#!/usr/bin/env python\u001b[0m\u001b[0;34m\u001b[0m\n",
       "\u001b[0;34m\u001b[0m\u001b[0;32mfrom\u001b[0m \u001b[0m__future__\u001b[0m \u001b[0;32mimport\u001b[0m \u001b[0mprint_function\u001b[0m\u001b[0;34m\u001b[0m\n",
       "\u001b[0;34m\u001b[0m\u001b[0;32mimport\u001b[0m \u001b[0mos\u001b[0m\u001b[0;34m\u001b[0m\n",
       "\u001b[0;34m\u001b[0m\u001b[0;32mimport\u001b[0m \u001b[0mecf\u001b[0m \u001b[0;32mas\u001b[0m \u001b[0mecflow\u001b[0m\u001b[0;34m\u001b[0m\n",
       "\u001b[0;34m\u001b[0m\u001b[0;32mfrom\u001b[0m \u001b[0mecf\u001b[0m \u001b[0;32mimport\u001b[0m \u001b[0;34m(\u001b[0m\u001b[0mDefstatus\u001b[0m\u001b[0;34m,\u001b[0m \u001b[0mSuite\u001b[0m\u001b[0;34m,\u001b[0m \u001b[0mTask\u001b[0m\u001b[0;34m,\u001b[0m \u001b[0mVariables\u001b[0m\u001b[0;34m)\u001b[0m\u001b[0;34m\u001b[0m\n",
       "\u001b[0;34m\u001b[0m\u001b[0mECF_HOME\u001b[0m \u001b[0;34m=\u001b[0m \u001b[0mos\u001b[0m\u001b[0;34m.\u001b[0m\u001b[0mpath\u001b[0m\u001b[0;34m.\u001b[0m\u001b[0mjoin\u001b[0m\u001b[0;34m(\u001b[0m\u001b[0mos\u001b[0m\u001b[0;34m.\u001b[0m\u001b[0mgetenv\u001b[0m\u001b[0;34m(\u001b[0m\u001b[0;34m\"HOME\"\u001b[0m\u001b[0;34m)\u001b[0m\u001b[0;34m,\u001b[0m \u001b[0;34m\"ecflow_server\"\u001b[0m\u001b[0;34m)\u001b[0m\u001b[0;34m\u001b[0m\n",
       "\u001b[0;34m\u001b[0m\u001b[0mECF_FILES\u001b[0m \u001b[0;34m=\u001b[0m \u001b[0mECF_HOME\u001b[0m \u001b[0;34m+\u001b[0m \u001b[0;34m\"/files\"\u001b[0m\u001b[0;34m\u001b[0m\n",
       "\u001b[0;34m\u001b[0m\u001b[0mNAME\u001b[0m \u001b[0;34m=\u001b[0m \u001b[0mos\u001b[0m\u001b[0;34m.\u001b[0m\u001b[0mgetenv\u001b[0m\u001b[0;34m(\u001b[0m\u001b[0;34m\"SUITE\"\u001b[0m\u001b[0;34m,\u001b[0m \u001b[0;34m\"elearning\"\u001b[0m\u001b[0;34m)\u001b[0m\u001b[0;34m\u001b[0m\n",
       "\u001b[0;34m\u001b[0m\u001b[0mDEFS\u001b[0m \u001b[0;34m=\u001b[0m \u001b[0mecflow\u001b[0m\u001b[0;34m.\u001b[0m\u001b[0mDefs\u001b[0m\u001b[0;34m(\u001b[0m\u001b[0;34m)\u001b[0m\u001b[0;34m\u001b[0m\n",
       "\u001b[0;34m\u001b[0m\u001b[0mDEFS\u001b[0m\u001b[0;34m.\u001b[0m\u001b[0madd\u001b[0m\u001b[0;34m(\u001b[0m  \u001b[0;31m# suite definition\u001b[0m\u001b[0;34m\u001b[0m\n",
       "\u001b[0;34m\u001b[0m    \u001b[0mSuite\u001b[0m\u001b[0;34m(\u001b[0m\u001b[0mNAME\u001b[0m\u001b[0;34m)\u001b[0m\u001b[0;34m.\u001b[0m\u001b[0madd\u001b[0m\u001b[0;34m(\u001b[0m\u001b[0;34m\u001b[0m\n",
       "\u001b[0;34m\u001b[0m        \u001b[0mDefstatus\u001b[0m\u001b[0;34m(\u001b[0m\u001b[0;34m\"suspended\"\u001b[0m\u001b[0;34m)\u001b[0m\u001b[0;34m,\u001b[0m  \u001b[0;31m# so that jobs do not start immediately\u001b[0m\u001b[0;34m\u001b[0m\n",
       "\u001b[0;34m\u001b[0m        \u001b[0mVariables\u001b[0m\u001b[0;34m(\u001b[0m  \u001b[0;31m# we can add multiple variables at once\u001b[0m\u001b[0;34m\u001b[0m\n",
       "\u001b[0;34m\u001b[0m            \u001b[0mECF_HOME\u001b[0m\u001b[0;34m=\u001b[0m\u001b[0mECF_HOME\u001b[0m\u001b[0;34m,\u001b[0m    \u001b[0;31m# where job files are created by ecflow\u001b[0m\u001b[0;34m\u001b[0m\n",
       "\u001b[0;34m\u001b[0m            \u001b[0mECF_FILES\u001b[0m\u001b[0;34m=\u001b[0m\u001b[0mECF_FILES\u001b[0m\u001b[0;34m,\u001b[0m  \u001b[0;31m# where to find script templates .ecf\u001b[0m\u001b[0;34m\u001b[0m\n",
       "\u001b[0;34m\u001b[0m            \u001b[0mECF_INCLUDE\u001b[0m\u001b[0;34m=\u001b[0m\u001b[0mECF_HOME\u001b[0m \u001b[0;34m+\u001b[0m \u001b[0;34m\"/include\"\u001b[0m\u001b[0;34m,\u001b[0m  \u001b[0;31m# where to find head.h tail.h\u001b[0m\u001b[0;34m\u001b[0m\n",
       "\u001b[0;34m\u001b[0m            \u001b[0mSLEEP\u001b[0m\u001b[0;34m=\u001b[0m\u001b[0;36m1\u001b[0m\u001b[0;34m,\u001b[0m  \u001b[0;31m# user variable to be inherited by task/families below\u001b[0m\u001b[0;34m\u001b[0m\n",
       "\u001b[0;34m\u001b[0m        \u001b[0;34m)\u001b[0m\u001b[0;34m,\u001b[0m\u001b[0;34m\u001b[0m\n",
       "\u001b[0;34m\u001b[0m        \u001b[0mTask\u001b[0m\u001b[0;34m(\u001b[0m\u001b[0;34m\"t1\"\u001b[0m\u001b[0;34m)\u001b[0m\u001b[0;34m.\u001b[0m\u001b[0madd\u001b[0m\u001b[0;34m(\u001b[0m\u001b[0;34m\u001b[0m\n",
       "\u001b[0;34m\u001b[0m            \u001b[0mVariables\u001b[0m\u001b[0;34m(\u001b[0m\u001b[0mSLEEP\u001b[0m\u001b[0;34m=\u001b[0m\u001b[0;36m5\u001b[0m\u001b[0;34m)\u001b[0m\u001b[0;34m,\u001b[0m  \u001b[0;31m# overwriting with value 5 for task t1\u001b[0m\u001b[0;34m\u001b[0m\n",
       "\u001b[0;34m\u001b[0m        \u001b[0;34m)\u001b[0m\u001b[0;34m,\u001b[0m\u001b[0;34m\u001b[0m\n",
       "\u001b[0;34m\u001b[0m        \u001b[0mTask\u001b[0m\u001b[0;34m(\u001b[0m\u001b[0;34m\"t2\"\u001b[0m\u001b[0;34m)\u001b[0m\u001b[0;34m.\u001b[0m\u001b[0madd\u001b[0m\u001b[0;34m(\u001b[0m\u001b[0;34m\u001b[0m\n",
       "\u001b[0;34m\u001b[0m            \u001b[0mVariables\u001b[0m\u001b[0;34m(\u001b[0m\u001b[0mSLEEP\u001b[0m\u001b[0;34m=\u001b[0m\u001b[0;36m7\u001b[0m\u001b[0;34m)\u001b[0m\u001b[0;34m,\u001b[0m  \u001b[0;31m# overwriting with value 7 for task t2\u001b[0m\u001b[0;34m\u001b[0m\n",
       "\u001b[0;34m\u001b[0m        \u001b[0;34m)\u001b[0m\u001b[0;34m)\u001b[0m\u001b[0;34m)\u001b[0m\u001b[0;34m\u001b[0m\n",
       "\u001b[0;34m\u001b[0m\u001b[0;34m\u001b[0m\n",
       "\u001b[0;34m\u001b[0m\u001b[0mSCRIPT_TEMPLATE\u001b[0m \u001b[0;34m=\u001b[0m \u001b[0;34m\"\"\"#!/bin/bash\u001b[0m\n",
       "\u001b[0;34m%include <head.h>\u001b[0m\n",
       "\u001b[0;34mecho \"I will now sleep for %SLEEP:1% seconds\"\u001b[0m\n",
       "\u001b[0;34msleep %SLEEP:1%\u001b[0m\n",
       "\u001b[0;34m%include <tail.h>\u001b[0m\n",
       "\u001b[0;34m\"\"\"\u001b[0m\u001b[0;34m\u001b[0m\n",
       "\u001b[0;34m\u001b[0m\u001b[0;34m\u001b[0m\n",
       "\u001b[0;34m\u001b[0m\u001b[0;32mif\u001b[0m \u001b[0m__name__\u001b[0m \u001b[0;34m==\u001b[0m \u001b[0;34m'__main__'\u001b[0m\u001b[0;34m:\u001b[0m\u001b[0;34m\u001b[0m\n",
       "\u001b[0;34m\u001b[0m    \u001b[0;32mwith\u001b[0m \u001b[0mopen\u001b[0m\u001b[0;34m(\u001b[0m\u001b[0mECF_FILES\u001b[0m \u001b[0;34m+\u001b[0m \u001b[0;34m\"/t1.ecf\"\u001b[0m\u001b[0;34m,\u001b[0m \u001b[0;34m\"w\"\u001b[0m\u001b[0;34m)\u001b[0m \u001b[0;32mas\u001b[0m \u001b[0mt1\u001b[0m\u001b[0;34m:\u001b[0m\u001b[0;34m\u001b[0m\n",
       "\u001b[0;34m\u001b[0m        \u001b[0mprint\u001b[0m\u001b[0;34m(\u001b[0m\u001b[0mSCRIPT_TEMPLATE\u001b[0m\u001b[0;34m,\u001b[0m \u001b[0mfile\u001b[0m\u001b[0;34m=\u001b[0m\u001b[0mt1\u001b[0m\u001b[0;34m)\u001b[0m\u001b[0;34m\u001b[0m\n",
       "\u001b[0;34m\u001b[0m    \u001b[0;32mwith\u001b[0m \u001b[0mopen\u001b[0m\u001b[0;34m(\u001b[0m\u001b[0mECF_FILES\u001b[0m \u001b[0;34m+\u001b[0m \u001b[0;34m\"/t2.ecf\"\u001b[0m\u001b[0;34m,\u001b[0m \u001b[0;34m\"w\"\u001b[0m\u001b[0;34m)\u001b[0m \u001b[0;32mas\u001b[0m \u001b[0mt2\u001b[0m\u001b[0;34m:\u001b[0m\u001b[0;34m\u001b[0m\n",
       "\u001b[0;34m\u001b[0m        \u001b[0mprint\u001b[0m\u001b[0;34m(\u001b[0m\u001b[0mSCRIPT_TEMPLATE\u001b[0m\u001b[0;34m,\u001b[0m \u001b[0mfile\u001b[0m\u001b[0;34m=\u001b[0m\u001b[0mt2\u001b[0m\u001b[0;34m)\u001b[0m\u001b[0;34m\u001b[0m\n",
       "\u001b[0;34m\u001b[0m\u001b[0;34m\u001b[0m\n",
       "\u001b[0;34m\u001b[0m    \u001b[0mHOST\u001b[0m \u001b[0;34m=\u001b[0m \u001b[0mos\u001b[0m\u001b[0;34m.\u001b[0m\u001b[0mgetenv\u001b[0m\u001b[0;34m(\u001b[0m\u001b[0;34m\"ECF_HOST\"\u001b[0m\u001b[0;34m,\u001b[0m \u001b[0;34m\"localhost\"\u001b[0m\u001b[0;34m)\u001b[0m\u001b[0;34m\u001b[0m\n",
       "\u001b[0;34m\u001b[0m    \u001b[0mPORT\u001b[0m \u001b[0;34m=\u001b[0m \u001b[0mint\u001b[0m\u001b[0;34m(\u001b[0m\u001b[0mos\u001b[0m\u001b[0;34m.\u001b[0m\u001b[0mgetenv\u001b[0m\u001b[0;34m(\u001b[0m\u001b[0;34m\"ECF_PORT\"\u001b[0m\u001b[0;34m,\u001b[0m \u001b[0;34m\"%d\"\u001b[0m \u001b[0;34m%\u001b[0m \u001b[0;34m(\u001b[0m\u001b[0;36m1500\u001b[0m \u001b[0;34m+\u001b[0m \u001b[0mos\u001b[0m\u001b[0;34m.\u001b[0m\u001b[0mgetuid\u001b[0m\u001b[0;34m(\u001b[0m\u001b[0;34m)\u001b[0m\u001b[0;34m)\u001b[0m\u001b[0;34m)\u001b[0m\u001b[0;34m)\u001b[0m\u001b[0;34m\u001b[0m\n",
       "\u001b[0;34m\u001b[0m    \u001b[0mCLIENT\u001b[0m \u001b[0;34m=\u001b[0m \u001b[0mecflow\u001b[0m\u001b[0;34m.\u001b[0m\u001b[0mClient\u001b[0m\u001b[0;34m(\u001b[0m\u001b[0mHOST\u001b[0m\u001b[0;34m,\u001b[0m \u001b[0mPORT\u001b[0m\u001b[0;34m)\u001b[0m\u001b[0;34m\u001b[0m\n",
       "\u001b[0;34m\u001b[0m\u001b[0;34m\u001b[0m\n",
       "\u001b[0;34m\u001b[0m    \u001b[0mNODE\u001b[0m \u001b[0;34m=\u001b[0m \u001b[0;34m\"/\"\u001b[0m \u001b[0;34m+\u001b[0m \u001b[0mNAME\u001b[0m  \u001b[0;31m# this might be a family, a task path\u001b[0m\u001b[0;34m\u001b[0m\n",
       "\u001b[0;34m\u001b[0m    \u001b[0mCLIENT\u001b[0m\u001b[0;34m.\u001b[0m\u001b[0mreplace\u001b[0m\u001b[0;34m(\u001b[0m\u001b[0mNODE\u001b[0m\u001b[0;34m,\u001b[0m \u001b[0mDEFS\u001b[0m\u001b[0;34m)\u001b[0m\u001b[0;34m\u001b[0m\n",
       "\u001b[0;34m\u001b[0m    \u001b[0mprint\u001b[0m\u001b[0;34m(\u001b[0m\u001b[0;34m\"replaced node %s into\"\u001b[0m \u001b[0;34m%\u001b[0m \u001b[0mNODE\u001b[0m\u001b[0;34m,\u001b[0m \u001b[0mHOST\u001b[0m\u001b[0;34m,\u001b[0m \u001b[0mPORT\u001b[0m\u001b[0;34m)\u001b[0m\u001b[0;34m\u001b[0m\u001b[0;34m\u001b[0m\u001b[0m\n"
      ]
     },
     "metadata": {},
     "output_type": "display_data"
    }
   ],
   "source": [
    "%pycat src/el23_add_variable.py"
   ]
  },
  {
   "cell_type": "markdown",
   "metadata": {
    "slideshow": {
     "slide_type": "slide"
    }
   },
   "source": [
    "## Add Trigger"
   ]
  },
  {
   "cell_type": "markdown",
   "metadata": {},
   "source": [
    "The Trigger attribute will prevent the task to run until its expression is true.\n",
    "\n",
    "The expression may contain reference to other nodes for their status, it may reference variables, events, meters, limits.\n",
    "\n",
    "It is possible to inhibit triggers in a suite setting \"ecf.USE_TRIGGER=False\", when we design a suite, and few trigger expression refer to \"missing\" nodes."
   ]
  },
  {
   "cell_type": "code",
   "execution_count": 31,
   "metadata": {},
   "outputs": [
    {
     "name": "stdout",
     "output_type": "stream",
     "text": [
      "replaced node /elearning/f1 into localhost 2500\n"
     ]
    }
   ],
   "source": [
    "%run src/el24_add_trigger.py"
   ]
  },
  {
   "cell_type": "code",
   "execution_count": 32,
   "metadata": {},
   "outputs": [],
   "source": [
    "%pycat src/el24_add_trigger.py"
   ]
  },
  {
   "cell_type": "markdown",
   "metadata": {},
   "source": [
    "## Add Complete"
   ]
  },
  {
   "cell_type": "markdown",
   "metadata": {},
   "source": [
    "The Complete attribute is the counterpart of trigger. It will set the task complete as soon as the expresssion is true, so that the job may not have to run."
   ]
  },
  {
   "cell_type": "code",
   "execution_count": 33,
   "metadata": {},
   "outputs": [
    {
     "name": "stdout",
     "output_type": "stream",
     "text": [
      "replaced node /elearning into localhost 2500\n"
     ]
    }
   ],
   "source": [
    "%run src/el26_add_complete.py"
   ]
  },
  {
   "cell_type": "code",
   "execution_count": 30,
   "metadata": {},
   "outputs": [
    {
     "data": {
      "text/plain": [
       "\u001b[0;31m#!/usr/bin/env python\u001b[0m\u001b[0;34m\u001b[0m\n",
       "\u001b[0;34m\u001b[0m\u001b[0;32mfrom\u001b[0m \u001b[0m__future__\u001b[0m \u001b[0;32mimport\u001b[0m \u001b[0mprint_function\u001b[0m\u001b[0;34m\u001b[0m\n",
       "\u001b[0;34m\u001b[0m\u001b[0;32mimport\u001b[0m \u001b[0mos\u001b[0m\u001b[0;34m\u001b[0m\n",
       "\u001b[0;34m\u001b[0m\u001b[0;32mimport\u001b[0m \u001b[0mecf\u001b[0m \u001b[0;32mas\u001b[0m \u001b[0mecflow\u001b[0m\u001b[0;34m\u001b[0m\n",
       "\u001b[0;34m\u001b[0m\u001b[0;32mfrom\u001b[0m \u001b[0mecf\u001b[0m \u001b[0;32mimport\u001b[0m \u001b[0;34m(\u001b[0m\u001b[0mDefstatus\u001b[0m\u001b[0;34m,\u001b[0m \u001b[0mSuite\u001b[0m\u001b[0;34m,\u001b[0m \u001b[0mFamily\u001b[0m\u001b[0;34m,\u001b[0m \u001b[0mTask\u001b[0m\u001b[0;34m,\u001b[0m \u001b[0mVariables\u001b[0m\u001b[0;34m,\u001b[0m \u001b[0mTrigger\u001b[0m\u001b[0;34m,\u001b[0m \u001b[0mEvent\u001b[0m\u001b[0;34m,\u001b[0m\u001b[0;34m\u001b[0m\n",
       "\u001b[0;34m\u001b[0m                 \u001b[0mComplete\u001b[0m\u001b[0;34m)\u001b[0m\u001b[0;34m\u001b[0m\n",
       "\u001b[0;34m\u001b[0m\u001b[0mECF_HOME\u001b[0m \u001b[0;34m=\u001b[0m \u001b[0mos\u001b[0m\u001b[0;34m.\u001b[0m\u001b[0mpath\u001b[0m\u001b[0;34m.\u001b[0m\u001b[0mjoin\u001b[0m\u001b[0;34m(\u001b[0m\u001b[0mos\u001b[0m\u001b[0;34m.\u001b[0m\u001b[0mgetenv\u001b[0m\u001b[0;34m(\u001b[0m\u001b[0;34m\"HOME\"\u001b[0m\u001b[0;34m)\u001b[0m\u001b[0;34m,\u001b[0m \u001b[0;34m\"ecflow_server\"\u001b[0m\u001b[0;34m)\u001b[0m\u001b[0;34m\u001b[0m\n",
       "\u001b[0;34m\u001b[0m\u001b[0mNAME\u001b[0m \u001b[0;34m=\u001b[0m \u001b[0mos\u001b[0m\u001b[0;34m.\u001b[0m\u001b[0mgetenv\u001b[0m\u001b[0;34m(\u001b[0m\u001b[0;34m\"SUITE\"\u001b[0m\u001b[0;34m,\u001b[0m \u001b[0;34m\"elearning\"\u001b[0m\u001b[0;34m)\u001b[0m\u001b[0;34m\u001b[0m\n",
       "\u001b[0;34m\u001b[0m\u001b[0mDEFS\u001b[0m \u001b[0;34m=\u001b[0m \u001b[0mecflow\u001b[0m\u001b[0;34m.\u001b[0m\u001b[0mDefs\u001b[0m\u001b[0;34m(\u001b[0m\u001b[0;34m)\u001b[0m\u001b[0;34m\u001b[0m\n",
       "\u001b[0;34m\u001b[0m\u001b[0mDEFS\u001b[0m\u001b[0;34m.\u001b[0m\u001b[0madd\u001b[0m\u001b[0;34m(\u001b[0m  \u001b[0;31m# suite definition\u001b[0m\u001b[0;34m\u001b[0m\n",
       "\u001b[0;34m\u001b[0m    \u001b[0mSuite\u001b[0m\u001b[0;34m(\u001b[0m\u001b[0mNAME\u001b[0m\u001b[0;34m)\u001b[0m\u001b[0;34m.\u001b[0m\u001b[0madd\u001b[0m\u001b[0;34m(\u001b[0m\u001b[0;34m\u001b[0m\n",
       "\u001b[0;34m\u001b[0m        \u001b[0mDefstatus\u001b[0m\u001b[0;34m(\u001b[0m\u001b[0;34m\"suspended\"\u001b[0m\u001b[0;34m)\u001b[0m\u001b[0;34m,\u001b[0m  \u001b[0;31m# so that jobs do not start immediately\u001b[0m\u001b[0;34m\u001b[0m\n",
       "\u001b[0;34m\u001b[0m        \u001b[0mVariables\u001b[0m\u001b[0;34m(\u001b[0m  \u001b[0;31m# add multiple variables at once:\u001b[0m\u001b[0;34m\u001b[0m\n",
       "\u001b[0;34m\u001b[0m            \u001b[0mECF_HOME\u001b[0m\u001b[0;34m=\u001b[0m\u001b[0mECF_HOME\u001b[0m\u001b[0;34m,\u001b[0m  \u001b[0;31m# where job files are created by ecflow\u001b[0m\u001b[0;34m\u001b[0m\n",
       "\u001b[0;34m\u001b[0m            \u001b[0mECF_FILES\u001b[0m\u001b[0;34m=\u001b[0m\u001b[0mECF_HOME\u001b[0m \u001b[0;34m+\u001b[0m \u001b[0;34m\"/files\"\u001b[0m\u001b[0;34m,\u001b[0m     \u001b[0;31m# where to find script template\u001b[0m\u001b[0;34m\u001b[0m\n",
       "\u001b[0;34m\u001b[0m            \u001b[0mECF_INCLUDE\u001b[0m\u001b[0;34m=\u001b[0m\u001b[0mECF_HOME\u001b[0m \u001b[0;34m+\u001b[0m \u001b[0;34m\"/include\"\u001b[0m\u001b[0;34m,\u001b[0m  \u001b[0;31m# where to find head.h tail.h\u001b[0m\u001b[0;34m\u001b[0m\n",
       "\u001b[0;34m\u001b[0m            \u001b[0mSLEEP\u001b[0m\u001b[0;34m=\u001b[0m\u001b[0;36m5\u001b[0m\u001b[0;34m)\u001b[0m\u001b[0;34m,\u001b[0m\u001b[0;34m\u001b[0m\n",
       "\u001b[0;34m\u001b[0m        \u001b[0mFamily\u001b[0m\u001b[0;34m(\u001b[0m\u001b[0;34m\"f1\"\u001b[0m\u001b[0;34m)\u001b[0m\u001b[0;34m.\u001b[0m\u001b[0madd\u001b[0m\u001b[0;34m(\u001b[0m\u001b[0;34m\u001b[0m\n",
       "\u001b[0;34m\u001b[0m            \u001b[0mTask\u001b[0m\u001b[0;34m(\u001b[0m\u001b[0;34m\"t1\"\u001b[0m\u001b[0;34m)\u001b[0m\u001b[0;34m,\u001b[0m\u001b[0;34m\u001b[0m\n",
       "\u001b[0;34m\u001b[0m            \u001b[0mTask\u001b[0m\u001b[0;34m(\u001b[0m\u001b[0;34m\"t2\"\u001b[0m\u001b[0;34m)\u001b[0m\u001b[0;34m.\u001b[0m\u001b[0madd\u001b[0m\u001b[0;34m(\u001b[0m\u001b[0;34m\u001b[0m\n",
       "\u001b[0;34m\u001b[0m                \u001b[0mTrigger\u001b[0m\u001b[0;34m(\u001b[0m\u001b[0;34m\"t1 eq complete\"\u001b[0m\u001b[0;34m)\u001b[0m\u001b[0;34m,\u001b[0m\u001b[0;34m\u001b[0m\n",
       "\u001b[0;34m\u001b[0m                \u001b[0mEvent\u001b[0m\u001b[0;34m(\u001b[0m\u001b[0;34m\"a\"\u001b[0m\u001b[0;34m)\u001b[0m\u001b[0;34m,\u001b[0m\u001b[0;34m\u001b[0m\n",
       "\u001b[0;34m\u001b[0m                \u001b[0mEvent\u001b[0m\u001b[0;34m(\u001b[0m\u001b[0;34m\"1\"\u001b[0m\u001b[0;34m)\u001b[0m\u001b[0;34m)\u001b[0m\u001b[0;34m,\u001b[0m\u001b[0;34m\u001b[0m\n",
       "\u001b[0;34m\u001b[0m            \u001b[0mTask\u001b[0m\u001b[0;34m(\u001b[0m\u001b[0;34m\"t3\"\u001b[0m\u001b[0;34m)\u001b[0m\u001b[0;34m.\u001b[0m\u001b[0madd\u001b[0m\u001b[0;34m(\u001b[0m\u001b[0;34m\u001b[0m\n",
       "\u001b[0;34m\u001b[0m                \u001b[0mTrigger\u001b[0m\u001b[0;34m(\u001b[0m\u001b[0;34m\"t2:a\"\u001b[0m\u001b[0;34m)\u001b[0m\u001b[0;34m)\u001b[0m\u001b[0;34m,\u001b[0m\u001b[0;34m\u001b[0m\n",
       "\u001b[0;34m\u001b[0m            \u001b[0mTask\u001b[0m\u001b[0;34m(\u001b[0m\u001b[0;34m\"t4\"\u001b[0m\u001b[0;34m)\u001b[0m\u001b[0;34m.\u001b[0m\u001b[0madd\u001b[0m\u001b[0;34m(\u001b[0m\u001b[0;34m\u001b[0m\n",
       "\u001b[0;34m\u001b[0m                \u001b[0mComplete\u001b[0m\u001b[0;34m(\u001b[0m\u001b[0;34m\"t2:1\"\u001b[0m\u001b[0;34m)\u001b[0m\u001b[0;34m,\u001b[0m\u001b[0;34m\u001b[0m\n",
       "\u001b[0;34m\u001b[0m                \u001b[0mTrigger\u001b[0m\u001b[0;34m(\u001b[0m\u001b[0;34m\"t2 eq complete\"\u001b[0m\u001b[0;34m)\u001b[0m\u001b[0;34m,\u001b[0m\u001b[0;34m\u001b[0m\n",
       "\u001b[0;34m\u001b[0m            \u001b[0;34m)\u001b[0m\u001b[0;34m)\u001b[0m\u001b[0;34m)\u001b[0m\u001b[0;34m)\u001b[0m\u001b[0;34m\u001b[0m\n",
       "\u001b[0;34m\u001b[0m\u001b[0;34m\u001b[0m\n",
       "\u001b[0;34m\u001b[0m\u001b[0;32mif\u001b[0m \u001b[0m__name__\u001b[0m \u001b[0;34m==\u001b[0m \u001b[0;34m'__main__'\u001b[0m\u001b[0;34m:\u001b[0m\u001b[0;34m\u001b[0m\n",
       "\u001b[0;34m\u001b[0m    \u001b[0mHOST\u001b[0m \u001b[0;34m=\u001b[0m \u001b[0mos\u001b[0m\u001b[0;34m.\u001b[0m\u001b[0mgetenv\u001b[0m\u001b[0;34m(\u001b[0m\u001b[0;34m\"ECF_HOST\"\u001b[0m\u001b[0;34m,\u001b[0m \u001b[0;34m\"localhost\"\u001b[0m\u001b[0;34m)\u001b[0m\u001b[0;34m\u001b[0m\n",
       "\u001b[0;34m\u001b[0m    \u001b[0mPORT\u001b[0m \u001b[0;34m=\u001b[0m \u001b[0mint\u001b[0m\u001b[0;34m(\u001b[0m\u001b[0mos\u001b[0m\u001b[0;34m.\u001b[0m\u001b[0mgetenv\u001b[0m\u001b[0;34m(\u001b[0m\u001b[0;34m\"ECF_PORT\"\u001b[0m\u001b[0;34m,\u001b[0m \u001b[0;34m\"%d\"\u001b[0m \u001b[0;34m%\u001b[0m \u001b[0;34m(\u001b[0m\u001b[0;36m1500\u001b[0m \u001b[0;34m+\u001b[0m \u001b[0mos\u001b[0m\u001b[0;34m.\u001b[0m\u001b[0mgetuid\u001b[0m\u001b[0;34m(\u001b[0m\u001b[0;34m)\u001b[0m\u001b[0;34m)\u001b[0m\u001b[0;34m)\u001b[0m\u001b[0;34m)\u001b[0m\u001b[0;34m\u001b[0m\n",
       "\u001b[0;34m\u001b[0m    \u001b[0mCLIENT\u001b[0m \u001b[0;34m=\u001b[0m \u001b[0mecflow\u001b[0m\u001b[0;34m.\u001b[0m\u001b[0mClient\u001b[0m\u001b[0;34m(\u001b[0m\u001b[0mHOST\u001b[0m\u001b[0;34m,\u001b[0m \u001b[0mPORT\u001b[0m\u001b[0;34m)\u001b[0m\u001b[0;34m\u001b[0m\n",
       "\u001b[0;34m\u001b[0m    \u001b[0mNODE\u001b[0m \u001b[0;34m=\u001b[0m \u001b[0;34m\"/\"\u001b[0m \u001b[0;34m+\u001b[0m \u001b[0mNAME\u001b[0m  \u001b[0;31m# replace top\u001b[0m\u001b[0;34m\u001b[0m\n",
       "\u001b[0;34m\u001b[0m    \u001b[0mCLIENT\u001b[0m\u001b[0;34m.\u001b[0m\u001b[0mreplace\u001b[0m\u001b[0;34m(\u001b[0m\u001b[0mNODE\u001b[0m\u001b[0;34m,\u001b[0m \u001b[0mDEFS\u001b[0m\u001b[0;34m)\u001b[0m\u001b[0;34m\u001b[0m\n",
       "\u001b[0;34m\u001b[0m    \u001b[0mprint\u001b[0m\u001b[0;34m(\u001b[0m\u001b[0;34m\"replaced node %s into\"\u001b[0m \u001b[0;34m%\u001b[0m \u001b[0mNODE\u001b[0m\u001b[0;34m,\u001b[0m \u001b[0mHOST\u001b[0m\u001b[0;34m,\u001b[0m \u001b[0mPORT\u001b[0m\u001b[0;34m)\u001b[0m\u001b[0;34m\u001b[0m\u001b[0;34m\u001b[0m\u001b[0m\n"
      ]
     },
     "metadata": {},
     "output_type": "display_data"
    }
   ],
   "source": [
    "%pycat src/el26_add_complete.py"
   ]
  },
  {
   "cell_type": "markdown",
   "metadata": {
    "slideshow": {
     "slide_type": "slide"
    }
   },
   "source": [
    "## Add Event"
   ]
  },
  {
   "cell_type": "markdown",
   "metadata": {},
   "source": [
    "The event is created as an attribute attached to a node (Task, Family) and updated (set) \n",
    "- by the job calling the \"ecflow_client --event\" command\n",
    "- or a user, using the command \"ecflow_client --alter change event\""
   ]
  },
  {
   "cell_type": "code",
   "execution_count": 34,
   "metadata": {},
   "outputs": [
    {
     "name": "stdout",
     "output_type": "stream",
     "text": [
      "replaced node /elearning into localhost 2500\n"
     ]
    }
   ],
   "source": [
    "%run src/el27_add_event.py"
   ]
  },
  {
   "cell_type": "code",
   "execution_count": 35,
   "metadata": {},
   "outputs": [],
   "source": [
    "%pycat src/el27_add_event.py"
   ]
  },
  {
   "cell_type": "markdown",
   "metadata": {
    "slideshow": {
     "slide_type": "slide"
    }
   },
   "source": [
    "## Add Meter"
   ]
  },
  {
   "cell_type": "markdown",
   "metadata": {},
   "source": [
    "The Meter attribute is attached to a Task (or a Family) so that the job (or client) can update its integer value."
   ]
  },
  {
   "cell_type": "code",
   "execution_count": 36,
   "metadata": {},
   "outputs": [
    {
     "name": "stdout",
     "output_type": "stream",
     "text": [
      "<_io.TextIOWrapper name='/home/map/ecflow_server/files/t1.ecf' mode='w' encoding='UTF-8'>\n",
      "<_io.TextIOWrapper name='/home/map/ecflow_server/files/t2.ecf' mode='w' encoding='UTF-8'>\n",
      "<_io.TextIOWrapper name='/home/map/ecflow_server/files/t3.ecf' mode='w' encoding='UTF-8'>\n",
      "<_io.TextIOWrapper name='/home/map/ecflow_server/files/t4.ecf' mode='w' encoding='UTF-8'>\n",
      "<_io.TextIOWrapper name='/home/map/ecflow_server/files/t5.ecf' mode='w' encoding='UTF-8'>\n",
      "<_io.TextIOWrapper name='/home/map/ecflow_server/files/t6.ecf' mode='w' encoding='UTF-8'>\n",
      "<_io.TextIOWrapper name='/home/map/ecflow_server/files/t7.ecf' mode='w' encoding='UTF-8'>\n",
      "replaced node /elearning/f2 into localhost 2500\n"
     ]
    }
   ],
   "source": [
    "%run src/el28_add_meter.py"
   ]
  },
  {
   "cell_type": "markdown",
   "metadata": {
    "slideshow": {
     "slide_type": "slide"
    }
   },
   "source": [
    "## Add Date and Time"
   ]
  },
  {
   "cell_type": "markdown",
   "metadata": {},
   "source": [
    "The Date attribute holds the job to run until the date is achieved. \n",
    "\n",
    "A Time attribute prevents the job to be submitted immediately. It can be one value (ex 10:00), or a range of time (with an interval, ). Multiple Time attributes can be attached to the same node. Be careful, that, until the last occurence is met, the task is immediately requeued, so that there should not be any trigger referring to the task complete...\n",
    "\n",
    "When Date and Time are associated, Date holds first, then the Task wait for the Time to start.\n",
    "\n",
    "When a parent node is **suspended**, it is not enough for a date or time condition to fall. Yet the task will not start until the suspended node is **resumed**. Some may say these attribute have memory. the **why** command/Panel will show when the next expected task occurence is. The **requeue** command will 'restore consumed token' when the task was **executed** (forced to run) manually with the GUI.\n",
    "\n",
    "We can attach these attributes to a dummy task and refer to it with a trigger in many cases. That way the task, without time dependency directly attached, can be requeued, without reactivating the time condition."
   ]
  },
  {
   "cell_type": "code",
   "execution_count": 37,
   "metadata": {},
   "outputs": [
    {
     "name": "stdout",
     "output_type": "stream",
     "text": [
      "replaced node /elearning into localhost 2500\n"
     ]
    }
   ],
   "source": [
    "%run src/el29_add_time_date.py"
   ]
  },
  {
   "cell_type": "code",
   "execution_count": 38,
   "metadata": {},
   "outputs": [],
   "source": [
    "%pycat src/el29_add_time_date.py"
   ]
  },
  {
   "cell_type": "markdown",
   "metadata": {
    "slideshow": {
     "slide_type": "slide"
    }
   },
   "source": [
    "## Add Label"
   ]
  },
  {
   "cell_type": "markdown",
   "metadata": {},
   "source": [
    "A label is a text message attached to the task (or Family) which is updated by the task (or client)."
   ]
  },
  {
   "cell_type": "code",
   "execution_count": 39,
   "metadata": {},
   "outputs": [
    {
     "name": "stdout",
     "output_type": "stream",
     "text": [
      "replaced node /elearning into localhost 2500\n"
     ]
    }
   ],
   "source": [
    "%run src/el30_add_label.py"
   ]
  },
  {
   "cell_type": "code",
   "execution_count": 37,
   "metadata": {},
   "outputs": [
    {
     "data": {
      "text/plain": [
       "\u001b[0;31m#!/usr/bin/env python\u001b[0m\u001b[0;34m\u001b[0m\n",
       "\u001b[0;34m\u001b[0m\u001b[0;32mfrom\u001b[0m \u001b[0m__future__\u001b[0m \u001b[0;32mimport\u001b[0m \u001b[0mprint_function\u001b[0m\u001b[0;34m\u001b[0m\n",
       "\u001b[0;34m\u001b[0m\u001b[0;32mimport\u001b[0m \u001b[0mos\u001b[0m\u001b[0;34m\u001b[0m\n",
       "\u001b[0;34m\u001b[0m\u001b[0;32mimport\u001b[0m \u001b[0mecf\u001b[0m \u001b[0;32mas\u001b[0m \u001b[0mecflow\u001b[0m\u001b[0;34m\u001b[0m\n",
       "\u001b[0;34m\u001b[0m\u001b[0;32mfrom\u001b[0m \u001b[0mecf\u001b[0m \u001b[0;32mimport\u001b[0m \u001b[0;34m(\u001b[0m\u001b[0mDefstatus\u001b[0m\u001b[0;34m,\u001b[0m \u001b[0mSuite\u001b[0m\u001b[0;34m,\u001b[0m \u001b[0mFamily\u001b[0m\u001b[0;34m,\u001b[0m \u001b[0mTask\u001b[0m\u001b[0;34m,\u001b[0m \u001b[0mVariables\u001b[0m\u001b[0;34m,\u001b[0m \u001b[0mLabel\u001b[0m\u001b[0;34m,\u001b[0m \u001b[0mMeter\u001b[0m\u001b[0;34m)\u001b[0m\u001b[0;34m\u001b[0m\n",
       "\u001b[0;34m\u001b[0m\u001b[0mECF_HOME\u001b[0m \u001b[0;34m=\u001b[0m \u001b[0mos\u001b[0m\u001b[0;34m.\u001b[0m\u001b[0mpath\u001b[0m\u001b[0;34m.\u001b[0m\u001b[0mjoin\u001b[0m\u001b[0;34m(\u001b[0m\u001b[0mos\u001b[0m\u001b[0;34m.\u001b[0m\u001b[0mgetenv\u001b[0m\u001b[0;34m(\u001b[0m\u001b[0;34m\"HOME\"\u001b[0m\u001b[0;34m)\u001b[0m\u001b[0;34m,\u001b[0m \u001b[0;34m\"ecflow_server\"\u001b[0m\u001b[0;34m)\u001b[0m\u001b[0;34m\u001b[0m\n",
       "\u001b[0;34m\u001b[0m\u001b[0mECF_INCLUDE\u001b[0m \u001b[0;34m=\u001b[0m \u001b[0mECF_HOME\u001b[0m \u001b[0;34m+\u001b[0m \u001b[0;34m\"/include\"\u001b[0m\u001b[0;34m\u001b[0m\n",
       "\u001b[0;34m\u001b[0m\u001b[0mNAME\u001b[0m \u001b[0;34m=\u001b[0m \u001b[0mos\u001b[0m\u001b[0;34m.\u001b[0m\u001b[0mgetenv\u001b[0m\u001b[0;34m(\u001b[0m\u001b[0;34m\"SUITE\"\u001b[0m\u001b[0;34m,\u001b[0m \u001b[0;34m\"elearning\"\u001b[0m\u001b[0;34m)\u001b[0m\u001b[0;34m\u001b[0m\n",
       "\u001b[0;34m\u001b[0m\u001b[0mDEFS\u001b[0m \u001b[0;34m=\u001b[0m \u001b[0mecflow\u001b[0m\u001b[0;34m.\u001b[0m\u001b[0mDefs\u001b[0m\u001b[0;34m(\u001b[0m\u001b[0;34m)\u001b[0m\u001b[0;34m\u001b[0m\n",
       "\u001b[0;34m\u001b[0m\u001b[0mDEFS\u001b[0m\u001b[0;34m.\u001b[0m\u001b[0madd\u001b[0m\u001b[0;34m(\u001b[0m  \u001b[0;31m# suite definition\u001b[0m\u001b[0;34m\u001b[0m\n",
       "\u001b[0;34m\u001b[0m    \u001b[0mSuite\u001b[0m\u001b[0;34m(\u001b[0m\u001b[0mNAME\u001b[0m\u001b[0;34m)\u001b[0m\u001b[0;34m.\u001b[0m\u001b[0madd\u001b[0m\u001b[0;34m(\u001b[0m\u001b[0;34m\u001b[0m\n",
       "\u001b[0;34m\u001b[0m        \u001b[0mDefstatus\u001b[0m\u001b[0;34m(\u001b[0m\u001b[0;34m\"suspended\"\u001b[0m\u001b[0;34m)\u001b[0m\u001b[0;34m,\u001b[0m  \u001b[0;31m# so that jobs do not start immediately\u001b[0m\u001b[0;34m\u001b[0m\n",
       "\u001b[0;34m\u001b[0m        \u001b[0mVariables\u001b[0m\u001b[0;34m(\u001b[0m  \u001b[0;31m# we can add multiple variables at once\u001b[0m\u001b[0;34m\u001b[0m\n",
       "\u001b[0;34m\u001b[0m            \u001b[0mECF_HOME\u001b[0m\u001b[0;34m=\u001b[0m\u001b[0mECF_HOME\u001b[0m\u001b[0;34m,\u001b[0m  \u001b[0;31m# where job files are created by ecflow\u001b[0m\u001b[0;34m\u001b[0m\n",
       "\u001b[0;34m\u001b[0m            \u001b[0mECF_FILES\u001b[0m\u001b[0;34m=\u001b[0m\u001b[0mECF_HOME\u001b[0m \u001b[0;34m+\u001b[0m \u001b[0;34m\"/files\"\u001b[0m\u001b[0;34m,\u001b[0m  \u001b[0;31m# where to find script template\u001b[0m\u001b[0;34m\u001b[0m\n",
       "\u001b[0;34m\u001b[0m            \u001b[0mECF_INCLUDE\u001b[0m\u001b[0;34m=\u001b[0m\u001b[0mECF_INCLUDE\u001b[0m\u001b[0;34m,\u001b[0m  \u001b[0;31m# where to find head.h tail.h\u001b[0m\u001b[0;34m\u001b[0m\n",
       "\u001b[0;34m\u001b[0m            \u001b[0mSLEEP\u001b[0m\u001b[0;34m=\u001b[0m\u001b[0;36m2\u001b[0m\u001b[0;34m,\u001b[0m \u001b[0;34m)\u001b[0m\u001b[0;34m,\u001b[0m\u001b[0;34m\u001b[0m\n",
       "\u001b[0;34m\u001b[0m        \u001b[0mFamily\u001b[0m\u001b[0;34m(\u001b[0m\u001b[0;34m\"f3\"\u001b[0m\u001b[0;34m)\u001b[0m\u001b[0;34m.\u001b[0m\u001b[0madd\u001b[0m\u001b[0;34m(\u001b[0m\u001b[0;34m\u001b[0m\n",
       "\u001b[0;34m\u001b[0m            \u001b[0mTask\u001b[0m\u001b[0;34m(\u001b[0m\u001b[0;34m\"t1\"\u001b[0m\u001b[0;34m)\u001b[0m\u001b[0;34m.\u001b[0m\u001b[0madd\u001b[0m\u001b[0;34m(\u001b[0m\u001b[0;34m\u001b[0m\n",
       "\u001b[0;34m\u001b[0m                \u001b[0mLabel\u001b[0m\u001b[0;34m(\u001b[0m\u001b[0;34m\"info\"\u001b[0m\u001b[0;34m,\u001b[0m \u001b[0;34m\"none\"\u001b[0m\u001b[0;34m)\u001b[0m\u001b[0;34m,\u001b[0m\u001b[0;34m\u001b[0m\n",
       "\u001b[0;34m\u001b[0m                \u001b[0mMeter\u001b[0m\u001b[0;34m(\u001b[0m\u001b[0;34m\"step\"\u001b[0m\u001b[0;34m,\u001b[0m \u001b[0;34m-\u001b[0m\u001b[0;36m1\u001b[0m\u001b[0;34m,\u001b[0m \u001b[0;36m240\u001b[0m\u001b[0;34m)\u001b[0m\u001b[0;34m)\u001b[0m\u001b[0;34m)\u001b[0m\u001b[0;34m)\u001b[0m\u001b[0;34m)\u001b[0m\u001b[0;34m\u001b[0m\n",
       "\u001b[0;34m\u001b[0m\u001b[0;34m\u001b[0m\n",
       "\u001b[0;34m\u001b[0m\u001b[0mSCRIPT_TEMPLATE\u001b[0m \u001b[0;34m=\u001b[0m \u001b[0;34m\"\"\"#!/bin/bash\u001b[0m\n",
       "\u001b[0;34m%include <head.h>\u001b[0m\n",
       "\u001b[0;34mSTEP=0\u001b[0m\n",
       "\u001b[0;34mwhile [[ $STEP -le 240 ]] ; do\u001b[0m\n",
       "\u001b[0;34m  sleep %SLEEP:1%; ecflow_client --meter step $STEP  # share progress\u001b[0m\n",
       "\u001b[0;34m  msg=\"The date is now $(date)\"\u001b[0m\n",
       "\u001b[0;34m  ecflow_client --label info \"$msg\"\u001b[0m\n",
       "\u001b[0;34m  (( STEP = STEP + 1))\u001b[0m\n",
       "\u001b[0;34mdone\u001b[0m\n",
       "\u001b[0;34mecflow_client --label info \"job's done\"\u001b[0m\n",
       "\u001b[0;34m%include <tail.h>\u001b[0m\n",
       "\u001b[0;34m\"\"\"\u001b[0m\u001b[0;34m\u001b[0m\n",
       "\u001b[0;34m\u001b[0m\u001b[0;34m\u001b[0m\n",
       "\u001b[0;34m\u001b[0m\u001b[0;32mif\u001b[0m \u001b[0m__name__\u001b[0m \u001b[0;34m==\u001b[0m \u001b[0;34m'__main__'\u001b[0m\u001b[0;34m:\u001b[0m\u001b[0;34m\u001b[0m\n",
       "\u001b[0;34m\u001b[0m    \u001b[0;32mfor\u001b[0m \u001b[0mtask\u001b[0m \u001b[0;32min\u001b[0m \u001b[0;34m(\u001b[0m\u001b[0;34m\"t1\"\u001b[0m\u001b[0;34m,\u001b[0m \u001b[0;34m\"t5\"\u001b[0m\u001b[0;34m,\u001b[0m \u001b[0;34m\"t6\"\u001b[0m\u001b[0;34m,\u001b[0m \u001b[0;34m\"t7\"\u001b[0m\u001b[0;34m)\u001b[0m\u001b[0;34m:\u001b[0m  \u001b[0;31m# replace all script templates\u001b[0m\u001b[0;34m\u001b[0m\n",
       "\u001b[0;34m\u001b[0m        \u001b[0;32mwith\u001b[0m \u001b[0mopen\u001b[0m\u001b[0;34m(\u001b[0m\u001b[0mECF_HOME\u001b[0m \u001b[0;34m+\u001b[0m \u001b[0;34m\"/files/%s.ecf\"\u001b[0m \u001b[0;34m%\u001b[0m \u001b[0mtask\u001b[0m\u001b[0;34m,\u001b[0m \u001b[0;34m\"w\"\u001b[0m\u001b[0;34m)\u001b[0m \u001b[0;32mas\u001b[0m \u001b[0mt\u001b[0m\u001b[0;34m:\u001b[0m\u001b[0;34m\u001b[0m\n",
       "\u001b[0;34m\u001b[0m            \u001b[0mprint\u001b[0m\u001b[0;34m(\u001b[0m\u001b[0mSCRIPT_TEMPLATE\u001b[0m\u001b[0;34m,\u001b[0m \u001b[0mfile\u001b[0m\u001b[0;34m=\u001b[0m\u001b[0mt\u001b[0m\u001b[0;34m)\u001b[0m\u001b[0;34m\u001b[0m\n",
       "\u001b[0;34m\u001b[0m    \u001b[0mHOST\u001b[0m \u001b[0;34m=\u001b[0m \u001b[0mos\u001b[0m\u001b[0;34m.\u001b[0m\u001b[0mgetenv\u001b[0m\u001b[0;34m(\u001b[0m\u001b[0;34m\"ECF_HOST\"\u001b[0m\u001b[0;34m,\u001b[0m \u001b[0;34m\"localhost\"\u001b[0m\u001b[0;34m)\u001b[0m\u001b[0;34m\u001b[0m\n",
       "\u001b[0;34m\u001b[0m    \u001b[0mPORT\u001b[0m \u001b[0;34m=\u001b[0m \u001b[0mint\u001b[0m\u001b[0;34m(\u001b[0m\u001b[0mos\u001b[0m\u001b[0;34m.\u001b[0m\u001b[0mgetenv\u001b[0m\u001b[0;34m(\u001b[0m\u001b[0;34m\"ECF_PORT\"\u001b[0m\u001b[0;34m,\u001b[0m \u001b[0;34m\"%d\"\u001b[0m \u001b[0;34m%\u001b[0m \u001b[0;34m(\u001b[0m\u001b[0;36m1500\u001b[0m \u001b[0;34m+\u001b[0m \u001b[0mos\u001b[0m\u001b[0;34m.\u001b[0m\u001b[0mgetuid\u001b[0m\u001b[0;34m(\u001b[0m\u001b[0;34m)\u001b[0m\u001b[0;34m)\u001b[0m\u001b[0;34m)\u001b[0m\u001b[0;34m)\u001b[0m\u001b[0;34m\u001b[0m\n",
       "\u001b[0;34m\u001b[0m    \u001b[0mCLIENT\u001b[0m \u001b[0;34m=\u001b[0m \u001b[0mecflow\u001b[0m\u001b[0;34m.\u001b[0m\u001b[0mClient\u001b[0m\u001b[0;34m(\u001b[0m\u001b[0mHOST\u001b[0m\u001b[0;34m,\u001b[0m \u001b[0mPORT\u001b[0m\u001b[0;34m)\u001b[0m\u001b[0;34m\u001b[0m\n",
       "\u001b[0;34m\u001b[0m\u001b[0;34m\u001b[0m\n",
       "\u001b[0;34m\u001b[0m    \u001b[0mNODE\u001b[0m \u001b[0;34m=\u001b[0m \u001b[0;34m\"/\"\u001b[0m \u001b[0;34m+\u001b[0m \u001b[0mNAME\u001b[0m  \u001b[0;31m# replace top\u001b[0m\u001b[0;34m\u001b[0m\n",
       "\u001b[0;34m\u001b[0m    \u001b[0mCLIENT\u001b[0m\u001b[0;34m.\u001b[0m\u001b[0mreplace\u001b[0m\u001b[0;34m(\u001b[0m\u001b[0mNODE\u001b[0m\u001b[0;34m,\u001b[0m \u001b[0mDEFS\u001b[0m\u001b[0;34m)\u001b[0m\u001b[0;34m\u001b[0m\n",
       "\u001b[0;34m\u001b[0m    \u001b[0mprint\u001b[0m\u001b[0;34m(\u001b[0m\u001b[0;34m\"replaced node %s into\"\u001b[0m \u001b[0;34m%\u001b[0m \u001b[0mNODE\u001b[0m\u001b[0;34m,\u001b[0m \u001b[0mHOST\u001b[0m\u001b[0;34m,\u001b[0m \u001b[0mPORT\u001b[0m\u001b[0;34m)\u001b[0m\u001b[0;34m\u001b[0m\u001b[0;34m\u001b[0m\u001b[0m\n"
      ]
     },
     "metadata": {},
     "output_type": "display_data"
    }
   ],
   "source": [
    "%pycat src/el30_add_label.py"
   ]
  },
  {
   "cell_type": "markdown",
   "metadata": {
    "slideshow": {
     "slide_type": "slide"
    }
   },
   "source": [
    "## Add Repeat"
   ]
  },
  {
   "cell_type": "markdown",
   "metadata": {},
   "source": [
    "A Repeat is like a (for) loop at suite level. It gets incremented to the next value, once all nodes below get complete. It is an **active** attribute in the sense that it causes the nodes below to be requeued (default status, event and meter reset) when the increment occurs."
   ]
  },
  {
   "cell_type": "code",
   "execution_count": 40,
   "metadata": {},
   "outputs": [
    {
     "name": "stdout",
     "output_type": "stream",
     "text": [
      "replaced node /elearning/f5 into localhost 2500\n"
     ]
    }
   ],
   "source": [
    "%run src/el31_add_repeat.py"
   ]
  },
  {
   "cell_type": "code",
   "execution_count": 41,
   "metadata": {},
   "outputs": [],
   "source": [
    "%pycat src/el31_add_repeat.py"
   ]
  },
  {
   "cell_type": "markdown",
   "metadata": {
    "slideshow": {
     "slide_type": "slide"
    }
   },
   "source": [
    "## Add Limit and Inlimit"
   ]
  },
  {
   "cell_type": "markdown",
   "metadata": {},
   "source": [
    "A limit may prevent jobs to be submitted immediately. It can represent a mutex (value 1) or a semaphore.\n",
    "\n",
    "The Inlimit attribute registers to a limit."
   ]
  },
  {
   "cell_type": "code",
   "execution_count": 42,
   "metadata": {},
   "outputs": [
    {
     "name": "stdout",
     "output_type": "stream",
     "text": [
      "replaced node /elearning/f5 into localhost 2500\n"
     ]
    }
   ],
   "source": [
    "%run src/el32_add_limit.py"
   ]
  },
  {
   "cell_type": "code",
   "execution_count": 43,
   "metadata": {},
   "outputs": [],
   "source": [
    "%pycat src/el32_add_limit.py"
   ]
  },
  {
   "cell_type": "markdown",
   "metadata": {
    "slideshow": {
     "slide_type": "slide"
    }
   },
   "source": [
    "## Add Limit Inlimit"
   ]
  },
  {
   "cell_type": "code",
   "execution_count": 44,
   "metadata": {},
   "outputs": [
    {
     "name": "stdout",
     "output_type": "stream",
     "text": [
      "replaced node /elearning/f5 into localhost 2500\n"
     ]
    }
   ],
   "source": [
    "%run src/el32_add_limit.py"
   ]
  },
  {
   "cell_type": "code",
   "execution_count": 45,
   "metadata": {},
   "outputs": [],
   "source": [
    "%pycat src/el32_add_limit.py"
   ]
  },
  {
   "cell_type": "markdown",
   "metadata": {},
   "source": [
    "## Add Late"
   ]
  },
  {
   "cell_type": "code",
   "execution_count": 45,
   "metadata": {},
   "outputs": [
    {
     "name": "stdout",
     "output_type": "stream",
     "text": [
      "replaced node /elearning/f5 into localhost 2500\n"
     ]
    }
   ],
   "source": [
    "%run src/el33_add_late.py"
   ]
  },
  {
   "cell_type": "markdown",
   "metadata": {},
   "source": [
    "Late is an attribute which may cause a poping window, to catch attention, when a job remains in submit, or active status for too long, or when complete is not reached in time. In order to really catch attention, some might prefer a **watchdog**, a dedicated task, which turns aborted, beyond a given threshold, or quietly becomes complete, thanks to a Time and Complete attribute."
   ]
  },
  {
   "cell_type": "markdown",
   "metadata": {
    "slideshow": {
     "slide_type": "slide"
    }
   },
   "source": [
    "## Debug a task with an Alias"
   ]
  },
  {
   "cell_type": "markdown",
   "metadata": {},
   "source": [
    "[alias](anim/ecflow_alias.mp4)"
   ]
  },
  {
   "cell_type": "markdown",
   "metadata": {
    "slideshow": {
     "slide_type": "slide"
    }
   },
   "source": [
    "# Exercises"
   ]
  },
  {
   "cell_type": "markdown",
   "metadata": {},
   "source": [
    "## Data Acquisition suite example"
   ]
  },
  {
   "cell_type": "code",
   "execution_count": 46,
   "metadata": {},
   "outputs": [],
   "source": [
    "%run src/el41_data_acquisition.py"
   ]
  },
  {
   "cell_type": "code",
   "execution_count": 50,
   "metadata": {},
   "outputs": [
    {
     "data": {
      "text/plain": [
       "\u001b[0;31m#!/usr/bin/env python\u001b[0m\u001b[0;34m\u001b[0m\n",
       "\u001b[0;34m\u001b[0m\u001b[0;34m\"\"\" data acquisition suite example \"\"\"\u001b[0m\u001b[0;34m\u001b[0m\n",
       "\u001b[0;34m\u001b[0m\u001b[0;32mfrom\u001b[0m \u001b[0m__future__\u001b[0m \u001b[0;32mimport\u001b[0m \u001b[0mprint_function\u001b[0m\u001b[0;34m\u001b[0m\n",
       "\u001b[0;34m\u001b[0m\u001b[0;32mimport\u001b[0m \u001b[0mos\u001b[0m\u001b[0;34m\u001b[0m\n",
       "\u001b[0;34m\u001b[0m\u001b[0;32mimport\u001b[0m \u001b[0mecf\u001b[0m \u001b[0;32mas\u001b[0m \u001b[0mecflow\u001b[0m\u001b[0;34m\u001b[0m\n",
       "\u001b[0;34m\u001b[0m\u001b[0;32mfrom\u001b[0m \u001b[0mecf\u001b[0m \u001b[0;32mimport\u001b[0m \u001b[0;34m(\u001b[0m\u001b[0mDate\u001b[0m\u001b[0;34m,\u001b[0m \u001b[0mDay\u001b[0m\u001b[0;34m,\u001b[0m \u001b[0mDefs\u001b[0m\u001b[0;34m,\u001b[0m \u001b[0mDefstatus\u001b[0m\u001b[0;34m,\u001b[0m \u001b[0mSuite\u001b[0m\u001b[0;34m,\u001b[0m \u001b[0mFamily\u001b[0m\u001b[0;34m,\u001b[0m \u001b[0mTask\u001b[0m\u001b[0;34m,\u001b[0m\u001b[0;34m\u001b[0m\n",
       "\u001b[0;34m\u001b[0m                 \u001b[0mIf\u001b[0m\u001b[0;34m,\u001b[0m  \u001b[0;31m# If attribute in use example\u001b[0m\u001b[0;34m\u001b[0m\n",
       "\u001b[0;34m\u001b[0m                 \u001b[0mEdit\u001b[0m\u001b[0;34m,\u001b[0m \u001b[0mLabel\u001b[0m\u001b[0;34m,\u001b[0m \u001b[0mRepeat\u001b[0m\u001b[0;34m,\u001b[0m \u001b[0mTime\u001b[0m\u001b[0;34m,\u001b[0m \u001b[0mTrigger\u001b[0m\u001b[0;34m)\u001b[0m\u001b[0;34m\u001b[0m\n",
       "\u001b[0;34m\u001b[0m\u001b[0mHOME\u001b[0m \u001b[0;34m=\u001b[0m \u001b[0mos\u001b[0m\u001b[0;34m.\u001b[0m\u001b[0mgetenv\u001b[0m\u001b[0;34m(\u001b[0m\u001b[0;34m\"HOME\"\u001b[0m\u001b[0;34m)\u001b[0m \u001b[0;34m+\u001b[0m \u001b[0;34m\"/ecflow_course\"\u001b[0m\u001b[0;34m;\u001b[0m \u001b[0mNAME\u001b[0m \u001b[0;34m=\u001b[0m \u001b[0;34m\"data_acquisition\"\u001b[0m\u001b[0;34m;\u001b[0m \u001b[0mDEFS\u001b[0m \u001b[0;34m=\u001b[0m \u001b[0mDefs\u001b[0m\u001b[0;34m(\u001b[0m\u001b[0;34m)\u001b[0m\u001b[0;34m\u001b[0m\n",
       "\u001b[0;34m\u001b[0m\u001b[0mDEFS\u001b[0m\u001b[0;34m.\u001b[0m\u001b[0madd\u001b[0m\u001b[0;34m(\u001b[0m\u001b[0mSuite\u001b[0m\u001b[0;34m(\u001b[0m\u001b[0mNAME\u001b[0m\u001b[0;34m)\u001b[0m\u001b[0;34m.\u001b[0m\u001b[0madd\u001b[0m\u001b[0;34m(\u001b[0m\u001b[0;34m\u001b[0m\n",
       "\u001b[0;34m\u001b[0m    \u001b[0mDefstatus\u001b[0m\u001b[0;34m(\u001b[0m\u001b[0;34m\"suspended\"\u001b[0m\u001b[0;34m)\u001b[0m\u001b[0;34m,\u001b[0m  \u001b[0;31m# so that jobs do not start immediately\u001b[0m\u001b[0;34m\u001b[0m\n",
       "\u001b[0;34m\u001b[0m    \u001b[0mRepeat\u001b[0m\u001b[0;34m(\u001b[0m\u001b[0mkind\u001b[0m\u001b[0;34m=\u001b[0m\u001b[0;34m\"day\"\u001b[0m\u001b[0;34m,\u001b[0m \u001b[0mstep\u001b[0m\u001b[0;34m=\u001b[0m\u001b[0;36m1\u001b[0m\u001b[0;34m)\u001b[0m\u001b[0;34m,\u001b[0m\u001b[0;34m\u001b[0m\n",
       "\u001b[0;34m\u001b[0m    \u001b[0mEdit\u001b[0m\u001b[0;34m(\u001b[0m\u001b[0mECF_HOME\u001b[0m\u001b[0;34m=\u001b[0m\u001b[0mHOME\u001b[0m\u001b[0;34m,\u001b[0m \u001b[0mECF_INCLUDE\u001b[0m\u001b[0;34m=\u001b[0m\u001b[0mHOME\u001b[0m\u001b[0;34m,\u001b[0m \u001b[0mECF_FILES\u001b[0m\u001b[0;34m=\u001b[0m\u001b[0mHOME\u001b[0m \u001b[0;34m+\u001b[0m \u001b[0;34m\"/acq\"\u001b[0m\u001b[0;34m,\u001b[0m \u001b[0mSLEEP\u001b[0m\u001b[0;34m=\u001b[0m\u001b[0;36m2\u001b[0m\u001b[0;34m)\u001b[0m\u001b[0;34m,\u001b[0m\u001b[0;34m\u001b[0m\n",
       "\u001b[0;34m\u001b[0m    \u001b[0;34m[\u001b[0m\u001b[0mFamily\u001b[0m\u001b[0;34m(\u001b[0m\u001b[0mcity\u001b[0m\u001b[0;34m)\u001b[0m\u001b[0;34m.\u001b[0m\u001b[0madd\u001b[0m\u001b[0;34m(\u001b[0m\u001b[0;34m\u001b[0m\n",
       "\u001b[0;34m\u001b[0m        \u001b[0mFamily\u001b[0m\u001b[0;34m(\u001b[0m\u001b[0;34m\"archive\"\u001b[0m\u001b[0;34m)\u001b[0m\u001b[0;34m.\u001b[0m\u001b[0madd\u001b[0m\u001b[0;34m(\u001b[0m\u001b[0;34m\u001b[0m\n",
       "\u001b[0;34m\u001b[0m            \u001b[0;34m[\u001b[0m\u001b[0mFamily\u001b[0m\u001b[0;34m(\u001b[0m\u001b[0mobs_type\u001b[0m\u001b[0;34m)\u001b[0m\u001b[0;34m.\u001b[0m\u001b[0madd\u001b[0m\u001b[0;34m(\u001b[0m\u001b[0;34m\u001b[0m\n",
       "\u001b[0;34m\u001b[0m                \u001b[0mIf\u001b[0m\u001b[0;34m(\u001b[0m\u001b[0mtest\u001b[0m\u001b[0;34m=\u001b[0m\u001b[0mcity\u001b[0m \u001b[0;32min\u001b[0m \u001b[0;34m(\u001b[0m\u001b[0;34m\"Exeter\"\u001b[0m\u001b[0;34m,\u001b[0m \u001b[0;34m\"Toulouse\"\u001b[0m\u001b[0;34m,\u001b[0m \u001b[0;34m\"Offenbach\"\u001b[0m\u001b[0;34m)\u001b[0m\u001b[0;34m,\u001b[0m \u001b[0mthen\u001b[0m\u001b[0;34m=\u001b[0m\u001b[0mTime\u001b[0m\u001b[0;34m(\u001b[0m\u001b[0;34m\"00:00 23:00 01:00\"\u001b[0m\u001b[0;34m)\u001b[0m\u001b[0;34m)\u001b[0m\u001b[0;34m,\u001b[0m\u001b[0;34m\u001b[0m\n",
       "\u001b[0;34m\u001b[0m                \u001b[0mIf\u001b[0m\u001b[0;34m(\u001b[0m\u001b[0mcity\u001b[0m \u001b[0;32min\u001b[0m \u001b[0;34m(\u001b[0m\u001b[0;34m\"Washington\"\u001b[0m\u001b[0;34m)\u001b[0m\u001b[0;34m,\u001b[0m \u001b[0mTime\u001b[0m\u001b[0;34m(\u001b[0m\u001b[0;34m\"00:00 23:00 03:00\"\u001b[0m\u001b[0;34m)\u001b[0m\u001b[0;34m)\u001b[0m\u001b[0;34m,\u001b[0m\u001b[0;34m\u001b[0m\n",
       "\u001b[0;34m\u001b[0m                \u001b[0mIf\u001b[0m\u001b[0;34m(\u001b[0m\u001b[0mcity\u001b[0m \u001b[0;32min\u001b[0m \u001b[0;34m(\u001b[0m\u001b[0;34m\"Tokyo\"\u001b[0m\u001b[0;34m)\u001b[0m\u001b[0;34m,\u001b[0m \u001b[0mTime\u001b[0m\u001b[0;34m(\u001b[0m\u001b[0;34m\"12:00\"\u001b[0m\u001b[0;34m)\u001b[0m\u001b[0;34m)\u001b[0m\u001b[0;34m,\u001b[0m\u001b[0;34m\u001b[0m\n",
       "\u001b[0;34m\u001b[0m                \u001b[0mIf\u001b[0m\u001b[0;34m(\u001b[0m\u001b[0mcity\u001b[0m \u001b[0;32min\u001b[0m \u001b[0;34m(\u001b[0m\u001b[0;34m\"Melbourne\"\u001b[0m\u001b[0;34m)\u001b[0m\u001b[0;34m,\u001b[0m \u001b[0mDay\u001b[0m\u001b[0;34m(\u001b[0m\u001b[0;34m\"monday\"\u001b[0m\u001b[0;34m)\u001b[0m\u001b[0;34m)\u001b[0m\u001b[0;34m,\u001b[0m\u001b[0;34m\u001b[0m\n",
       "\u001b[0;34m\u001b[0m                \u001b[0mIf\u001b[0m\u001b[0;34m(\u001b[0m\u001b[0mcity\u001b[0m \u001b[0;32min\u001b[0m \u001b[0;34m(\u001b[0m\u001b[0;34m\"Montreal\"\u001b[0m\u001b[0;34m)\u001b[0m\u001b[0;34m,\u001b[0m \u001b[0mDate\u001b[0m\u001b[0;34m(\u001b[0m\u001b[0;34m\"1.*.*\"\u001b[0m\u001b[0;34m)\u001b[0m\u001b[0;34m)\u001b[0m\u001b[0;34m,\u001b[0m\u001b[0;34m\u001b[0m\n",
       "\u001b[0;34m\u001b[0m                \u001b[0mTask\u001b[0m\u001b[0;34m(\u001b[0m\u001b[0;34m\"get\"\u001b[0m\u001b[0;34m)\u001b[0m\u001b[0;34m.\u001b[0m\u001b[0madd\u001b[0m\u001b[0;34m(\u001b[0m\u001b[0mLabel\u001b[0m\u001b[0;34m(\u001b[0m\u001b[0;34m\"info\"\u001b[0m\u001b[0;34m,\u001b[0m \u001b[0;34m\"\"\u001b[0m\u001b[0;34m)\u001b[0m\u001b[0;34m)\u001b[0m\u001b[0;34m,\u001b[0m\u001b[0;34m\u001b[0m\n",
       "\u001b[0;34m\u001b[0m                \u001b[0mTask\u001b[0m\u001b[0;34m(\u001b[0m\u001b[0;34m\"process\"\u001b[0m\u001b[0;34m)\u001b[0m\u001b[0;34m.\u001b[0m\u001b[0madd\u001b[0m\u001b[0;34m(\u001b[0m\u001b[0mTrigger\u001b[0m\u001b[0;34m(\u001b[0m\u001b[0;34m\"get eq complete\"\u001b[0m\u001b[0;34m)\u001b[0m\u001b[0;34m)\u001b[0m\u001b[0;34m,\u001b[0m\u001b[0;34m\u001b[0m\n",
       "\u001b[0;34m\u001b[0m                \u001b[0mTask\u001b[0m\u001b[0;34m(\u001b[0m\u001b[0;34m\"store\"\u001b[0m\u001b[0;34m)\u001b[0m\u001b[0;34m.\u001b[0m\u001b[0madd\u001b[0m\u001b[0;34m(\u001b[0m\u001b[0mTrigger\u001b[0m\u001b[0;34m(\u001b[0m\u001b[0;34m\"get eq complete\"\u001b[0m\u001b[0;34m)\u001b[0m\u001b[0;34m)\u001b[0m\u001b[0;34m)\u001b[0m\u001b[0;34m\u001b[0m\n",
       "\u001b[0;34m\u001b[0m             \u001b[0;32mfor\u001b[0m \u001b[0mobs_type\u001b[0m \u001b[0;32min\u001b[0m \u001b[0;34m(\u001b[0m\u001b[0;34m\"observations\"\u001b[0m\u001b[0;34m,\u001b[0m \u001b[0;34m\"fields\"\u001b[0m\u001b[0;34m,\u001b[0m \u001b[0;34m\"images\"\u001b[0m\u001b[0;34m)\u001b[0m\u001b[0;34m]\u001b[0m\u001b[0;34m)\u001b[0m\u001b[0;34m)\u001b[0m\u001b[0;34m\u001b[0m\n",
       "\u001b[0;34m\u001b[0m        \u001b[0;32mfor\u001b[0m \u001b[0mcity\u001b[0m \u001b[0;32min\u001b[0m \u001b[0;34m(\u001b[0m\u001b[0;34m\"Exeter\"\u001b[0m\u001b[0;34m,\u001b[0m \u001b[0;34m\"Toulouse\"\u001b[0m\u001b[0;34m,\u001b[0m \u001b[0;34m\"Offenbach\"\u001b[0m\u001b[0;34m,\u001b[0m \u001b[0;34m\"Washington\"\u001b[0m\u001b[0;34m,\u001b[0m\u001b[0;34m\u001b[0m\n",
       "\u001b[0;34m\u001b[0m                     \u001b[0;34m\"Tokyo\"\u001b[0m\u001b[0;34m,\u001b[0m \u001b[0;34m\"Melbourne\"\u001b[0m\u001b[0;34m,\u001b[0m \u001b[0;34m\"Montreal\"\u001b[0m\u001b[0;34m)\u001b[0m\u001b[0;34m]\u001b[0m\u001b[0;34m)\u001b[0m\u001b[0;34m)\u001b[0m\u001b[0;34m\u001b[0m\n",
       "\u001b[0;34m\u001b[0m\u001b[0;31m# print(DEFS); DEFS.generate_scripts(); \u001b[0m\u001b[0;34m\u001b[0m\n",
       "\u001b[0;34m\u001b[0m\u001b[0mRESULT\u001b[0m \u001b[0;34m=\u001b[0m \u001b[0mDEFS\u001b[0m\u001b[0;34m.\u001b[0m\u001b[0msimulate\u001b[0m\u001b[0;34m(\u001b[0m\u001b[0;34m)\u001b[0m\u001b[0;34m;\u001b[0m \u001b[0;31m# print(RESULT)\u001b[0m\u001b[0;34m\u001b[0m\n",
       "\u001b[0;34m\u001b[0m\u001b[0mCLIENT\u001b[0m \u001b[0;34m=\u001b[0m \u001b[0mecflow\u001b[0m\u001b[0;34m.\u001b[0m\u001b[0mClient\u001b[0m\u001b[0;34m(\u001b[0m\u001b[0mos\u001b[0m\u001b[0;34m.\u001b[0m\u001b[0mgetenv\u001b[0m\u001b[0;34m(\u001b[0m\u001b[0;34m\"ECF_HOST\"\u001b[0m\u001b[0;34m,\u001b[0m \u001b[0;34m\"localhost\"\u001b[0m\u001b[0;34m)\u001b[0m\u001b[0;34m,\u001b[0m\u001b[0;34m\u001b[0m\n",
       "\u001b[0;34m\u001b[0m                       \u001b[0mos\u001b[0m\u001b[0;34m.\u001b[0m\u001b[0mgetenv\u001b[0m\u001b[0;34m(\u001b[0m\u001b[0;34m\"ECF_PORT\"\u001b[0m\u001b[0;34m,\u001b[0m \u001b[0;36m2500\u001b[0m\u001b[0;34m)\u001b[0m\u001b[0;34m)\u001b[0m\u001b[0;34m\u001b[0m\n",
       "\u001b[0;34m\u001b[0m\u001b[0mCLIENT\u001b[0m\u001b[0;34m.\u001b[0m\u001b[0mreplace\u001b[0m\u001b[0;34m(\u001b[0m\u001b[0;34m\"/%s\"\u001b[0m \u001b[0;34m%\u001b[0m \u001b[0mNAME\u001b[0m\u001b[0;34m,\u001b[0m \u001b[0mDEFS\u001b[0m\u001b[0;34m)\u001b[0m\u001b[0;34m\u001b[0m\u001b[0;34m\u001b[0m\u001b[0m\n"
      ]
     },
     "metadata": {},
     "output_type": "display_data"
    }
   ],
   "source": [
    "%pycat src/el41_data_acquisition.py"
   ]
  },
  {
   "cell_type": "markdown",
   "metadata": {},
   "source": [
    "## Operational suite?"
   ]
  },
  {
   "cell_type": "code",
   "execution_count": 47,
   "metadata": {},
   "outputs": [],
   "source": [
    "%run src/el41_data_acquisition.py > /dev/null 2>&1"
   ]
  },
  {
   "cell_type": "code",
   "execution_count": 48,
   "metadata": {},
   "outputs": [],
   "source": [
    "%pycat src/el41_data_acquisition.py"
   ]
  },
  {
   "cell_type": "markdown",
   "metadata": {},
   "source": [
    "## Back archiving"
   ]
  },
  {
   "cell_type": "code",
   "execution_count": 49,
   "metadata": {},
   "outputs": [],
   "source": [
    "%run src/el42_operational_suite_solution.py > /dev/null 2>&1"
   ]
  },
  {
   "cell_type": "code",
   "execution_count": 50,
   "metadata": {},
   "outputs": [],
   "source": [
    "%pycat src/el42_operational_suite_solution.py"
   ]
  },
  {
   "cell_type": "markdown",
   "metadata": {
    "slideshow": {
     "slide_type": "slide"
    }
   },
   "source": [
    "## All together"
   ]
  },
  {
   "cell_type": "code",
   "execution_count": 51,
   "metadata": {},
   "outputs": [],
   "source": [
    "%run src/el51_gallery_suite_example.py > /dev/null 2>&1"
   ]
  },
  {
   "cell_type": "code",
   "execution_count": 52,
   "metadata": {},
   "outputs": [],
   "source": [
    "%pycat src/el51_gallery_suite_example.py"
   ]
  },
  {
   "cell_type": "markdown",
   "metadata": {
    "slideshow": {
     "slide_type": "slide"
    }
   },
   "source": [
    "# Resources"
   ]
  },
  {
   "cell_type": "markdown",
   "metadata": {},
   "source": [
    "Confluence ecFlow https://software.ecmwf.int/wiki/display/ECFLOW/ecflow+home\n",
    "\n",
    "ecFlow, one page, https://software.ecmwf.int/wiki/display/ECFLOW/ecFlow@ECMWF\n",
    "Tutorial, https://software.ecmwf.int/wiki/display/ECFLOW/Tutorial\n",
    "User Manual, https://software.ecmwf.int/wiki/display/ECFLOW/User+Manual\n",
    "Cookbook, https://software.ecmwf.int/wiki/display/ECFLOW/Cookbook\n",
    "Source code, https://software.ecmwf.int/stash/projects/ECFLOW/repos/ecflow/browse"
   ]
  },
  {
   "cell_type": "markdown",
   "metadata": {},
   "source": [
    "https://software.ecmwf.int/stash/projects/ECFLOW/repos/elearning/browse"
   ]
  },
  {
   "cell_type": "markdown",
   "metadata": {
    "slideshow": {
     "slide_type": "slide"
    }
   },
   "source": [
    "# Glossary"
   ]
  },
  {
   "cell_type": "markdown",
   "metadata": {},
   "source": [
    "https://software.ecmwf.int/wiki/display/ECFLOW/Glossary"
   ]
  }
 ],
 "metadata": {
  "celltoolbar": "Slideshow",
  "kernelspec": {
   "display_name": "Python 3 (ipykernel)",
   "language": "python",
   "name": "python3"
  },
  "language_info": {
   "codemirror_mode": {
    "name": "ipython",
    "version": 3
   },
   "file_extension": ".py",
   "mimetype": "text/x-python",
   "name": "python",
   "nbconvert_exporter": "python",
   "pygments_lexer": "ipython3",
   "version": "3.11.13"
  }
 },
 "nbformat": 4,
 "nbformat_minor": 4
}
