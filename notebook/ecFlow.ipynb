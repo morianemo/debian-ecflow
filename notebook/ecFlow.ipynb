{
 "cells": [
  {
   "cell_type": "markdown",
   "metadata": {
    "slideshow": {
     "slide_type": "slide"
    }
   },
   "source": [
    "# ecFlow eLearning Jupyter Notebook"
   ]
  },
  {
   "cell_type": "markdown",
   "metadata": {},
   "source": [
    "![ecflow](anim/ecflow_el.gif)\n",
    "<!--\n",
    "from IPython.core.display import Image, display; display(Image('./anim/ecflow_el.gif', width=640, unconfined=True))\n",
    "![ecflow](ecflow_el-0.png)\n",
    "-->"
   ]
  },
  {
   "cell_type": "markdown",
   "metadata": {
    "slideshow": {
     "slide_type": "subslide"
    }
   },
   "source": [
    "- This is a snapshot of ecflow_ui, the ecFlow GUI\n",
    "- The top *node* is the **server node**, called eowyn here\n",
    "- right below are the **suites** nodes which contain **families** and **tasks**\n",
    "- the family node is a container for families and task\n",
    "- the **task** node is the leaf node from which a **job** is created by ecflow and **submitted**, locally or remotely\n",
    "- an **alias** node can be created from the GUI, to dynamically modify the script and variables from a task, for an independent submission, in case of debugging, fixing, It is attached to the task and can be removed directly. Multiple aliases can run simultaneously when the task is well designed (different work directory).\n",
    "- you can see we can attach **attributes** to nodes: \n",
    "    -**label, meter, event** which may be updated from the job to follow its progress, reporting a string, an integer, or a boolean (set)\n",
    "    -**date, time, trigger** (black), **complete** (blue)\n",
    "    -when the task has to run, a job is submitted, which reports its **status** so that task colour changes.\n",
    "    -**late** attribute is alos visible here."
   ]
  },
  {
   "cell_type": "markdown",
   "metadata": {
    "slideshow": {
     "slide_type": "slide"
    }
   },
   "source": [
    "![workflow](anim/ecflow.gif)\n",
    "<!--\n",
    "from IPython.core.display import Image, display; display(Image('./anim/ecflow.gif', width=1024, unconfined=True))\n",
    "![workflow](ecflow-10.png)\n",
    "-->"
   ]
  },
  {
   "cell_type": "markdown",
   "metadata": {
    "slideshow": {
     "slide_type": "subslide"
    }
   },
   "source": [
    "# ecFlow components\n",
    "\n",
    "  - the **ecflow_server**, \n",
    "  - the clients (**ecflow_client**, the command line text client, **ecflow_ui** the GUI, and the **python API** for python clients). \n",
    "  - A **template language** is understood by ecFLow to transform the **task template scripts** into **job files**.\n",
    "\n",
    "- the template language is generic, so that _you_ decide which language the job will be, bash, ksh, python, perl,...\n",
    "- You start describing the tasks to run, their relations and dependencies, as a **suite** in a **definition file**\n",
    "- You load the suite into the server\n",
    "- You provide the script templates that the ecFlow server shall read at the moment the jobs shall be generated\n",
    "- when the dependencies are fulfilled (Date, Time, Trigger, Complete, Inlimit) the job is created and submitted. At that moment the task is **submitted**. If anything is problematic, the task turns **aborted**\n",
    "   -for example, the job could not be created, or it could not be submitted, maybe the remote system not responding or it is refusing the submission (queue, account, size of the job) \n",
    "- the jobs starts and writes its progress into the output file. it reports to ecflow server using the **ecflow_client** \n",
    "  -**ecflow_client --init** reports the job **active**\n",
    "  -**ecflow_client --complete** reports sucessful completion\n",
    "  -at anytime if something goes wront the jobs shall send the **ecflow_client --abort** command to report the task **aborted**"
   ]
  },
  {
   "cell_type": "markdown",
   "metadata": {
    "slideshow": {
     "slide_type": "slide"
    }
   },
   "source": [
    "![mindmap](anim/ecflowmm.png)"
   ]
  },
  {
   "cell_type": "markdown",
   "metadata": {
    "slideshow": {
     "slide_type": "slide"
    }
   },
   "source": [
    "![status flow](anim/ecflow_status.gif)\n",
    "<!--\n",
    "from IPython.core.display import Image, display; display(Image('./anim/ecflow_status.gif', width=1024, unconfined=True)) \n",
    "![status flow](ecflow_status-33.png)\n",
    "-->"
   ]
  },
  {
   "cell_type": "markdown",
   "metadata": {
    "slideshow": {
     "slide_type": "subslide"
    }
   },
   "source": [
    "## Status transition\n",
    "- Initially, when a suite is loaded for the first time, its status is **unknown**, so that no job is immediately submitted. It gives a chance for the suite designer to check that it is as expected:\n",
    "  - scripts and headers can be read by the server, \n",
    "  - that there is no variable used in the script, yet not defined in the suite, \n",
    "  - the structure of the suite reflect expectation. \n",
    "  - at that time, nodes can be suspended from the GUI, deleted, their position modified.\n",
    "- The **begin** command will let the ecFlow server to initialise servers variables, nodes statuses, and even start jobs when the server is in **restarted mode** and the suite node is not **suspended**\n",
    "- At that moment, if some jobs cannot be created/submitted, few tasks may turn **aborted**\n",
    "- most shall remain **queued**, as the default status, waiting the dependencies to be reached (Date, Time, Trigger, Complete, Inlimit)\n",
    "- the suite definition may contain some nodes using the attribute **defstatus**. It defines the default status of a node when it is requeued or when the suite is begun.\n",
    "- transiently, submitted jobs are visible (when submitted to a queuing system, when it can last few seconds)\n",
    "- when the job is started and calls **ecflow_client --init** the task turns **active**\n",
    "- when the job is completing **ecflow_client --complete** is called\n",
    "- a job may face problem, and report that with **ecflow_client --abort**\n",
    "- the variables **ECF_JOB_CMD** and **ECF_KILL_CMD** can be defined in the suite, and modified throughout, reflecting the command the ecFlow server shall call to submit or kill the job."
   ]
  },
  {
   "cell_type": "code",
   "execution_count": 1,
   "metadata": {
    "scrolled": true,
    "slideshow": {
     "slide_type": "slide"
    }
   },
   "outputs": [],
   "source": [
    "%load_ext autoreload\n",
    "%autoreload 2\n",
    "%quickref"
   ]
  },
  {
   "cell_type": "markdown",
   "metadata": {
    "slideshow": {
     "slide_type": "-"
    }
   },
   "source": [
    "[video](anim/ecflow_3min39.mp4)"
   ]
  },
  {
   "cell_type": "markdown",
   "metadata": {
    "slideshow": {
     "slide_type": "slide"
    }
   },
   "source": [
    "## Start the ecFlow server"
   ]
  },
  {
   "cell_type": "code",
   "execution_count": 2,
   "metadata": {},
   "outputs": [
    {
     "name": "stdout",
     "output_type": "stream",
     "text": [
      "ping server(eowyn:2500) succeeded in 00:00:00.001291  ~1 milliseconds\n",
      "server is already started\n",
      "0 S map       7719     1  0  80   0 - 10006 ep_pol 15:20 pts/1    00:00:02 ecflow_server Server statistics\n",
      "   Version                         Ecflow (debug) version(4.12.0) boost(1.53.0) compiler(gcc 8.2.0) protocol(TEXT_ARCHIVE) Compiled on Dec 31 2018 15:05:35\n",
      "   Status                          RUNNING\n",
      "   Host                            eowyn\n",
      "   Port                            2500\n",
      "   Up since                        2019-Jan-15 15:20:03\n",
      "   Job sub' interval               60s\n",
      "   ECF_HOME                        /home/map/ecflow_server\n",
      "   ECF_LOG                         /home/map/home/map/ecflow_server/eowyn.2500.ecf.log\n",
      "   ECF_CHECK                       /home/map/ecflow_server/eowyn.2500.check\n",
      "   Check pt interval               120s\n",
      "   Check pt mode                   CHECK_ON_TIME\n",
      "   Check pt save time alarm        20s\n",
      "   Number of Suites                3\n",
      "   Request's per 1,5,15,30,60 min  0.02 0.00 0.01 0.00 0.00\n",
      "\n",
      "   Restart server                  1\n",
      "   Ping                            10\n",
      "   Sync                            3\n",
      "   News                            6\n",
      "\n",
      "   Task init                       1\n",
      "   Task complete                   1\n",
      "\n",
      "   Load definition                 1\n",
      "   Begin                           3\n",
      "   Node resume                     3\n",
      "   Replace                         3\n",
      "   Suites                          1\n",
      "   stats cmd                       6\n"
     ]
    }
   ],
   "source": [
    "%%bash \n",
    "ecflow_start.sh -p 2500"
   ]
  },
  {
   "cell_type": "markdown",
   "metadata": {},
   "source": [
    "## Start the GUI ecflow_ui"
   ]
  },
  {
   "cell_type": "code",
   "execution_count": 3,
   "metadata": {},
   "outputs": [
    {
     "data": {
      "text/plain": [
       "0"
      ]
     },
     "execution_count": 3,
     "metadata": {},
     "output_type": "execute_result"
    }
   ],
   "source": [
    "import os\n",
    "os.system(\"ecflow_ui &\")"
   ]
  },
  {
   "cell_type": "markdown",
   "metadata": {},
   "source": [
    "## Experience the command line client"
   ]
  },
  {
   "cell_type": "code",
   "execution_count": 4,
   "metadata": {},
   "outputs": [
    {
     "name": "stdout",
     "output_type": "stream",
     "text": [
      "ping server(localhost:2500) succeeded in 00:00:00.001986  ~1 milliseconds\n"
     ]
    }
   ],
   "source": [
    "%%bash\n",
    "ecflow_client --port 2500 --host localhost --ping"
   ]
  },
  {
   "cell_type": "code",
   "execution_count": 5,
   "metadata": {},
   "outputs": [
    {
     "name": "stdout",
     "output_type": "stream",
     "text": [
      "Ecflow (debug) version(4.12.0) boost(1.53.0) compiler(gcc 8.2.0) protocol(TEXT_ARCHIVE) Compiled on Dec 31 2018 15:05:35\n",
      "\n",
      "Client/server based work flow package:\n",
      "\n",
      "Ecflow (debug) version(4.12.0) boost(1.53.0) compiler(gcc 8.2.0) protocol(TEXT_ARCHIVE) Compiled on Dec 31 2018 15:05:35\n",
      "\n",
      "ecflow_client provides the command line interface, for interacting with the server:\n",
      "Try:\n",
      "\n",
      "   ecflow_client --help=all       # List all commands, verbosely\n",
      "   ecflow_client --help=summary   # One line summary of all commands\n",
      "   ecflow_client --help=child     # One line summary of child commands\n",
      "   ecflow_client --help=user      # One line summary of user command\n",
      "   ecflow_client --help=<cmd>     # Detailed help on each command\n",
      "\n",
      "Commands:\n",
      "\n",
      "   abort                alter                begin                ch_add               ch_auto_add          \n",
      "   ch_drop              ch_drop_user         ch_register          ch_rem               ch_suites            \n",
      "   check                checkJobGenOnly      check_pt             complete             debug                \n",
      "   debug_server_off     debug_server_on      delete               edit_history         edit_script          \n",
      "   event                file                 force                force-dep-eval       free-dep             \n",
      "   get                  get_state            group                halt                 help                 \n",
      "   host                 init                 job_gen              kill                 label                \n",
      "   load                 log                  meter                migrate              msg                  \n",
      "   news                 order                ping                 plug                 port                 \n",
      "   reloadwsfile         replace              requeue              restart              restore_from_checkpt \n",
      "   resume               rid                  run                  server_load          server_version       \n",
      "   show                 shutdown             stats                stats_reset          status               \n",
      "   suites               suspend              sync                 sync_full            terminate            \n",
      "   version              wait                 why                  zombie_adopt         zombie_block         \n",
      "   zombie_fail          zombie_fob           zombie_get           zombie_kill          zombie_remove        \n"
     ]
    }
   ],
   "source": [
    "%%bash\n",
    "# DISPLAY ALL CLIENT COMMANDS\n",
    "ecflow_client --version\n",
    "ecflow_client --help"
   ]
  },
  {
   "cell_type": "markdown",
   "metadata": {
    "slideshow": {
     "slide_type": "slide"
    }
   },
   "source": [
    "## Python for suites design, client-server communication, or a script.py as a task template..."
   ]
  },
  {
   "cell_type": "code",
   "execution_count": 8,
   "metadata": {},
   "outputs": [],
   "source": [
    "%%bash\n",
    "# p=python2.7/site-packages/ecflow\n",
    "p=python3.5/site-packages/ecflow\n",
    "export PYTHONPATH=$PYTHONPATH:/usr/local/apps/ecflow/lib/$p:/usr/local/lib/$p\n"
   ]
  },
  {
   "cell_type": "code",
   "execution_count": 9,
   "metadata": {},
   "outputs": [],
   "source": [
    "import sys\n",
    "p=\"/python3.5/site-packages/ecflow\"\n",
    "sys.path.append(\"/usr/local/lib\" + p)\n",
    "sys.path.append(\"/usr/local/apps/ecflow/current/lib\" + p)\n",
    "import ecflow\n",
    "# UNCOMMENT FOLLOWING LINE TO GET FULL man pages\n",
    "# help(ecflow)"
   ]
  },
  {
   "cell_type": "markdown",
   "metadata": {
    "slideshow": {
     "slide_type": "slide"
    }
   },
   "source": [
    "## Define the simplest suite and print it as \"text definition file\""
   ]
  },
  {
   "cell_type": "code",
   "execution_count": 16,
   "metadata": {},
   "outputs": [
    {
     "name": "stdout",
     "output_type": "stream",
     "text": [
      "Creating suite definition\n",
      "# 4.12.0\n",
      "suite elearning\n",
      "  defstatus suspended\n",
      "  edit ECF_HOME '/home/map/ecflow_server'\n",
      "  edit ECF_INCLUDE '/home/map/ecflow_server/include'\n",
      "  edit ECF_FILES '/home/map/ecflow_server/files'\n",
      "  task t1\n",
      "endsuite\n",
      "# enddef\n",
      "\n",
      "Saving definition to file 'elearning.def'\n"
     ]
    }
   ],
   "source": [
    "%run src/el11_test_suite.py\n",
    "%pycat src/el11_test_suite.py"
   ]
  },
  {
   "cell_type": "markdown",
   "metadata": {
    "collapsed": true,
    "slideshow": {
     "slide_type": "slide"
    }
   },
   "source": [
    "## Create the head.h and tail.h files for all tasks in ECF_INCLUDE directory"
   ]
  },
  {
   "cell_type": "code",
   "execution_count": 12,
   "metadata": {},
   "outputs": [
    {
     "name": "stdout",
     "output_type": "stream",
     "text": [
      "head.h/tail.h files are now created in ECF_INCLUDE /home/map/ecflow_server/include\n"
     ]
    }
   ],
   "source": [
    "%run src/el12_test_suite_include.py\n",
    "%pycat src/el12_test_suite_include.py"
   ]
  },
  {
   "cell_type": "markdown",
   "metadata": {
    "slideshow": {
     "slide_type": "slide"
    }
   },
   "source": [
    "## Create the simplest task template in ECF_FILES directory"
   ]
  },
  {
   "cell_type": "code",
   "execution_count": 18,
   "metadata": {},
   "outputs": [
    {
     "name": "stdout",
     "output_type": "stream",
     "text": [
      "The script template file is now created: /home/map/ecflow_server/files/t1.ecf\n"
     ]
    }
   ],
   "source": [
    "%run src/el13_test_suite_wrapper.py\n",
    "%pycat src/el13_test_suite_wrapper.py"
   ]
  },
  {
   "cell_type": "markdown",
   "metadata": {
    "slideshow": {
     "slide_type": "slide"
    }
   },
   "source": [
    "## load or replace the node into the Server with a standalone Python ecFlow client"
   ]
  },
  {
   "cell_type": "markdown",
   "metadata": {
    "slideshow": {
     "slide_type": "-"
    }
   },
   "source": [
    "You may ask: why do we need to write an intermediate text file, which is later loaded with another python script which has to read this file?\n",
    "\n",
    "We don't need: this is a tutorial which explains step by step. In practice the suite is most often directly loaded from creation as ecflow.Defs with ecflow.Client into the server.\n",
    "\n",
    "Yet, the text (expanded) suite definition can be read, modified, used with ecflow_client command line, to create, or update a node in an existing suite."
   ]
  },
  {
   "cell_type": "markdown",
   "metadata": {},
   "source": [
    "check_job_creation can run from the client side to identify if jobs have a chance to be created by ecFlow server. You can fix:\n",
    "- missing task template files\n",
    "- missing include files\n",
    "- ecFlow variables used in a script template, yet undefined in the py-def\n",
    "- missing directories (ECF_HOME, ECF_INCLUDE, ECF_FILES)\n",
    "- unexpected directories right restriction, read only, or directory not accessible"
   ]
  },
  {
   "cell_type": "code",
   "execution_count": 20,
   "metadata": {},
   "outputs": [
    {
     "name": "stdout",
     "output_type": "stream",
     "text": [
      "Checking job creation: .ecf -> .job0\n",
      "\n"
     ]
    }
   ],
   "source": [
    "%run src/el14_test_suite_client.py\n",
    "%pycat src/el14_test_suite_client.py"
   ]
  },
  {
   "cell_type": "markdown",
   "metadata": {},
   "source": [
    "## Standalone Python client to download and display live server content"
   ]
  },
  {
   "cell_type": "code",
   "execution_count": 22,
   "metadata": {},
   "outputs": [
    {
     "name": "stdout",
     "output_type": "stream",
     "text": [
      "# 4.12.0\n",
      "defs_state STATE state>:queued flag:message state_change:83 modify_change:14\n",
      "  edit ECF_MICRO '%' # server\n",
      "  edit ECF_HOME '/home/map/ecflow_server' # server\n",
      "  edit ECF_JOB_CMD '%ECF_JOB% 1> %ECF_JOBOUT% 2>&1' # server\n",
      "  edit ECF_KILL_CMD 'kill -15 %ECF_RID%' # server\n",
      "  edit ECF_STATUS_CMD 'ps --pid %ECF_RID% -f > %ECF_JOB%.stat 2>&1' # server\n",
      "  edit ECF_URL_CMD '${BROWSER:=firefox} -remote 'openURL(%ECF_URL_BASE%/%ECF_URL%)'' # server\n",
      "  edit ECF_URL_BASE 'https://software.ecmwf.int' # server\n",
      "  edit ECF_URL 'wiki/display/ECFLOW/Home' # server\n",
      "  edit ECF_LOG '/home/map/home/map/ecflow_server/eowyn.2500.ecf.log' # server\n",
      "  edit ECF_INTERVAL '60' # server\n",
      "  edit ECF_LISTS '/home/map/ecflow_server/ecf.lists' # server\n",
      "  edit ECF_CHECK '/home/map/ecflow_server/eowyn.2500.check' # server\n",
      "  edit ECF_CHECKOLD '/home/map/ecflow_server/eowyn.2500.check.b' # server\n",
      "  edit ECF_CHECKINTERVAL '120' # server\n",
      "  edit ECF_CHECKMODE 'CHECK_ON_TIME' # server\n",
      "  edit ECF_TRIES '2' # server\n",
      "  edit ECF_VERSION '4.12.0' # server\n",
      "  edit ECF_PORT '2500' # server\n",
      "  edit ECF_NODE '%ECF_HOST%' # server\n",
      "  edit ECF_HOST 'eowyn' # server\n",
      "  edit ECF_CHECK_CMD 'ps --pid %ECF_RID% -f' # server\n",
      "  edit ECF_PID '7719' # server\n",
      "# server state: RUNNING\n",
      "suite DA #  begun:1 state:queued suspended:1\n",
      "  defstatus suspended\n",
      "  edit ECF_HOME '/home/map/ecflow_server'\n",
      "  edit URL 'https://www.nersc.no/group/data-assimilation'\n",
      "  edit ECF_URL_CMD 'firefox %URL%'\n",
      "  edit ECF_JOB_CMD '%ECF_JOB% > %ECF_JOBOUT% 2>&1'\n",
      "  edit ECF_EXTN '.ecg'\n",
      "  edit ECF_FILES '/home/map/ecflow_server/files'\n",
      "  edit ECF_INCLUDE '/home/map/ecflow_server/include'\n",
      "  # edit SUITE 'DA'\n",
      "  # edit ECF_DATE '20190115'\n",
      "  # edit YYYY '2019'\n",
      "  # edit DOW '2'\n",
      "  # edit DOY '15'\n",
      "  # edit DATE '15.01.2019'\n",
      "  # edit DAY 'tuesday'\n",
      "  # edit DD '15'\n",
      "  # edit MM '01'\n",
      "  # edit MONTH 'january'\n",
      "  # edit ECF_CLOCK 'tuesday:january:2:15'\n",
      "  # edit ECF_TIME '21:35'\n",
      "  # edit ECF_JULIAN '2458499'\n",
      "  # edit TIME '2135'\n",
      "  calendar initTime:2019-Jan-15 15:20:09 suiteTime:2019-Jan-15 21:35:00 duration:06:14:51 initLocalTime:2019-Jan-15 15:20:09 lastTime:2019-Jan-15 21:35:00 calendarIncrement:00:01:00\n",
      "  family make # state:queued\n",
      "    # edit FAMILY 'make'\n",
      "    # edit FAMILY1 'make'\n",
      "    family get # state:queued\n",
      "      # edit FAMILY 'make/get'\n",
      "      # edit FAMILY1 'get'\n",
      "      task cmd # state:queued\n",
      "        edit CMD '[ ! -d DAPPER ] && git clone https://github.com/nansencenter/DAPPER.git'\n",
      "        edit ARGS ''\n",
      "        # edit TASK 'cmd'\n",
      "        # edit ECF_JOB '/home/map/ecflow_server/DA/make/get/cmd.job0'\n",
      "        # edit ECF_SCRIPT '/home/map/ecflow_server/DA/make/get/cmd.ecg'\n",
      "        # edit ECF_JOBOUT '/home/map/ecflow_server/DA/make/get/cmd.0'\n",
      "        # edit ECF_TRYNO '0'\n",
      "        # edit ECF_RID ''\n",
      "        # edit ECF_NAME '/DA/make/get/cmd'\n",
      "        # edit ECF_PASS ''\n",
      "    endfamily\n",
      "    family compile # state:queued\n",
      "      trigger get == complete\n",
      "        # AstTop\n",
      "          # EQUAL   evaluate(0)\n",
      "            # LEAF_NODE node_(Found) nodePath_('get') queued(2)\n",
      "            # LEAF_NODE_STATE complete(1)\n",
      "      # edit FAMILY 'make/compile'\n",
      "      # edit FAMILY1 'compile'\n",
      "      task cmd # state:queued\n",
      "        edit CMD 'cd DAPPER; xterm -T 'python3 example_1.py''\n",
      "        # edit TASK 'cmd'\n",
      "        # edit ECF_JOB '/home/map/ecflow_server/DA/make/compile/cmd.job0'\n",
      "        # edit ECF_SCRIPT '/home/map/ecflow_server/DA/make/compile/cmd.ecg'\n",
      "        # edit ECF_JOBOUT '/home/map/ecflow_server/DA/make/compile/cmd.0'\n",
      "        # edit ECF_TRYNO '0'\n",
      "        # edit ECF_RID ''\n",
      "        # edit ECF_NAME '/DA/make/compile/cmd'\n",
      "        # edit ECF_PASS ''\n",
      "    endfamily\n",
      "  endfamily\n",
      "  family main # state:queued\n",
      "    # edit FAMILY 'main'\n",
      "    # edit FAMILY1 'main'\n",
      "    task cmd # state:queued\n",
      "      edit CMD 'ecflow_client --label info'\n",
      "      edit ARGS 'YOUR PART'\n",
      "      # edit TASK 'cmd'\n",
      "      # edit ECF_JOB '/home/map/ecflow_server/DA/main/cmd.job0'\n",
      "      # edit ECF_SCRIPT '/home/map/ecflow_server/DA/main/cmd.ecg'\n",
      "      # edit ECF_JOBOUT '/home/map/ecflow_server/DA/main/cmd.0'\n",
      "      # edit ECF_TRYNO '0'\n",
      "      # edit ECF_RID ''\n",
      "      # edit ECF_NAME '/DA/main/cmd'\n",
      "      # edit ECF_PASS ''\n",
      "      label info \"\"\n",
      "  endfamily\n",
      "endsuite\n",
      "suite obs #  begun:1 state:queued dur:02:38:28 flag:message\n",
      "  defstatus suspended\n",
      "  edit ECF_HOME '/home/map/ecflow_server'\n",
      "  edit ECF_JOB_CMD '%ECF_JOB% > %ECF_JOBOUT% 2>&1'\n",
      "  edit ECF_EXTN '.ecg'\n",
      "  edit ECF_FILES '/home/map/ecflow_server/files'\n",
      "  edit ECF_INCLUDE '/home/map/ecflow_server/include'\n",
      "  # edit SUITE 'obs'\n",
      "  # edit ECF_DATE '20190115'\n",
      "  # edit YYYY '2019'\n",
      "  # edit DOW '2'\n",
      "  # edit DOY '15'\n",
      "  # edit DATE '15.01.2019'\n",
      "  # edit DAY 'tuesday'\n",
      "  # edit DD '15'\n",
      "  # edit MM '01'\n",
      "  # edit MONTH 'january'\n",
      "  # edit ECF_CLOCK 'tuesday:january:2:15'\n",
      "  # edit ECF_TIME '21:35'\n",
      "  # edit ECF_JULIAN '2458499'\n",
      "  # edit TIME '2135'\n",
      "  calendar initTime:2019-Jan-15 15:22:32 suiteTime:2019-Jan-15 21:35:00 duration:06:12:28 initLocalTime:2019-Jan-15 15:22:32 lastTime:2019-Jan-15 21:35:00 calendarIncrement:00:01:00\n",
      "  family acq # state:queued dur:02:38:28\n",
      "    # edit FAMILY 'acq'\n",
      "    # edit FAMILY1 'acq'\n",
      "    task cmd # state:queued dur:02:38:28\n",
      "      edit CMD 'curl'\n",
      "      edit ARGS 'http://www.met.reading.ac.uk/weatherdata/images/0.25WIND.png> rdg_wind.png'\n",
      "      # edit TASK 'cmd'\n",
      "      # edit ECF_JOB '/home/map/ecflow_server/obs/acq/cmd.job0'\n",
      "      # edit ECF_SCRIPT '/home/map/ecflow_server/obs/acq/cmd.ecg'\n",
      "      # edit ECF_JOBOUT '/home/map/ecflow_server/obs/acq/cmd.0'\n",
      "      # edit ECF_TRYNO '0'\n",
      "      # edit ECF_RID ''\n",
      "      # edit ECF_NAME '/obs/acq/cmd'\n",
      "      # edit ECF_PASS ''\n",
      "      cron 00:01 18:01 06:00 # isValid:false nextTimeSlot/24:01\n",
      "  endfamily\n",
      "endsuite\n",
      "suite adm #  begun:1 state:queued flag:message\n",
      "  defstatus suspended\n",
      "  edit ECF_HOME '/home/map/ecflow_server'\n",
      "  edit ECF_JOB_CMD '%ECF_JOB% > %ECF_JOBOUT% 2>&1'\n",
      "  edit ECF_OUT '%ECF_HOME%'\n",
      "  edit ECF_EXTN '.ecg'\n",
      "  edit ECF_FILES '/home/map/ecflow_server/files'\n",
      "  edit ECF_INCLUDE '/home/map/ecflow_server/include'\n",
      "  # edit SUITE 'adm'\n",
      "  # edit ECF_DATE '20190115'\n",
      "  # edit YYYY '2019'\n",
      "  # edit DOW '2'\n",
      "  # edit DOY '15'\n",
      "  # edit DATE '15.01.2019'\n",
      "  # edit DAY 'tuesday'\n",
      "  # edit DD '15'\n",
      "  # edit MM '01'\n",
      "  # edit MONTH 'january'\n",
      "  # edit ECF_CLOCK 'tuesday:january:2:15'\n",
      "  # edit ECF_TIME '21:35'\n",
      "  # edit ECF_JULIAN '2458499'\n",
      "  # edit TIME '2135'\n",
      "  calendar initTime:2019-Jan-15 15:22:32 suiteTime:2019-Jan-15 21:35:00 duration:06:12:28 initLocalTime:2019-Jan-15 15:22:32 lastTime:2019-Jan-15 21:35:00 calendarIncrement:00:01:00\n",
      "  family user # state:complete\n",
      "    # edit FAMILY 'user'\n",
      "    # edit FAMILY1 'user'\n",
      "    task admin # state:complete flag:message\n",
      "      defstatus complete\n",
      "      edit CMDS 'all'\n",
      "      # edit TASK 'admin'\n",
      "      # edit ECF_JOB '/home/map/ecflow_server/adm/user/admin.job0'\n",
      "      # edit ECF_SCRIPT '/home/map/ecflow_server/adm/user/admin.ecg'\n",
      "      # edit ECF_JOBOUT '/home/map/ecflow_server/adm/user/admin.0'\n",
      "      # edit ECF_TRYNO '0'\n",
      "      # edit ECF_RID ''\n",
      "      # edit ECF_NAME '/adm/user/admin'\n",
      "      # edit ECF_PASS ''\n",
      "      label info \"\"\n",
      "  endfamily\n",
      "  family daily # state:queued\n",
      "    # edit FAMILY 'daily'\n",
      "    # edit FAMILY1 'daily'\n",
      "    task cmd # state:queued\n",
      "      edit CMD 'ecflow_client'\n",
      "      edit ARGS '--log=new'\n",
      "      # edit TASK 'cmd'\n",
      "      # edit ECF_JOB '/home/map/ecflow_server/adm/daily/cmd.job0'\n",
      "      # edit ECF_SCRIPT '/home/map/ecflow_server/adm/daily/cmd.ecg'\n",
      "      # edit ECF_JOBOUT '/home/map/ecflow_server/adm/daily/cmd.0'\n",
      "      # edit ECF_TRYNO '0'\n",
      "      # edit ECF_RID ''\n",
      "      # edit ECF_NAME '/adm/daily/cmd'\n",
      "      # edit ECF_PASS ''\n",
      "      cron 06:00 # isValid:false\n",
      "  endfamily\n",
      "endsuite\n",
      "suite course # flag:message\n",
      "  defstatus suspended\n",
      "  repeat date YMD 20180101 20321212 1\n",
      "  edit ECF_HOME '/home/map/ecflow_server'\n",
      "  edit ECF_EXTN '.ecf'\n",
      "  edit ECF_INCLUDE '/home/map/ecflow_server/include'\n",
      "  edit ECF_FILES '/home/map/ecflow_server/files'\n",
      "  # edit YMD_YYYY '2018'\n",
      "  # edit YMD_MM '1'\n",
      "  # edit YMD_DD '1'\n",
      "  # edit YMD_DOW '1'\n",
      "  # edit YMD_JULIAN '2458120'\n",
      "  # edit YMD '20180101'\n",
      "  # edit SUITE 'course'\n",
      "  # edit ECF_DATE ''\n",
      "  # edit YYYY ''\n",
      "  # edit DOW ''\n",
      "  # edit DOY ''\n",
      "  # edit DATE ''\n",
      "  # edit DAY ''\n",
      "  # edit DD ''\n",
      "  # edit MM ''\n",
      "  # edit MONTH ''\n",
      "  # edit ECF_CLOCK ''\n",
      "  # edit ECF_TIME ''\n",
      "  # edit ECF_JULIAN ''\n",
      "  # edit TIME ''\n",
      "  calendar initTime:2019-Jan-15 21:33:43 suiteTime:2019-Jan-15 21:33:43 duration:00:00:00 initLocalTime:2019-Jan-15 21:33:43 lastTime:2019-Jan-15 21:33:43 calendarIncrement:00:01:00\n",
      "  task acquisition\n",
      "    # edit TASK 'acquisition'\n",
      "    # edit ECF_JOB '/home/map/ecflow_server/course/acquisition.job0'\n",
      "    # edit ECF_SCRIPT '/home/map/ecflow_server/course/acquisition.ecf'\n",
      "    # edit ECF_JOBOUT '/home/map/ecflow_server/course/acquisition.0'\n",
      "    # edit ECF_TRYNO '0'\n",
      "    # edit ECF_RID ''\n",
      "    # edit ECF_NAME '/course/acquisition'\n",
      "    # edit ECF_PASS ''\n",
      "    event 1 \n",
      "  family ensemble\n",
      "    complete acquisition:1\n",
      "      # AstTop\n",
      "          # acquisition:1 (event 1  value(0)  used(0))\n",
      "    # edit FAMILY 'ensemble'\n",
      "    # edit FAMILY1 'ensemble'\n",
      "    family 00\n",
      "      edit ID '0'\n",
      "      # edit FAMILY 'ensemble/00'\n",
      "      # edit FAMILY1 '00'\n",
      "      task model\n",
      "        trigger ../../acquisition eq complete\n",
      "          # AstTop\n",
      "            # EQUAL   evaluate(0)\n",
      "              # LEAF_NODE node_(Found) nodePath_('../../acquisition') unknown(0)\n",
      "              # LEAF_NODE_STATE complete(1)\n",
      "        edit FCLENGTH '360'\n",
      "        # edit TASK 'model'\n",
      "        # edit ECF_JOB '/home/map/ecflow_server/course/ensemble/00/model.job0'\n",
      "        # edit ECF_SCRIPT '/home/map/ecflow_server/course/ensemble/00/model.ecf'\n",
      "        # edit ECF_JOBOUT '/home/map/ecflow_server/course/ensemble/00/model.0'\n",
      "        # edit ECF_TRYNO '0'\n",
      "        # edit ECF_RID ''\n",
      "        # edit ECF_NAME '/course/ensemble/00/model'\n",
      "        # edit ECF_PASS ''\n",
      "        label info \"\"\n",
      "        meter step -1 360 360\n",
      "    endfamily\n",
      "    family 01\n",
      "      edit ID '1'\n",
      "      # edit FAMILY 'ensemble/01'\n",
      "      # edit FAMILY1 '01'\n",
      "      task model\n",
      "        trigger ../../acquisition eq complete\n",
      "          # AstTop\n",
      "            # EQUAL   evaluate(0)\n",
      "              # LEAF_NODE node_(Found) nodePath_('../../acquisition') unknown(0)\n",
      "              # LEAF_NODE_STATE complete(1)\n",
      "        edit FCLENGTH '360'\n",
      "        # edit TASK 'model'\n",
      "        # edit ECF_JOB '/home/map/ecflow_server/course/ensemble/01/model.job0'\n",
      "        # edit ECF_SCRIPT '/home/map/ecflow_server/course/ensemble/01/model.ecf'\n",
      "        # edit ECF_JOBOUT '/home/map/ecflow_server/course/ensemble/01/model.0'\n",
      "        # edit ECF_TRYNO '0'\n",
      "        # edit ECF_RID ''\n",
      "        # edit ECF_NAME '/course/ensemble/01/model'\n",
      "        # edit ECF_PASS ''\n",
      "        label info \"\"\n",
      "        meter step -1 360 360\n",
      "    endfamily\n",
      "    family 02\n",
      "      edit ID '2'\n",
      "      # edit FAMILY 'ensemble/02'\n",
      "      # edit FAMILY1 '02'\n",
      "      task model\n",
      "        trigger ../../acquisition eq complete\n",
      "          # AstTop\n",
      "            # EQUAL   evaluate(0)\n",
      "              # LEAF_NODE node_(Found) nodePath_('../../acquisition') unknown(0)\n",
      "              # LEAF_NODE_STATE complete(1)\n",
      "        edit FCLENGTH '360'\n",
      "        # edit TASK 'model'\n",
      "        # edit ECF_JOB '/home/map/ecflow_server/course/ensemble/02/model.job0'\n",
      "        # edit ECF_SCRIPT '/home/map/ecflow_server/course/ensemble/02/model.ecf'\n",
      "        # edit ECF_JOBOUT '/home/map/ecflow_server/course/ensemble/02/model.0'\n",
      "        # edit ECF_TRYNO '0'\n",
      "        # edit ECF_RID ''\n",
      "        # edit ECF_NAME '/course/ensemble/02/model'\n",
      "        # edit ECF_PASS ''\n",
      "        label info \"\"\n",
      "        meter step -1 360 360\n",
      "    endfamily\n",
      "    family 03\n",
      "      edit ID '3'\n",
      "      # edit FAMILY 'ensemble/03'\n",
      "      # edit FAMILY1 '03'\n",
      "      task model\n",
      "        trigger ../../acquisition eq complete\n",
      "          # AstTop\n",
      "            # EQUAL   evaluate(0)\n",
      "              # LEAF_NODE node_(Found) nodePath_('../../acquisition') unknown(0)\n",
      "              # LEAF_NODE_STATE complete(1)\n",
      "        edit FCLENGTH '360'\n",
      "        # edit TASK 'model'\n",
      "        # edit ECF_JOB '/home/map/ecflow_server/course/ensemble/03/model.job0'\n",
      "        # edit ECF_SCRIPT '/home/map/ecflow_server/course/ensemble/03/model.ecf'\n",
      "        # edit ECF_JOBOUT '/home/map/ecflow_server/course/ensemble/03/model.0'\n",
      "        # edit ECF_TRYNO '0'\n",
      "        # edit ECF_RID ''\n",
      "        # edit ECF_NAME '/course/ensemble/03/model'\n",
      "        # edit ECF_PASS ''\n",
      "        label info \"\"\n",
      "        meter step -1 360 360\n",
      "    endfamily\n",
      "    family 04\n",
      "      edit ID '4'\n",
      "      # edit FAMILY 'ensemble/04'\n",
      "      # edit FAMILY1 '04'\n",
      "      task model\n",
      "        trigger ../../acquisition eq complete\n",
      "          # AstTop\n",
      "            # EQUAL   evaluate(0)\n",
      "              # LEAF_NODE node_(Found) nodePath_('../../acquisition') unknown(0)\n",
      "              # LEAF_NODE_STATE complete(1)\n",
      "        edit FCLENGTH '360'\n",
      "        # edit TASK 'model'\n",
      "        # edit ECF_JOB '/home/map/ecflow_server/course/ensemble/04/model.job0'\n",
      "        # edit ECF_SCRIPT '/home/map/ecflow_server/course/ensemble/04/model.ecf'\n",
      "        # edit ECF_JOBOUT '/home/map/ecflow_server/course/ensemble/04/model.0'\n",
      "        # edit ECF_TRYNO '0'\n",
      "        # edit ECF_RID ''\n",
      "        # edit ECF_NAME '/course/ensemble/04/model'\n",
      "        # edit ECF_PASS ''\n",
      "        label info \"\"\n",
      "        meter step -1 360 360\n",
      "    endfamily\n",
      "    family 05\n",
      "      edit ID '5'\n",
      "      # edit FAMILY 'ensemble/05'\n",
      "      # edit FAMILY1 '05'\n",
      "      task model\n",
      "        trigger ../../acquisition eq complete\n",
      "          # AstTop\n",
      "            # EQUAL   evaluate(0)\n",
      "              # LEAF_NODE node_(Found) nodePath_('../../acquisition') unknown(0)\n",
      "              # LEAF_NODE_STATE complete(1)\n",
      "        edit FCLENGTH '360'\n",
      "        # edit TASK 'model'\n",
      "        # edit ECF_JOB '/home/map/ecflow_server/course/ensemble/05/model.job0'\n",
      "        # edit ECF_SCRIPT '/home/map/ecflow_server/course/ensemble/05/model.ecf'\n",
      "        # edit ECF_JOBOUT '/home/map/ecflow_server/course/ensemble/05/model.0'\n",
      "        # edit ECF_TRYNO '0'\n",
      "        # edit ECF_RID ''\n",
      "        # edit ECF_NAME '/course/ensemble/05/model'\n",
      "        # edit ECF_PASS ''\n",
      "        label info \"\"\n",
      "        meter step -1 360 360\n",
      "    endfamily\n",
      "    family 06\n",
      "      edit ID '6'\n",
      "      # edit FAMILY 'ensemble/06'\n",
      "      # edit FAMILY1 '06'\n",
      "      task model\n",
      "        trigger ../../acquisition eq complete\n",
      "          # AstTop\n",
      "            # EQUAL   evaluate(0)\n",
      "              # LEAF_NODE node_(Found) nodePath_('../../acquisition') unknown(0)\n",
      "              # LEAF_NODE_STATE complete(1)\n",
      "        edit FCLENGTH '360'\n",
      "        # edit TASK 'model'\n",
      "        # edit ECF_JOB '/home/map/ecflow_server/course/ensemble/06/model.job0'\n",
      "        # edit ECF_SCRIPT '/home/map/ecflow_server/course/ensemble/06/model.ecf'\n",
      "        # edit ECF_JOBOUT '/home/map/ecflow_server/course/ensemble/06/model.0'\n",
      "        # edit ECF_TRYNO '0'\n",
      "        # edit ECF_RID ''\n",
      "        # edit ECF_NAME '/course/ensemble/06/model'\n",
      "        # edit ECF_PASS ''\n",
      "        label info \"\"\n",
      "        meter step -1 360 360\n",
      "    endfamily\n",
      "    family 07\n",
      "      edit ID '7'\n",
      "      # edit FAMILY 'ensemble/07'\n",
      "      # edit FAMILY1 '07'\n",
      "      task model\n",
      "        trigger ../../acquisition eq complete\n",
      "          # AstTop\n",
      "            # EQUAL   evaluate(0)\n",
      "              # LEAF_NODE node_(Found) nodePath_('../../acquisition') unknown(0)\n",
      "              # LEAF_NODE_STATE complete(1)\n",
      "        edit FCLENGTH '360'\n",
      "        # edit TASK 'model'\n",
      "        # edit ECF_JOB '/home/map/ecflow_server/course/ensemble/07/model.job0'\n",
      "        # edit ECF_SCRIPT '/home/map/ecflow_server/course/ensemble/07/model.ecf'\n",
      "        # edit ECF_JOBOUT '/home/map/ecflow_server/course/ensemble/07/model.0'\n",
      "        # edit ECF_TRYNO '0'\n",
      "        # edit ECF_RID ''\n",
      "        # edit ECF_NAME '/course/ensemble/07/model'\n",
      "        # edit ECF_PASS ''\n",
      "        label info \"\"\n",
      "        meter step -1 360 360\n",
      "    endfamily\n",
      "    family 08\n",
      "      edit ID '8'\n",
      "      # edit FAMILY 'ensemble/08'\n",
      "      # edit FAMILY1 '08'\n",
      "      task model\n",
      "        trigger ../../acquisition eq complete\n",
      "          # AstTop\n",
      "            # EQUAL   evaluate(0)\n",
      "              # LEAF_NODE node_(Found) nodePath_('../../acquisition') unknown(0)\n",
      "              # LEAF_NODE_STATE complete(1)\n",
      "        edit FCLENGTH '360'\n",
      "        # edit TASK 'model'\n",
      "        # edit ECF_JOB '/home/map/ecflow_server/course/ensemble/08/model.job0'\n",
      "        # edit ECF_SCRIPT '/home/map/ecflow_server/course/ensemble/08/model.ecf'\n",
      "        # edit ECF_JOBOUT '/home/map/ecflow_server/course/ensemble/08/model.0'\n",
      "        # edit ECF_TRYNO '0'\n",
      "        # edit ECF_RID ''\n",
      "        # edit ECF_NAME '/course/ensemble/08/model'\n",
      "        # edit ECF_PASS ''\n",
      "        label info \"\"\n",
      "        meter step -1 360 360\n",
      "    endfamily\n",
      "    family 09\n",
      "      edit ID '9'\n",
      "      # edit FAMILY 'ensemble/09'\n",
      "      # edit FAMILY1 '09'\n",
      "      task model\n",
      "        trigger ../../acquisition eq complete\n",
      "          # AstTop\n",
      "            # EQUAL   evaluate(0)\n",
      "              # LEAF_NODE node_(Found) nodePath_('../../acquisition') unknown(0)\n",
      "              # LEAF_NODE_STATE complete(1)\n",
      "        edit FCLENGTH '360'\n",
      "        # edit TASK 'model'\n",
      "        # edit ECF_JOB '/home/map/ecflow_server/course/ensemble/09/model.job0'\n",
      "        # edit ECF_SCRIPT '/home/map/ecflow_server/course/ensemble/09/model.ecf'\n",
      "        # edit ECF_JOBOUT '/home/map/ecflow_server/course/ensemble/09/model.0'\n",
      "        # edit ECF_TRYNO '0'\n",
      "        # edit ECF_RID ''\n",
      "        # edit ECF_NAME '/course/ensemble/09/model'\n",
      "        # edit ECF_PASS ''\n",
      "        label info \"\"\n",
      "        meter step -1 360 360\n",
      "    endfamily\n",
      "  endfamily\n",
      "  task model\n",
      "    trigger acquisition eq complete\n",
      "      # AstTop\n",
      "        # EQUAL   evaluate(0)\n",
      "          # LEAF_NODE node_(Found) nodePath_('acquisition') unknown(0)\n",
      "          # LEAF_NODE_STATE complete(1)\n",
      "    edit FCLENGTH '240'\n",
      "    # edit TASK 'model'\n",
      "    # edit ECF_JOB '/home/map/ecflow_server/course/model.job0'\n",
      "    # edit ECF_SCRIPT '/home/map/ecflow_server/course/model.ecf'\n",
      "    # edit ECF_JOBOUT '/home/map/ecflow_server/course/model.0'\n",
      "    # edit ECF_TRYNO '0'\n",
      "    # edit ECF_RID ''\n",
      "    # edit ECF_NAME '/course/model'\n",
      "    # edit ECF_PASS ''\n",
      "    label info \"\"\n",
      "    meter step -1 240 240\n",
      "  task postproc\n",
      "    trigger model eq complete\n",
      "      # AstTop\n",
      "        # EQUAL   evaluate(0)\n",
      "          # LEAF_NODE node_(Found) nodePath_('model') unknown(0)\n",
      "          # LEAF_NODE_STATE complete(1)\n",
      "    # edit TASK 'postproc'\n",
      "    # edit ECF_JOB '/home/map/ecflow_server/course/postproc.job0'\n",
      "    # edit ECF_SCRIPT '/home/map/ecflow_server/course/postproc.ecf'\n",
      "    # edit ECF_JOBOUT '/home/map/ecflow_server/course/postproc.0'\n",
      "    # edit ECF_TRYNO '0'\n",
      "    # edit ECF_RID ''\n",
      "    # edit ECF_NAME '/course/postproc'\n",
      "    # edit ECF_PASS ''\n",
      "    label info \"\"\n",
      "endsuite\n",
      "# enddef\n",
      "\n"
     ]
    }
   ],
   "source": [
    "%run src/el15_checking_the_result.py"
   ]
  },
  {
   "cell_type": "markdown",
   "metadata": {},
   "source": [
    "## Delete-Load-Begin a suite... or just replace a node"
   ]
  },
  {
   "cell_type": "code",
   "execution_count": null,
   "metadata": {},
   "outputs": [],
   "source": [
    "%run src/el16_client_load.py\n",
    "%pycat src/el16_client_load.py"
   ]
  },
  {
   "cell_type": "markdown",
   "metadata": {},
   "source": [
    "- **restart_server** is issued from the Python client, or from the GUI, **once**, so that jobs can be submitted.\n",
    "- **begin_suite** must be issued each time the suite is loaded. To prevent that, **replace** is sometimes preferred. load would not overwrite a suite already existing on the server and would report an error. Sometimes, **delete** is called on the live suite, to clear the path to the incoming **load**."
   ]
  },
  {
   "cell_type": "markdown",
   "metadata": {
    "collapsed": true,
    "slideshow": {
     "slide_type": "slide"
    }
   },
   "source": [
    "# Going Further"
   ]
  },
  {
   "cell_type": "markdown",
   "metadata": {},
   "source": [
    "## Add a task"
   ]
  },
  {
   "cell_type": "code",
   "execution_count": 23,
   "metadata": {},
   "outputs": [
    {
     "name": "stdout",
     "output_type": "stream",
     "text": [
      "Creating suite definition\n",
      "replaced node /elearning/t2 into localhost 2500\n"
     ]
    }
   ],
   "source": [
    "%run src/el21_add_another_task.py"
   ]
  },
  {
   "cell_type": "code",
   "execution_count": 24,
   "metadata": {},
   "outputs": [],
   "source": [
    "%pycat src/el21_add_another_task.py"
   ]
  },
  {
   "cell_type": "markdown",
   "metadata": {
    "slideshow": {
     "slide_type": "slide"
    }
   },
   "source": [
    "## Add a family"
   ]
  },
  {
   "cell_type": "code",
   "execution_count": 25,
   "metadata": {},
   "outputs": [
    {
     "name": "stdout",
     "output_type": "stream",
     "text": [
      "Creating suite definition\n",
      "replaced node /elearning into localhost 2500\n"
     ]
    }
   ],
   "source": [
    "%run src/el22_add_families.py"
   ]
  },
  {
   "cell_type": "code",
   "execution_count": 26,
   "metadata": {},
   "outputs": [],
   "source": [
    "%pycat src/el22_add_families.py"
   ]
  },
  {
   "cell_type": "markdown",
   "metadata": {
    "slideshow": {
     "slide_type": "slide"
    }
   },
   "source": [
    "## Add variables"
   ]
  },
  {
   "cell_type": "markdown",
   "metadata": {},
   "source": [
    "Variables are essential to a suite. They are attached to a node as an **attribute** (keyword edit in text defintion file, the native ecflow API is node.add_variable(\"NAME\", \"value\") and ecf.py used in this tutorial defines them with node.add(Variables(a_dictionnary)).\n",
    "\n",
    "When preprocessing the task script to generate the job, ecFlow server replace each occurence of a variable (name surrounded by the % ECF_MICRO character) with its value.\n",
    "\n",
    "A task may inherit a variable from a parent node, or overwrite the inherited value, defining it again."
   ]
  },
  {
   "cell_type": "code",
   "execution_count": 27,
   "metadata": {},
   "outputs": [
    {
     "name": "stdout",
     "output_type": "stream",
     "text": [
      "replaced node /elearning into localhost 2500\n"
     ]
    }
   ],
   "source": [
    "%run src/el23_add_variable.py"
   ]
  },
  {
   "cell_type": "code",
   "execution_count": 28,
   "metadata": {},
   "outputs": [],
   "source": [
    "%pycat src/el23_add_variable.py"
   ]
  },
  {
   "cell_type": "markdown",
   "metadata": {
    "slideshow": {
     "slide_type": "slide"
    }
   },
   "source": [
    "## Add Trigger"
   ]
  },
  {
   "cell_type": "markdown",
   "metadata": {},
   "source": [
    "The Trigger attribute will prevent the task to run until its expression is true.\n",
    "\n",
    "The expression may contain reference to other nodes for their status, it may reference variables, events, meters, limits.\n",
    "\n",
    "It is possible to inhibit triggers in a suite setting \"ecf.USE_TRIGGER=False\", when we design a suite, and few trigger expression refer to \"missing\" nodes."
   ]
  },
  {
   "cell_type": "code",
   "execution_count": 29,
   "metadata": {},
   "outputs": [
    {
     "name": "stdout",
     "output_type": "stream",
     "text": [
      "replaced node /elearning/f1 into localhost 2500\n"
     ]
    }
   ],
   "source": [
    "%run src/el24_add_trigger.py\n",
    "%pycat src/el24_add_trigger.py"
   ]
  },
  {
   "cell_type": "markdown",
   "metadata": {},
   "source": [
    "## Add Complete"
   ]
  },
  {
   "cell_type": "markdown",
   "metadata": {},
   "source": [
    "The Complete attribute is the counterpart of trigger. It will set the task complete as soon as the expresssion is true, so that the job may not have to run."
   ]
  },
  {
   "cell_type": "code",
   "execution_count": 31,
   "metadata": {},
   "outputs": [
    {
     "name": "stdout",
     "output_type": "stream",
     "text": [
      "replaced node /elearning into localhost 2500\n"
     ]
    }
   ],
   "source": [
    "%run src/el26_add_complete.py\n",
    "%pycat src/el26_add_complete.py"
   ]
  },
  {
   "cell_type": "markdown",
   "metadata": {
    "slideshow": {
     "slide_type": "slide"
    }
   },
   "source": [
    "## Add Event"
   ]
  },
  {
   "cell_type": "markdown",
   "metadata": {},
   "source": [
    "The event is created as an attribute attached to a node (Task, Family) and updated (set) \n",
    "- by the job calling the \"ecflow_client --event\" command\n",
    "- or a user, using the command \"ecflow_client --alter change event\""
   ]
  },
  {
   "cell_type": "code",
   "execution_count": 33,
   "metadata": {},
   "outputs": [
    {
     "name": "stdout",
     "output_type": "stream",
     "text": [
      "replaced node /elearning into localhost 2500\n"
     ]
    }
   ],
   "source": [
    "%run src/el27_add_event.py\n",
    "%pycat src/el27_add_event.py"
   ]
  },
  {
   "cell_type": "markdown",
   "metadata": {
    "slideshow": {
     "slide_type": "slide"
    }
   },
   "source": [
    "## Add Meter"
   ]
  },
  {
   "cell_type": "markdown",
   "metadata": {},
   "source": [
    "The Meter attribute is attached to a Task (or a Family) so that the job (or client) can update its integer value."
   ]
  },
  {
   "cell_type": "code",
   "execution_count": 35,
   "metadata": {},
   "outputs": [
    {
     "name": "stdout",
     "output_type": "stream",
     "text": [
      "<_io.TextIOWrapper name='/home/map/ecflow_server/files/t1.ecf' mode='w' encoding='UTF-8'>\n",
      "<_io.TextIOWrapper name='/home/map/ecflow_server/files/t2.ecf' mode='w' encoding='UTF-8'>\n",
      "<_io.TextIOWrapper name='/home/map/ecflow_server/files/t3.ecf' mode='w' encoding='UTF-8'>\n",
      "<_io.TextIOWrapper name='/home/map/ecflow_server/files/t4.ecf' mode='w' encoding='UTF-8'>\n",
      "<_io.TextIOWrapper name='/home/map/ecflow_server/files/t5.ecf' mode='w' encoding='UTF-8'>\n",
      "<_io.TextIOWrapper name='/home/map/ecflow_server/files/t6.ecf' mode='w' encoding='UTF-8'>\n",
      "<_io.TextIOWrapper name='/home/map/ecflow_server/files/t7.ecf' mode='w' encoding='UTF-8'>\n",
      "replaced node /elearning/f2 into localhost 2500\n"
     ]
    }
   ],
   "source": [
    "%run src/el28_add_meter.py"
   ]
  },
  {
   "cell_type": "markdown",
   "metadata": {
    "slideshow": {
     "slide_type": "slide"
    }
   },
   "source": [
    "## Add Date and Time"
   ]
  },
  {
   "cell_type": "markdown",
   "metadata": {},
   "source": [
    "The Date attribute holds the job to run until the date is achieved. \n",
    "\n",
    "A Time attribute prevents the job to be submitted immediately. It can be one value (ex 10:00), or a range of time (with an interval, ). Multiple Time attributes can be attached to the same node. Be careful, that, until the last occurence is met, the task is immediately requeued, so that there should not be any trigger referring to the task complete...\n",
    "\n",
    "When Date and Time are associated, Date holds first, then the Task wait for the Time to start.\n",
    "\n",
    "When a parent node is **suspended**, it is not enough for a date or time condition to fall. Yet the task will not start until the suspended node is **resumed**. Some may say these attribute have memory. the **why** command/Panel will show when the next expected task occurence is. The **requeue** command will 'restore consumed token' when the task was **executed** (forced to run) manually with the GUI.\n",
    "\n",
    "We can attach these attributes to a dummy task and refer to it with a trigger in many cases. That way the task, without time dependency directly attached, can be requeued, without reactivating the time condition."
   ]
  },
  {
   "cell_type": "code",
   "execution_count": 40,
   "metadata": {},
   "outputs": [
    {
     "name": "stdout",
     "output_type": "stream",
     "text": [
      "replaced node /elearning into localhost 2500\n"
     ]
    }
   ],
   "source": [
    "%run src/el29_add_time_date.py\n",
    "%pycat src/el29_add_time_date.py"
   ]
  },
  {
   "cell_type": "markdown",
   "metadata": {
    "slideshow": {
     "slide_type": "slide"
    }
   },
   "source": [
    "## Add Label"
   ]
  },
  {
   "cell_type": "markdown",
   "metadata": {},
   "source": [
    "A label is a text message attached to the task (or Family) which is updated by the task (or client)."
   ]
  },
  {
   "cell_type": "code",
   "execution_count": 42,
   "metadata": {},
   "outputs": [
    {
     "name": "stdout",
     "output_type": "stream",
     "text": [
      "replaced node /elearning into localhost 2500\n"
     ]
    }
   ],
   "source": [
    "%run src/el30_add_label.py\n",
    "%pycat src/el30_add_label.py"
   ]
  },
  {
   "cell_type": "markdown",
   "metadata": {
    "slideshow": {
     "slide_type": "slide"
    }
   },
   "source": [
    "## Add Repeat"
   ]
  },
  {
   "cell_type": "markdown",
   "metadata": {},
   "source": [
    "A Repeat is like a (for) loop at suite level. It gets incremented to the next value, once all nodes below get complete. It is an **active** attribute in the sense that it causes the nodes below to be requeued (default status, event and meter reset) when the increment occurs."
   ]
  },
  {
   "cell_type": "code",
   "execution_count": 44,
   "metadata": {},
   "outputs": [
    {
     "name": "stdout",
     "output_type": "stream",
     "text": [
      "replaced node /elearning/f5 into localhost 2500\n"
     ]
    }
   ],
   "source": [
    "%run src/el31_add_repeat.py\n",
    "%pycat src/el31_add_repeat.py"
   ]
  },
  {
   "cell_type": "markdown",
   "metadata": {
    "slideshow": {
     "slide_type": "slide"
    }
   },
   "source": [
    "## Add Limit and Inlimit"
   ]
  },
  {
   "cell_type": "markdown",
   "metadata": {},
   "source": [
    "A limit may prevent jobs to be submitted immediately. It can represent a mutex (value 1) or a semaphore.\n",
    "\n",
    "The Inlimit attribute registers to a limit."
   ]
  },
  {
   "cell_type": "code",
   "execution_count": 51,
   "metadata": {},
   "outputs": [
    {
     "name": "stdout",
     "output_type": "stream",
     "text": [
      "replaced node /elearning/f5 into localhost 2500\n"
     ]
    }
   ],
   "source": [
    "%run src/el32_add_limit.py\n",
    "%pycat src/el32_add_limit.py"
   ]
  },
  {
   "cell_type": "markdown",
   "metadata": {
    "slideshow": {
     "slide_type": "slide"
    }
   },
   "source": [
    "## Add Limit Inlimit"
   ]
  },
  {
   "cell_type": "code",
   "execution_count": 53,
   "metadata": {},
   "outputs": [
    {
     "name": "stdout",
     "output_type": "stream",
     "text": [
      "replaced node /elearning/f5 into localhost 2500\n"
     ]
    }
   ],
   "source": [
    "%run src/el32_add_limit.py\n",
    "%pycat src/el32_add_limit.py"
   ]
  },
  {
   "cell_type": "markdown",
   "metadata": {},
   "source": [
    "## Add Late"
   ]
  },
  {
   "cell_type": "code",
   "execution_count": 55,
   "metadata": {},
   "outputs": [
    {
     "name": "stdout",
     "output_type": "stream",
     "text": [
      "replaced node /elearning/f5 into localhost 2500\n"
     ]
    }
   ],
   "source": [
    "%run src/el33_add_late.py"
   ]
  },
  {
   "cell_type": "markdown",
   "metadata": {},
   "source": [
    "Late is an attribute which may cause a poping window, to catch attention, when a job remains in submit, or active status for too long, or when complete is not reached in time. In order to really catch attention, some might prefer a **watchdog**, a dedicated task, which turns aborted, beyond a given threshold, or quietly becomes complete, thanks to a Time and Complete attribute."
   ]
  },
  {
   "cell_type": "markdown",
   "metadata": {
    "collapsed": true,
    "slideshow": {
     "slide_type": "slide"
    }
   },
   "source": [
    "## Debug a task with an Alias"
   ]
  },
  {
   "cell_type": "markdown",
   "metadata": {},
   "source": [
    "[alias](anim/ecflow_alias.mp4)"
   ]
  },
  {
   "cell_type": "markdown",
   "metadata": {
    "slideshow": {
     "slide_type": "slide"
    }
   },
   "source": [
    "# Exercises"
   ]
  },
  {
   "cell_type": "markdown",
   "metadata": {},
   "source": [
    "## Data Acquisition suite example"
   ]
  },
  {
   "cell_type": "code",
   "execution_count": 56,
   "metadata": {},
   "outputs": [
    {
     "name": "stdout",
     "output_type": "stream",
     "text": [
      "Defs file data_acquisition.def\n",
      "  suite '/data_acquisition has not completed\n",
      "Please see files .flat and .depth for analysis\n",
      "# 4.12.0\n",
      "defs_state MIGRATE\n",
      "  edit ECF_MICRO '%' # server\n",
      "  edit ECF_HOME '.' # server\n",
      "  edit ECF_JOB_CMD '%ECF_JOB% 1> %ECF_JOBOUT% 2>&1' # server\n",
      "  edit ECF_KILL_CMD 'kill -15 %ECF_RID%' # server\n",
      "  edit ECF_STATUS_CMD 'ps --pid %ECF_RID% -f > %ECF_JOB%.stat 2>&1' # server\n",
      "  edit ECF_URL_CMD '${BROWSER:=firefox} -remote 'openURL(%ECF_URL_BASE%/%ECF_URL%)'' # server\n",
      "  edit ECF_URL_BASE 'https://software.ecmwf.int' # server\n",
      "  edit ECF_URL 'wiki/display/ECFLOW/Home' # server\n",
      "  edit ECF_LOG 'eowyn.3141.ecf.log' # server\n",
      "  edit ECF_INTERVAL '60' # server\n",
      "  edit ECF_LISTS 'eowyn.3141.ecf.lists' # server\n",
      "  edit ECF_CHECK 'eowyn.3141.ecf.check' # server\n",
      "  edit ECF_CHECKOLD 'eowyn.3141.ecf.check.b' # server\n",
      "  edit ECF_CHECKINTERVAL '120' # server\n",
      "  edit ECF_CHECKMODE 'CHECK_ON_TIME' # server\n",
      "  edit ECF_TRIES '2' # server\n",
      "  edit ECF_VERSION '4.12.0' # server\n",
      "  edit ECF_PORT '3141' # server\n",
      "  edit ECF_NODE '%ECF_HOST%' # server\n",
      "  edit ECF_HOST 'localhost' # server\n",
      "suite data_acquisition #  begun:1 state:queued suspended:1\n",
      "  defstatus suspended\n",
      "  repeat day 1\n",
      "  edit ECF_HOME '/home/map/ecflow_course'\n",
      "  edit SLEEP '2'\n",
      "  edit ECF_FILES '/home/map/ecflow_course/acq'\n",
      "  edit ECF_INCLUDE '/home/map/ecflow_course'\n",
      "  calendar initTime:2019-Jan-15 21:39:34 suiteTime:2020-Jan-15 21:39:34 duration:8760:00:00 initLocalTime:2019-Jan-15 21:39:34 lastTime:2019-Jan-15 21:39:34 calendarIncrement:00:01:00\n",
      "  family Exeter # state:queued\n",
      "    family archive # state:queued\n",
      "      family observations # state:queued\n",
      "        time 00:00 23:00 01:00 # free nextTimeSlot/22:00\n",
      "        task get # state:queued\n",
      "          label info \"\"\n",
      "        task process # state:queued\n",
      "          trigger get eq complete\n",
      "        task store # state:queued\n",
      "          trigger get eq complete\n",
      "      endfamily\n",
      "      family fields # state:queued\n",
      "        time 00:00 23:00 01:00 # free nextTimeSlot/22:00\n",
      "        task get # state:queued\n",
      "          label info \"\"\n",
      "        task process # state:queued\n",
      "          trigger get eq complete\n",
      "        task store # state:queued\n",
      "          trigger get eq complete\n",
      "      endfamily\n",
      "      family images # state:queued\n",
      "        time 00:00 23:00 01:00 # free nextTimeSlot/22:00\n",
      "        task get # state:queued\n",
      "          label info \"\"\n",
      "        task process # state:queued\n",
      "          trigger get eq complete\n",
      "        task store # state:queued\n",
      "          trigger get eq complete\n",
      "      endfamily\n",
      "    endfamily\n",
      "  endfamily\n",
      "  family Toulouse # state:queued\n",
      "    family archive # state:queued\n",
      "      family observations # state:queued\n",
      "        time 00:00 23:00 01:00 # free nextTimeSlot/22:00\n",
      "        task get # state:queued\n",
      "          label info \"\"\n",
      "        task process # state:queued\n",
      "          trigger get eq complete\n",
      "        task store # state:queued\n",
      "          trigger get eq complete\n",
      "      endfamily\n",
      "      family fields # state:queued\n",
      "        time 00:00 23:00 01:00 # free nextTimeSlot/22:00\n",
      "        task get # state:queued\n",
      "          label info \"\"\n",
      "        task process # state:queued\n",
      "          trigger get eq complete\n",
      "        task store # state:queued\n",
      "          trigger get eq complete\n",
      "      endfamily\n",
      "      family images # state:queued\n",
      "        time 00:00 23:00 01:00 # free nextTimeSlot/22:00\n",
      "        task get # state:queued\n",
      "          label info \"\"\n",
      "        task process # state:queued\n",
      "          trigger get eq complete\n",
      "        task store # state:queued\n",
      "          trigger get eq complete\n",
      "      endfamily\n",
      "    endfamily\n",
      "  endfamily\n",
      "  family Offenbach # state:queued\n",
      "    family archive # state:queued\n",
      "      family observations # state:queued\n",
      "        time 00:00 23:00 01:00 # free nextTimeSlot/22:00\n",
      "        task get # state:queued\n",
      "          label info \"\"\n",
      "        task process # state:queued\n",
      "          trigger get eq complete\n",
      "        task store # state:queued\n",
      "          trigger get eq complete\n",
      "      endfamily\n",
      "      family fields # state:queued\n",
      "        time 00:00 23:00 01:00 # free nextTimeSlot/22:00\n",
      "        task get # state:queued\n",
      "          label info \"\"\n",
      "        task process # state:queued\n",
      "          trigger get eq complete\n",
      "        task store # state:queued\n",
      "          trigger get eq complete\n",
      "      endfamily\n",
      "      family images # state:queued\n",
      "        time 00:00 23:00 01:00 # free nextTimeSlot/22:00\n",
      "        task get # state:queued\n",
      "          label info \"\"\n",
      "        task process # state:queued\n",
      "          trigger get eq complete\n",
      "        task store # state:queued\n",
      "          trigger get eq complete\n",
      "      endfamily\n",
      "    endfamily\n",
      "  endfamily\n",
      "  family Washington # state:queued\n",
      "    family archive # state:queued\n",
      "      family observations # state:queued\n",
      "        time 00:00 23:00 03:00 # free\n",
      "        task get # state:queued\n",
      "          label info \"\"\n",
      "        task process # state:queued\n",
      "          trigger get eq complete\n",
      "        task store # state:queued\n",
      "          trigger get eq complete\n",
      "      endfamily\n",
      "      family fields # state:queued\n",
      "        time 00:00 23:00 03:00 # free\n",
      "        task get # state:queued\n",
      "          label info \"\"\n",
      "        task process # state:queued\n",
      "          trigger get eq complete\n",
      "        task store # state:queued\n",
      "          trigger get eq complete\n",
      "      endfamily\n",
      "      family images # state:queued\n",
      "        time 00:00 23:00 03:00 # free\n",
      "        task get # state:queued\n",
      "          label info \"\"\n",
      "        task process # state:queued\n",
      "          trigger get eq complete\n",
      "        task store # state:queued\n",
      "          trigger get eq complete\n",
      "      endfamily\n",
      "    endfamily\n",
      "  endfamily\n",
      "  family Tokyo # state:queued\n",
      "    family archive # state:queued\n",
      "      family observations # state:queued\n",
      "        time 12:00 # free\n",
      "        task get # state:queued\n",
      "          label info \"\"\n",
      "        task process # state:queued\n",
      "          trigger get eq complete\n",
      "        task store # state:queued\n",
      "          trigger get eq complete\n",
      "      endfamily\n",
      "      family fields # state:queued\n",
      "        time 12:00 # free\n",
      "        task get # state:queued\n",
      "          label info \"\"\n",
      "        task process # state:queued\n",
      "          trigger get eq complete\n",
      "        task store # state:queued\n",
      "          trigger get eq complete\n",
      "      endfamily\n",
      "      family images # state:queued\n",
      "        time 12:00 # free\n",
      "        task get # state:queued\n",
      "          label info \"\"\n",
      "        task process # state:queued\n",
      "          trigger get eq complete\n",
      "        task store # state:queued\n",
      "          trigger get eq complete\n",
      "      endfamily\n",
      "    endfamily\n",
      "  endfamily\n",
      "  family Melbourne # state:queued\n",
      "    family archive # state:queued\n",
      "      family observations # state:queued\n",
      "        day monday\n",
      "        task get # state:queued\n",
      "          label info \"\"\n",
      "        task process # state:queued\n",
      "          trigger get eq complete\n",
      "        task store # state:queued\n",
      "          trigger get eq complete\n",
      "      endfamily\n",
      "      family fields # state:queued\n",
      "        day monday\n",
      "        task get # state:queued\n",
      "          label info \"\"\n",
      "        task process # state:queued\n",
      "          trigger get eq complete\n",
      "        task store # state:queued\n",
      "          trigger get eq complete\n",
      "      endfamily\n",
      "      family images # state:queued\n",
      "        day monday\n",
      "        task get # state:queued\n",
      "          label info \"\"\n",
      "        task process # state:queued\n",
      "          trigger get eq complete\n",
      "        task store # state:queued\n",
      "          trigger get eq complete\n",
      "      endfamily\n",
      "    endfamily\n",
      "  endfamily\n",
      "  family Montreal # state:queued\n",
      "    family archive # state:queued\n",
      "      family observations # state:queued\n",
      "        date 1.*.*\n",
      "        task get # state:queued\n",
      "          label info \"\"\n",
      "        task process # state:queued\n",
      "          trigger get eq complete\n",
      "        task store # state:queued\n",
      "          trigger get eq complete\n",
      "      endfamily\n",
      "      family fields # state:queued\n",
      "        date 1.*.*\n",
      "        task get # state:queued\n",
      "          label info \"\"\n",
      "        task process # state:queued\n",
      "          trigger get eq complete\n",
      "        task store # state:queued\n",
      "          trigger get eq complete\n",
      "      endfamily\n",
      "      family images # state:queued\n",
      "        date 1.*.*\n",
      "        task get # state:queued\n",
      "          label info \"\"\n",
      "        task process # state:queued\n",
      "          trigger get eq complete\n",
      "        task store # state:queued\n",
      "          trigger get eq complete\n",
      "      endfamily\n",
      "    endfamily\n",
      "  endfamily\n",
      "endsuite\n",
      "# enddef\n",
      "\n"
     ]
    }
   ],
   "source": [
    "%run src/el41_data_acquisition.py\n",
    "%pycat src/el41_data_acquisition.py"
   ]
  },
  {
   "cell_type": "markdown",
   "metadata": {},
   "source": [
    "## Operational suite?"
   ]
  },
  {
   "cell_type": "code",
   "execution_count": 58,
   "metadata": {},
   "outputs": [
    {
     "name": "stdout",
     "output_type": "stream",
     "text": [
      "Defs file data_acquisition.def\n",
      "  suite '/data_acquisition has not completed\n",
      "Please see files .flat and .depth for analysis\n",
      "# 4.12.0\n",
      "defs_state MIGRATE\n",
      "  edit ECF_MICRO '%' # server\n",
      "  edit ECF_HOME '.' # server\n",
      "  edit ECF_JOB_CMD '%ECF_JOB% 1> %ECF_JOBOUT% 2>&1' # server\n",
      "  edit ECF_KILL_CMD 'kill -15 %ECF_RID%' # server\n",
      "  edit ECF_STATUS_CMD 'ps --pid %ECF_RID% -f > %ECF_JOB%.stat 2>&1' # server\n",
      "  edit ECF_URL_CMD '${BROWSER:=firefox} -remote 'openURL(%ECF_URL_BASE%/%ECF_URL%)'' # server\n",
      "  edit ECF_URL_BASE 'https://software.ecmwf.int' # server\n",
      "  edit ECF_URL 'wiki/display/ECFLOW/Home' # server\n",
      "  edit ECF_LOG 'eowyn.3141.ecf.log' # server\n",
      "  edit ECF_INTERVAL '60' # server\n",
      "  edit ECF_LISTS 'eowyn.3141.ecf.lists' # server\n",
      "  edit ECF_CHECK 'eowyn.3141.ecf.check' # server\n",
      "  edit ECF_CHECKOLD 'eowyn.3141.ecf.check.b' # server\n",
      "  edit ECF_CHECKINTERVAL '120' # server\n",
      "  edit ECF_CHECKMODE 'CHECK_ON_TIME' # server\n",
      "  edit ECF_TRIES '2' # server\n",
      "  edit ECF_VERSION '4.12.0' # server\n",
      "  edit ECF_PORT '3141' # server\n",
      "  edit ECF_NODE '%ECF_HOST%' # server\n",
      "  edit ECF_HOST 'localhost' # server\n",
      "suite data_acquisition #  begun:1 state:queued suspended:1\n",
      "  defstatus suspended\n",
      "  repeat day 1\n",
      "  edit ECF_HOME '/home/map/ecflow_course'\n",
      "  edit SLEEP '2'\n",
      "  edit ECF_FILES '/home/map/ecflow_course/acq'\n",
      "  edit ECF_INCLUDE '/home/map/ecflow_course'\n",
      "  calendar initTime:2019-Jan-15 21:39:41 suiteTime:2020-Jan-15 21:39:41 duration:8760:00:00 initLocalTime:2019-Jan-15 21:39:41 lastTime:2019-Jan-15 21:39:41 calendarIncrement:00:01:00\n",
      "  family Exeter # state:queued\n",
      "    family archive # state:queued\n",
      "      family observations # state:queued\n",
      "        time 00:00 23:00 01:00 # free nextTimeSlot/22:00\n",
      "        task get # state:queued\n",
      "          label info \"\"\n",
      "        task process # state:queued\n",
      "          trigger get eq complete\n",
      "        task store # state:queued\n",
      "          trigger get eq complete\n",
      "      endfamily\n",
      "      family fields # state:queued\n",
      "        time 00:00 23:00 01:00 # free nextTimeSlot/22:00\n",
      "        task get # state:queued\n",
      "          label info \"\"\n",
      "        task process # state:queued\n",
      "          trigger get eq complete\n",
      "        task store # state:queued\n",
      "          trigger get eq complete\n",
      "      endfamily\n",
      "      family images # state:queued\n",
      "        time 00:00 23:00 01:00 # free nextTimeSlot/22:00\n",
      "        task get # state:queued\n",
      "          label info \"\"\n",
      "        task process # state:queued\n",
      "          trigger get eq complete\n",
      "        task store # state:queued\n",
      "          trigger get eq complete\n",
      "      endfamily\n",
      "    endfamily\n",
      "  endfamily\n",
      "  family Toulouse # state:queued\n",
      "    family archive # state:queued\n",
      "      family observations # state:queued\n",
      "        time 00:00 23:00 01:00 # free nextTimeSlot/22:00\n",
      "        task get # state:queued\n",
      "          label info \"\"\n",
      "        task process # state:queued\n",
      "          trigger get eq complete\n",
      "        task store # state:queued\n",
      "          trigger get eq complete\n",
      "      endfamily\n",
      "      family fields # state:queued\n",
      "        time 00:00 23:00 01:00 # free nextTimeSlot/22:00\n",
      "        task get # state:queued\n",
      "          label info \"\"\n",
      "        task process # state:queued\n",
      "          trigger get eq complete\n",
      "        task store # state:queued\n",
      "          trigger get eq complete\n",
      "      endfamily\n",
      "      family images # state:queued\n",
      "        time 00:00 23:00 01:00 # free nextTimeSlot/22:00\n",
      "        task get # state:queued\n",
      "          label info \"\"\n",
      "        task process # state:queued\n",
      "          trigger get eq complete\n",
      "        task store # state:queued\n",
      "          trigger get eq complete\n",
      "      endfamily\n",
      "    endfamily\n",
      "  endfamily\n",
      "  family Offenbach # state:queued\n",
      "    family archive # state:queued\n",
      "      family observations # state:queued\n",
      "        time 00:00 23:00 01:00 # free nextTimeSlot/22:00\n",
      "        task get # state:queued\n",
      "          label info \"\"\n",
      "        task process # state:queued\n",
      "          trigger get eq complete\n",
      "        task store # state:queued\n",
      "          trigger get eq complete\n",
      "      endfamily\n",
      "      family fields # state:queued\n",
      "        time 00:00 23:00 01:00 # free nextTimeSlot/22:00\n",
      "        task get # state:queued\n",
      "          label info \"\"\n",
      "        task process # state:queued\n",
      "          trigger get eq complete\n",
      "        task store # state:queued\n",
      "          trigger get eq complete\n",
      "      endfamily\n",
      "      family images # state:queued\n",
      "        time 00:00 23:00 01:00 # free nextTimeSlot/22:00\n",
      "        task get # state:queued\n",
      "          label info \"\"\n",
      "        task process # state:queued\n",
      "          trigger get eq complete\n",
      "        task store # state:queued\n",
      "          trigger get eq complete\n",
      "      endfamily\n",
      "    endfamily\n",
      "  endfamily\n",
      "  family Washington # state:queued\n",
      "    family archive # state:queued\n",
      "      family observations # state:queued\n",
      "        time 00:00 23:00 03:00 # free\n",
      "        task get # state:queued\n",
      "          label info \"\"\n",
      "        task process # state:queued\n",
      "          trigger get eq complete\n",
      "        task store # state:queued\n",
      "          trigger get eq complete\n",
      "      endfamily\n",
      "      family fields # state:queued\n",
      "        time 00:00 23:00 03:00 # free\n",
      "        task get # state:queued\n",
      "          label info \"\"\n",
      "        task process # state:queued\n",
      "          trigger get eq complete\n",
      "        task store # state:queued\n",
      "          trigger get eq complete\n",
      "      endfamily\n",
      "      family images # state:queued\n",
      "        time 00:00 23:00 03:00 # free\n",
      "        task get # state:queued\n",
      "          label info \"\"\n",
      "        task process # state:queued\n",
      "          trigger get eq complete\n",
      "        task store # state:queued\n",
      "          trigger get eq complete\n",
      "      endfamily\n",
      "    endfamily\n",
      "  endfamily\n",
      "  family Tokyo # state:queued\n",
      "    family archive # state:queued\n",
      "      family observations # state:queued\n",
      "        time 12:00 # free\n",
      "        task get # state:queued\n",
      "          label info \"\"\n",
      "        task process # state:queued\n",
      "          trigger get eq complete\n",
      "        task store # state:queued\n",
      "          trigger get eq complete\n",
      "      endfamily\n",
      "      family fields # state:queued\n",
      "        time 12:00 # free\n",
      "        task get # state:queued\n",
      "          label info \"\"\n",
      "        task process # state:queued\n",
      "          trigger get eq complete\n",
      "        task store # state:queued\n",
      "          trigger get eq complete\n",
      "      endfamily\n",
      "      family images # state:queued\n",
      "        time 12:00 # free\n",
      "        task get # state:queued\n",
      "          label info \"\"\n",
      "        task process # state:queued\n",
      "          trigger get eq complete\n",
      "        task store # state:queued\n",
      "          trigger get eq complete\n",
      "      endfamily\n",
      "    endfamily\n",
      "  endfamily\n",
      "  family Melbourne # state:queued\n",
      "    family archive # state:queued\n",
      "      family observations # state:queued\n",
      "        day monday\n",
      "        task get # state:queued\n",
      "          label info \"\"\n",
      "        task process # state:queued\n",
      "          trigger get eq complete\n",
      "        task store # state:queued\n",
      "          trigger get eq complete\n",
      "      endfamily\n",
      "      family fields # state:queued\n",
      "        day monday\n",
      "        task get # state:queued\n",
      "          label info \"\"\n",
      "        task process # state:queued\n",
      "          trigger get eq complete\n",
      "        task store # state:queued\n",
      "          trigger get eq complete\n",
      "      endfamily\n",
      "      family images # state:queued\n",
      "        day monday\n",
      "        task get # state:queued\n",
      "          label info \"\"\n",
      "        task process # state:queued\n",
      "          trigger get eq complete\n",
      "        task store # state:queued\n",
      "          trigger get eq complete\n",
      "      endfamily\n",
      "    endfamily\n",
      "  endfamily\n",
      "  family Montreal # state:queued\n",
      "    family archive # state:queued\n",
      "      family observations # state:queued\n",
      "        date 1.*.*\n",
      "        task get # state:queued\n",
      "          label info \"\"\n",
      "        task process # state:queued\n",
      "          trigger get eq complete\n",
      "        task store # state:queued\n",
      "          trigger get eq complete\n",
      "      endfamily\n",
      "      family fields # state:queued\n",
      "        date 1.*.*\n",
      "        task get # state:queued\n",
      "          label info \"\"\n",
      "        task process # state:queued\n",
      "          trigger get eq complete\n",
      "        task store # state:queued\n",
      "          trigger get eq complete\n",
      "      endfamily\n",
      "      family images # state:queued\n",
      "        date 1.*.*\n",
      "        task get # state:queued\n",
      "          label info \"\"\n",
      "        task process # state:queued\n",
      "          trigger get eq complete\n",
      "        task store # state:queued\n",
      "          trigger get eq complete\n",
      "      endfamily\n",
      "    endfamily\n",
      "  endfamily\n",
      "endsuite\n",
      "# enddef\n",
      "\n"
     ]
    }
   ],
   "source": [
    "%run src/el41_data_acquisition.py > /dev/null 2>&1\n",
    "%pycat src/el41_data_acquisition.py"
   ]
  },
  {
   "cell_type": "markdown",
   "metadata": {},
   "source": [
    "## Back archiving"
   ]
  },
  {
   "cell_type": "code",
   "execution_count": 60,
   "metadata": {},
   "outputs": [
    {
     "name": "stdout",
     "output_type": "stream",
     "text": [
      "Defs file operational_suite.def\n",
      "  suite '/operational_suite has not completed\n",
      "Please see files .flat and .depth for analysis\n",
      "# 4.12.0\n",
      "defs_state MIGRATE\n",
      "  edit ECF_MICRO '%' # server\n",
      "  edit ECF_HOME '.' # server\n",
      "  edit ECF_JOB_CMD '%ECF_JOB% 1> %ECF_JOBOUT% 2>&1' # server\n",
      "  edit ECF_KILL_CMD 'kill -15 %ECF_RID%' # server\n",
      "  edit ECF_STATUS_CMD 'ps --pid %ECF_RID% -f > %ECF_JOB%.stat 2>&1' # server\n",
      "  edit ECF_URL_CMD '${BROWSER:=firefox} -remote 'openURL(%ECF_URL_BASE%/%ECF_URL%)'' # server\n",
      "  edit ECF_URL_BASE 'https://software.ecmwf.int' # server\n",
      "  edit ECF_URL 'wiki/display/ECFLOW/Home' # server\n",
      "  edit ECF_LOG 'eowyn.3141.ecf.log' # server\n",
      "  edit ECF_INTERVAL '60' # server\n",
      "  edit ECF_LISTS 'eowyn.3141.ecf.lists' # server\n",
      "  edit ECF_CHECK 'eowyn.3141.ecf.check' # server\n",
      "  edit ECF_CHECKOLD 'eowyn.3141.ecf.check.b' # server\n",
      "  edit ECF_CHECKINTERVAL '120' # server\n",
      "  edit ECF_CHECKMODE 'CHECK_ON_TIME' # server\n",
      "  edit ECF_TRIES '2' # server\n",
      "  edit ECF_VERSION '4.12.0' # server\n",
      "  edit ECF_PORT '3141' # server\n",
      "  edit ECF_NODE '%ECF_HOST%' # server\n",
      "  edit ECF_HOST 'localhost' # server\n",
      "suite operational_suite #  begun:1 state:queued suspended:1\n",
      "  defstatus suspended\n",
      "  repeat day 1\n",
      "  edit ECF_HOME '/home/map/ecflow_server'\n",
      "  edit ECF_FILES '/home/map/ecflow_server/files'\n",
      "  edit ECF_INCLUDE '/home/map/ecflow_server/include'\n",
      "  calendar initTime:2019-Jan-15 21:39:46 suiteTime:2020-Jan-15 21:39:46 duration:8760:00:00 initLocalTime:2019-Jan-15 21:39:46 lastTime:2019-Jan-15 21:39:46 calendarIncrement:01:00:00\n",
      "  family 00 # state:queued\n",
      "    edit CYCLE '00'\n",
      "    edit LAST_STEP '24'\n",
      "    family analysis # state:queued\n",
      "      task get_observations # state:queued\n",
      "      task run_analysis # state:queued\n",
      "        trigger get_observations == complete\n",
      "      task post_processing # state:queued\n",
      "        trigger run_analysis == complete\n",
      "    endfamily\n",
      "    family forecast # state:queued\n",
      "      trigger analysis == complete\n",
      "      task get_input_data # state:queued\n",
      "        label info \"\"\n",
      "      task run_forecast # state:queued\n",
      "        trigger get_input_data == complete\n",
      "        meter step 0 24 24\n",
      "    endfamily\n",
      "    family archive # state:queued\n",
      "      family analysis # state:queued\n",
      "        trigger ../analysis/run_analysis == complete\n",
      "        edit TYPE 'analysis'\n",
      "        edit STEP '0'\n",
      "        task save # state:queued\n",
      "        family step_06 # state:queued\n",
      "          trigger ../../forecast/run_forecast:step ge 6\n",
      "          edit TYPE 'forecast'\n",
      "          edit STEP '6'\n",
      "          task save # state:queued\n",
      "        endfamily\n",
      "        family step_12 # state:queued\n",
      "          trigger ../../forecast/run_forecast:step ge 12\n",
      "          edit TYPE 'forecast'\n",
      "          edit STEP '12'\n",
      "          task save # state:queued\n",
      "        endfamily\n",
      "        family step_18 # state:queued\n",
      "          trigger ../../forecast/run_forecast:step ge 18\n",
      "          edit TYPE 'forecast'\n",
      "          edit STEP '18'\n",
      "          task save # state:queued\n",
      "        endfamily\n",
      "        family step_24 # state:queued\n",
      "          trigger ../../forecast/run_forecast:step ge 24\n",
      "          edit TYPE 'forecast'\n",
      "          edit STEP '24'\n",
      "          task save # state:queued\n",
      "        endfamily\n",
      "      endfamily\n",
      "    endfamily\n",
      "  endfamily\n",
      "  family 12 # state:queued\n",
      "    trigger ./00==complete\n",
      "    edit CYCLE '12'\n",
      "    edit LAST_STEP '240'\n",
      "    family analysis # state:queued\n",
      "      task get_observations # state:queued\n",
      "      task run_analysis # state:queued\n",
      "        trigger get_observations == complete\n",
      "      task post_processing # state:queued\n",
      "        trigger run_analysis == complete\n",
      "    endfamily\n",
      "    family forecast # state:queued\n",
      "      trigger analysis == complete\n",
      "      task get_input_data # state:queued\n",
      "        label info \"\"\n",
      "      task run_forecast # state:queued\n",
      "        trigger get_input_data == complete\n",
      "        meter step 0 240 240\n",
      "    endfamily\n",
      "    family archive # state:queued\n",
      "      family analysis # state:queued\n",
      "        trigger ../analysis/run_analysis == complete\n",
      "        edit TYPE 'analysis'\n",
      "        edit STEP '0'\n",
      "        task save # state:queued\n",
      "        family step_06 # state:queued\n",
      "          trigger ../../forecast/run_forecast:step ge 6\n",
      "          edit TYPE 'forecast'\n",
      "          edit STEP '6'\n",
      "          task save # state:queued\n",
      "        endfamily\n",
      "        family step_12 # state:queued\n",
      "          trigger ../../forecast/run_forecast:step ge 12\n",
      "          edit TYPE 'forecast'\n",
      "          edit STEP '12'\n",
      "          task save # state:queued\n",
      "        endfamily\n",
      "        family step_18 # state:queued\n",
      "          trigger ../../forecast/run_forecast:step ge 18\n",
      "          edit TYPE 'forecast'\n",
      "          edit STEP '18'\n",
      "          task save # state:queued\n",
      "        endfamily\n",
      "        family step_24 # state:queued\n",
      "          trigger ../../forecast/run_forecast:step ge 24\n",
      "          edit TYPE 'forecast'\n",
      "          edit STEP '24'\n",
      "          task save # state:queued\n",
      "        endfamily\n",
      "        family step_30 # state:queued\n",
      "          trigger ../../forecast/run_forecast:step ge 30\n",
      "          edit TYPE 'forecast'\n",
      "          edit STEP '30'\n",
      "          task save # state:queued\n",
      "        endfamily\n",
      "        family step_36 # state:queued\n",
      "          trigger ../../forecast/run_forecast:step ge 36\n",
      "          edit TYPE 'forecast'\n",
      "          edit STEP '36'\n",
      "          task save # state:queued\n",
      "        endfamily\n",
      "        family step_42 # state:queued\n",
      "          trigger ../../forecast/run_forecast:step ge 42\n",
      "          edit TYPE 'forecast'\n",
      "          edit STEP '42'\n",
      "          task save # state:queued\n",
      "        endfamily\n",
      "        family step_48 # state:queued\n",
      "          trigger ../../forecast/run_forecast:step ge 48\n",
      "          edit TYPE 'forecast'\n",
      "          edit STEP '48'\n",
      "          task save # state:queued\n",
      "        endfamily\n",
      "        family step_54 # state:queued\n",
      "          trigger ../../forecast/run_forecast:step ge 54\n",
      "          edit TYPE 'forecast'\n",
      "          edit STEP '54'\n",
      "          task save # state:queued\n",
      "        endfamily\n",
      "        family step_60 # state:queued\n",
      "          trigger ../../forecast/run_forecast:step ge 60\n",
      "          edit TYPE 'forecast'\n",
      "          edit STEP '60'\n",
      "          task save # state:queued\n",
      "        endfamily\n",
      "        family step_66 # state:queued\n",
      "          trigger ../../forecast/run_forecast:step ge 66\n",
      "          edit TYPE 'forecast'\n",
      "          edit STEP '66'\n",
      "          task save # state:queued\n",
      "        endfamily\n",
      "        family step_72 # state:queued\n",
      "          trigger ../../forecast/run_forecast:step ge 72\n",
      "          edit TYPE 'forecast'\n",
      "          edit STEP '72'\n",
      "          task save # state:queued\n",
      "        endfamily\n",
      "        family step_78 # state:queued\n",
      "          trigger ../../forecast/run_forecast:step ge 78\n",
      "          edit TYPE 'forecast'\n",
      "          edit STEP '78'\n",
      "          task save # state:queued\n",
      "        endfamily\n",
      "        family step_84 # state:queued\n",
      "          trigger ../../forecast/run_forecast:step ge 84\n",
      "          edit TYPE 'forecast'\n",
      "          edit STEP '84'\n",
      "          task save # state:queued\n",
      "        endfamily\n",
      "        family step_90 # state:queued\n",
      "          trigger ../../forecast/run_forecast:step ge 90\n",
      "          edit TYPE 'forecast'\n",
      "          edit STEP '90'\n",
      "          task save # state:queued\n",
      "        endfamily\n",
      "        family step_96 # state:queued\n",
      "          trigger ../../forecast/run_forecast:step ge 96\n",
      "          edit TYPE 'forecast'\n",
      "          edit STEP '96'\n",
      "          task save # state:queued\n",
      "        endfamily\n",
      "        family step_102 # state:queued\n",
      "          trigger ../../forecast/run_forecast:step ge 102\n",
      "          edit TYPE 'forecast'\n",
      "          edit STEP '102'\n",
      "          task save # state:queued\n",
      "        endfamily\n",
      "        family step_108 # state:queued\n",
      "          trigger ../../forecast/run_forecast:step ge 108\n",
      "          edit TYPE 'forecast'\n",
      "          edit STEP '108'\n",
      "          task save # state:queued\n",
      "        endfamily\n",
      "        family step_114 # state:queued\n",
      "          trigger ../../forecast/run_forecast:step ge 114\n",
      "          edit TYPE 'forecast'\n",
      "          edit STEP '114'\n",
      "          task save # state:queued\n",
      "        endfamily\n",
      "        family step_120 # state:queued\n",
      "          trigger ../../forecast/run_forecast:step ge 120\n",
      "          edit TYPE 'forecast'\n",
      "          edit STEP '120'\n",
      "          task save # state:queued\n",
      "        endfamily\n",
      "        family step_126 # state:queued\n",
      "          trigger ../../forecast/run_forecast:step ge 126\n",
      "          edit TYPE 'forecast'\n",
      "          edit STEP '126'\n",
      "          task save # state:queued\n",
      "        endfamily\n",
      "        family step_132 # state:queued\n",
      "          trigger ../../forecast/run_forecast:step ge 132\n",
      "          edit TYPE 'forecast'\n",
      "          edit STEP '132'\n",
      "          task save # state:queued\n",
      "        endfamily\n",
      "        family step_138 # state:queued\n",
      "          trigger ../../forecast/run_forecast:step ge 138\n",
      "          edit TYPE 'forecast'\n",
      "          edit STEP '138'\n",
      "          task save # state:queued\n",
      "        endfamily\n",
      "        family step_144 # state:queued\n",
      "          trigger ../../forecast/run_forecast:step ge 144\n",
      "          edit TYPE 'forecast'\n",
      "          edit STEP '144'\n",
      "          task save # state:queued\n",
      "        endfamily\n",
      "        family step_150 # state:queued\n",
      "          trigger ../../forecast/run_forecast:step ge 150\n",
      "          edit TYPE 'forecast'\n",
      "          edit STEP '150'\n",
      "          task save # state:queued\n",
      "        endfamily\n",
      "        family step_156 # state:queued\n",
      "          trigger ../../forecast/run_forecast:step ge 156\n",
      "          edit TYPE 'forecast'\n",
      "          edit STEP '156'\n",
      "          task save # state:queued\n",
      "        endfamily\n",
      "        family step_162 # state:queued\n",
      "          trigger ../../forecast/run_forecast:step ge 162\n",
      "          edit TYPE 'forecast'\n",
      "          edit STEP '162'\n",
      "          task save # state:queued\n",
      "        endfamily\n",
      "        family step_168 # state:queued\n",
      "          trigger ../../forecast/run_forecast:step ge 168\n",
      "          edit TYPE 'forecast'\n",
      "          edit STEP '168'\n",
      "          task save # state:queued\n",
      "        endfamily\n",
      "        family step_174 # state:queued\n",
      "          trigger ../../forecast/run_forecast:step ge 174\n",
      "          edit TYPE 'forecast'\n",
      "          edit STEP '174'\n",
      "          task save # state:queued\n",
      "        endfamily\n",
      "        family step_180 # state:queued\n",
      "          trigger ../../forecast/run_forecast:step ge 180\n",
      "          edit TYPE 'forecast'\n",
      "          edit STEP '180'\n",
      "          task save # state:queued\n",
      "        endfamily\n",
      "        family step_186 # state:queued\n",
      "          trigger ../../forecast/run_forecast:step ge 186\n",
      "          edit TYPE 'forecast'\n",
      "          edit STEP '186'\n",
      "          task save # state:queued\n",
      "        endfamily\n",
      "        family step_192 # state:queued\n",
      "          trigger ../../forecast/run_forecast:step ge 192\n",
      "          edit TYPE 'forecast'\n",
      "          edit STEP '192'\n",
      "          task save # state:queued\n",
      "        endfamily\n",
      "        family step_198 # state:queued\n",
      "          trigger ../../forecast/run_forecast:step ge 198\n",
      "          edit TYPE 'forecast'\n",
      "          edit STEP '198'\n",
      "          task save # state:queued\n",
      "        endfamily\n",
      "        family step_204 # state:queued\n",
      "          trigger ../../forecast/run_forecast:step ge 204\n",
      "          edit TYPE 'forecast'\n",
      "          edit STEP '204'\n",
      "          task save # state:queued\n",
      "        endfamily\n",
      "        family step_210 # state:queued\n",
      "          trigger ../../forecast/run_forecast:step ge 210\n",
      "          edit TYPE 'forecast'\n",
      "          edit STEP '210'\n",
      "          task save # state:queued\n",
      "        endfamily\n",
      "        family step_216 # state:queued\n",
      "          trigger ../../forecast/run_forecast:step ge 216\n",
      "          edit TYPE 'forecast'\n",
      "          edit STEP '216'\n",
      "          task save # state:queued\n",
      "        endfamily\n",
      "        family step_222 # state:queued\n",
      "          trigger ../../forecast/run_forecast:step ge 222\n",
      "          edit TYPE 'forecast'\n",
      "          edit STEP '222'\n",
      "          task save # state:queued\n",
      "        endfamily\n",
      "        family step_228 # state:queued\n",
      "          trigger ../../forecast/run_forecast:step ge 228\n",
      "          edit TYPE 'forecast'\n",
      "          edit STEP '228'\n",
      "          task save # state:queued\n",
      "        endfamily\n",
      "        family step_234 # state:queued\n",
      "          trigger ../../forecast/run_forecast:step ge 234\n",
      "          edit TYPE 'forecast'\n",
      "          edit STEP '234'\n",
      "          task save # state:queued\n",
      "        endfamily\n",
      "        family step_240 # state:queued\n",
      "          trigger ../../forecast/run_forecast:step ge 240\n",
      "          edit TYPE 'forecast'\n",
      "          edit STEP '240'\n",
      "          task save # state:queued\n",
      "        endfamily\n",
      "      endfamily\n",
      "    endfamily\n",
      "  endfamily\n",
      "endsuite\n",
      "# enddef\n",
      "\n"
     ]
    }
   ],
   "source": [
    "%run src/el42_operational_suite_solution.py > /dev/null 2>&1\n",
    "%pycat src/el42_operational_suite_solution.py"
   ]
  },
  {
   "cell_type": "markdown",
   "metadata": {
    "slideshow": {
     "slide_type": "slide"
    }
   },
   "source": [
    "## All together"
   ]
  },
  {
   "cell_type": "code",
   "execution_count": 62,
   "metadata": {},
   "outputs": [
    {
     "name": "stdout",
     "output_type": "stream",
     "text": [
      "Defs file elearning.def\n",
      "  suite '/elearning has not completed\n",
      "Please see files .flat and .depth for analysis\n",
      "# 4.12.0\n",
      "defs_state MIGRATE\n",
      "  edit ECF_MICRO '%' # server\n",
      "  edit ECF_HOME '.' # server\n",
      "  edit ECF_JOB_CMD '%ECF_JOB% 1> %ECF_JOBOUT% 2>&1' # server\n",
      "  edit ECF_KILL_CMD 'kill -15 %ECF_RID%' # server\n",
      "  edit ECF_STATUS_CMD 'ps --pid %ECF_RID% -f > %ECF_JOB%.stat 2>&1' # server\n",
      "  edit ECF_URL_CMD '${BROWSER:=firefox} -remote 'openURL(%ECF_URL_BASE%/%ECF_URL%)'' # server\n",
      "  edit ECF_URL_BASE 'https://software.ecmwf.int' # server\n",
      "  edit ECF_URL 'wiki/display/ECFLOW/Home' # server\n",
      "  edit ECF_LOG 'eowyn.3141.ecf.log' # server\n",
      "  edit ECF_INTERVAL '60' # server\n",
      "  edit ECF_LISTS 'eowyn.3141.ecf.lists' # server\n",
      "  edit ECF_CHECK 'eowyn.3141.ecf.check' # server\n",
      "  edit ECF_CHECKOLD 'eowyn.3141.ecf.check.b' # server\n",
      "  edit ECF_CHECKINTERVAL '120' # server\n",
      "  edit ECF_CHECKMODE 'CHECK_ON_TIME' # server\n",
      "  edit ECF_TRIES '2' # server\n",
      "  edit ECF_VERSION '4.12.0' # server\n",
      "  edit ECF_PORT '3141' # server\n",
      "  edit ECF_NODE '%ECF_HOST%' # server\n",
      "  edit ECF_HOST 'localhost' # server\n",
      "suite elearning #  begun:1 state:queued suspended:1\n",
      "  defstatus suspended\n",
      "  edit ECF_INCLUDE '/home/map/ecflow_server'\n",
      "  edit ECF_HOME '/home/map/ecflow_server'\n",
      "  edit ECF_FILES '/home/map/ecflow_server'\n",
      "  clock real \n",
      "  calendar initTime:2019-Jan-15 21:39:50 suiteTime:2020-Jan-15 21:39:50 duration:8760:00:00 initLocalTime:2019-Jan-15 21:39:50 lastTime:2019-Jan-15 21:39:50 calendarIncrement:00:01:00\n",
      "  family f1 # state:queued\n",
      "    task t1 # state:queued\n",
      "      label info \"\"\n",
      "      meter step -1 100 100\n",
      "      event 1 \n",
      "    task t2 # state:queued\n",
      "      late -c 01:00\n",
      "      trigger t1:step gt 0\n",
      "      meter step -1 100 100\n",
      "      event 0 a\n",
      "      event 0 b\n",
      "    task t3 # state:queued\n",
      "      trigger t2:a\n",
      "    task t4 # state:queued\n",
      "      complete t2:b\n",
      "      trigger t2 eq complete and not t2:b\n",
      "  endfamily\n",
      "  family f2 # state:queued\n",
      "    task t1 # state:queued\n",
      "      time 00:30 23:30 00:30 # free nextTimeSlot/22:00\n",
      "    task t2 # state:queued\n",
      "      day sunday\n",
      "    task t3 # state:queued\n",
      "      time 12:00 # free\n",
      "      date 1.*.*\n",
      "    task t4 # state:queued\n",
      "      time +00:02 # free relativeDuration/00:02:00\n",
      "    task t5 # state:queued\n",
      "      time 00:02 # free\n",
      "  endfamily\n",
      "  family visualise # state:queued\n",
      "    family if_then_else # state:queued\n",
      "      task if # state:queued\n",
      "        event 1 \n",
      "      task then # state:queued\n",
      "        complete if==complete and not if:1\n",
      "        trigger if:1\n",
      "      task else # state:queued\n",
      "        complete if:1\n",
      "        trigger if eq complete and not if:1\n",
      "    endfamily\n",
      "    family if # state:queued\n",
      "      task model # state:queued\n",
      "        event 1 \n",
      "    endfamily\n",
      "    family then # state:queued\n",
      "      complete if eq complete and not if/model:1\n",
      "      trigger if/model:1\n",
      "      task model # state:queued\n",
      "    endfamily\n",
      "    family else # state:queued\n",
      "      complete if/model:1\n",
      "      trigger if eq complete and not if/model:1\n",
      "      task model # state:queued\n",
      "    endfamily\n",
      "    family case_var # state:queued\n",
      "      task case # state:complete\n",
      "        defstatus complete\n",
      "        edit VAR '1'\n",
      "      task when_1 # state:queued\n",
      "        complete case:VAR != 1\n",
      "        trigger case:VAR == 1\n",
      "      task when_2 # state:queued\n",
      "        complete case:VAR ne 2\n",
      "        trigger case:VAR eq 2\n",
      "    endfamily\n",
      "    family case_meter # state:queued\n",
      "      task case # state:queued\n",
      "        meter STEP -1 48 48\n",
      "      task when_1 # state:queued\n",
      "        complete case==complete\n",
      "        trigger case:STEP eq 1\n",
      "      task when_2 # state:queued\n",
      "        complete case eq complete\n",
      "        trigger case:STEP eq 2\n",
      "    endfamily\n",
      "    family process # state:queued\n",
      "      trigger process ne aborted\n",
      "      family daily # state:queued\n",
      "        repeat date YMD 20180101 20321212 1\n",
      "        task simple # state:queued\n",
      "        family decade # state:queued\n",
      "          complete ../daily:YMD % 10 ne 0\n",
      "          label info \"Show-Icons-Complete\"\n",
      "          task simple # state:queued\n",
      "        endfamily\n",
      "      endfamily\n",
      "      family monthly # state:queued\n",
      "        trigger monthly:YM lt daily:YMD / 100 or daily eq complete\n",
      "        repeat enumerated YM \"201801\" \"201802\" \"201803\" \"201804\" \"201805\" \"201806\" \"201807\" \"201808\" \"201809\" \"201810\" \"201811\" \"201812\" \"201901\" \"201902\" \"201903\" \"201904\" \"201905\" \"201906\" \"201907\" \"201908\" \"201909\" \"201910\" \"201911\" \"201912\" \"202001\" \"202002\" \"202003\" \"202004\" \"202005\" \"202006\" \"202007\" \"202008\" \"202009\" \"202010\" \"202011\" \"202012\" \"202101\" \"202102\" \"202103\" \"202104\" \"202105\" \"202106\" \"202107\" \"202108\" \"202109\" \"202110\" \"202111\" \"202112\" \"202201\" \"202202\" \"202203\" \"202204\" \"202205\" \"202206\" \"202207\" \"202208\" \"202209\" \"202210\" \"202211\" \"202212\" \"202301\" \"202302\" \"202303\" \"202304\" \"202305\" \"202306\" \"202307\" \"202308\" \"202309\" \"202310\" \"202311\" \"202312\" \"202401\" \"202402\" \"202403\" \"202404\" \"202405\" \"202406\" \"202407\" \"202408\" \"202409\" \"202410\" \"202411\" \"202412\" \"202501\" \"202502\" \"202503\" \"202504\" \"202505\" \"202506\" \"202507\" \"202508\" \"202509\" \"202510\" \"202511\" \"202512\" \"202601\" \"202602\" \"202603\" \"202604\" \"202605\" \"202606\" \"202607\" \"202608\" \"202609\" \"202610\" \"202611\" \"202612\" \"202701\" \"202702\" \"202703\" \"202704\" \"202705\" \"202706\" \"202707\" \"202708\" \"202709\" \"202710\" \"202711\" \"202712\" \"202801\" \"202802\" \"202803\" \"202804\" \"202805\" \"202806\" \"202807\" \"202808\" \"202809\" \"202810\" \"202811\" \"202812\" \"202901\" \"202902\" \"202903\" \"202904\" \"202905\" \"202906\" \"202907\" \"202908\" \"202909\" \"202910\" \"202911\" \"202912\" \"203001\" \"203002\" \"203003\" \"203004\" \"203005\" \"203006\" \"203007\" \"203008\" \"203009\" \"203010\" \"203011\" \"203012\" \"203101\" \"203102\" \"203103\" \"203104\" \"203105\" \"203106\" \"203107\" \"203108\" \"203109\" \"203110\" \"203111\" \"203112\" \"203201\" \"203202\" \"203203\" \"203204\" \"203205\" \"203206\" \"203207\" \"203208\" \"203209\" \"203210\" \"203211\" \"203212\"\n",
      "        task simple # state:queued\n",
      "        family odd # state:queued\n",
      "          complete ../monthly:YM % 2 eq 0\n",
      "          task simple # state:queued\n",
      "        endfamily\n",
      "      endfamily\n",
      "      family yearly # state:queued\n",
      "        trigger yearly:Y lt daily:YMD / 10000 or daily eq complete\n",
      "        repeat integer Y 2018 2032\n",
      "        task simple # state:queued\n",
      "        family decade # state:queued\n",
      "          complete (../yearly:Y % 10) ne 0\n",
      "          task simple # state:queued\n",
      "        endfamily\n",
      "        family century # state:queued\n",
      "          complete (../yearly:Y % 100) ne 0\n",
      "          task simple # state:queued\n",
      "        endfamily\n",
      "      endfamily\n",
      "    endfamily\n",
      "    family for # state:queued\n",
      "      repeat integer STEP 1 240 3\n",
      "      task process # state:queued\n",
      "    endfamily\n",
      "    family loop # state:queued\n",
      "      repeat string PARAM \"u\" \"v\" \"t\" \"r\" \"q\" \"w\"\n",
      "      task process # state:queued\n",
      "    endfamily\n",
      "    family parallel # state:queued\n",
      "      limit lim 2\n",
      "      inlimit lim\n",
      "      family u # state:queued\n",
      "        edit PARAM 'u'\n",
      "        task process # state:queued\n",
      "          label info \"u\"\n",
      "      endfamily\n",
      "      family v # state:queued\n",
      "        edit PARAM 'v'\n",
      "        task process # state:queued\n",
      "          label info \"v\"\n",
      "      endfamily\n",
      "      family t # state:queued\n",
      "        edit PARAM 't'\n",
      "        task process # state:queued\n",
      "          label info \"t\"\n",
      "      endfamily\n",
      "      family r # state:queued\n",
      "        edit PARAM 'r'\n",
      "        task process # state:queued\n",
      "          label info \"r\"\n",
      "      endfamily\n",
      "      family q # state:queued\n",
      "        edit PARAM 'q'\n",
      "        task process # state:queued\n",
      "          label info \"q\"\n",
      "      endfamily\n",
      "      family w # state:queued\n",
      "        edit PARAM 'w'\n",
      "        task process # state:queued\n",
      "          label info \"w\"\n",
      "      endfamily\n",
      "    endfamily\n",
      "    family explode # state:queued\n",
      "      limit lim 2\n",
      "      inlimit lim\n",
      "      task t1 # state:queued\n",
      "      task t2 # state:queued\n",
      "      task t3 # state:queued\n",
      "      task t4 # state:queued\n",
      "      task t5 # state:queued\n",
      "    endfamily\n",
      "  endfamily\n",
      "endsuite\n",
      "# enddef\n",
      "\n"
     ]
    }
   ],
   "source": [
    "%run src/el51_gallery_suite_example.py > /dev/null 2>&1"
   ]
  },
  {
   "cell_type": "code",
   "execution_count": 63,
   "metadata": {},
   "outputs": [],
   "source": [
    "%pycat src/el51_gallery_suite_example.py"
   ]
  },
  {
   "cell_type": "markdown",
   "metadata": {
    "slideshow": {
     "slide_type": "slide"
    }
   },
   "source": [
    "# Resources"
   ]
  },
  {
   "cell_type": "markdown",
   "metadata": {},
   "source": [
    "Confluence ecFlow https://software.ecmwf.int/wiki/display/ECFLOW/ecflow+home\n",
    "\n",
    "ecFlow, one page, https://software.ecmwf.int/wiki/display/ECFLOW/ecFlow@ECMWF\n",
    "Tutorial, https://software.ecmwf.int/wiki/display/ECFLOW/Tutorial\n",
    "User Manual, https://software.ecmwf.int/wiki/display/ECFLOW/User+Manual\n",
    "Cookbook, https://software.ecmwf.int/wiki/display/ECFLOW/Cookbook\n",
    "Source code, https://software.ecmwf.int/stash/projects/ECFLOW/repos/ecflow/browse"
   ]
  },
  {
   "cell_type": "markdown",
   "metadata": {},
   "source": [
    "https://software.ecmwf.int/stash/projects/ECFLOW/repos/elearning/browse"
   ]
  },
  {
   "cell_type": "markdown",
   "metadata": {
    "slideshow": {
     "slide_type": "slide"
    }
   },
   "source": [
    "# Glossary"
   ]
  },
  {
   "cell_type": "markdown",
   "metadata": {},
   "source": [
    "https://software.ecmwf.int/wiki/display/ECFLOW/Glossary"
   ]
  }
 ],
 "metadata": {
  "celltoolbar": "Slideshow",
  "kernelspec": {
   "display_name": "Python 3",
   "language": "python",
   "name": "python3"
  },
  "language_info": {
   "codemirror_mode": {
    "name": "ipython",
    "version": 3
   },
   "file_extension": ".py",
   "mimetype": "text/x-python",
   "name": "python",
   "nbconvert_exporter": "python",
   "pygments_lexer": "ipython3",
   "version": "3.6.7"
  }
 },
 "nbformat": 4,
 "nbformat_minor": 2
}
